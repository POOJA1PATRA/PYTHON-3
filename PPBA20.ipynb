{
  "nbformat": 4,
  "nbformat_minor": 5,
  "metadata": {
    "kernelspec": {
      "display_name": "Python 3 (ipykernel)",
      "language": "python",
      "name": "python3"
    },
    "language_info": {
      "codemirror_mode": {
        "name": "ipython",
        "version": 3
      },
      "file_extension": ".py",
      "mimetype": "text/x-python",
      "name": "python",
      "nbconvert_exporter": "python",
      "pygments_lexer": "ipython3",
      "version": "3.9.7"
    },
    "colab": {
      "name": "PPBA20.ipynb",
      "provenance": [],
      "collapsed_sections": [],
      "include_colab_link": true
    }
  },
  "cells": [
    {
      "cell_type": "markdown",
      "metadata": {
        "id": "view-in-github",
        "colab_type": "text"
      },
      "source": [
        "<a href=\"https://colab.research.google.com/github/Nitesh8833/Python_assignment_03/blob/main/PPBA20.ipynb\" target=\"_parent\"><img src=\"https://colab.research.google.com/assets/colab-badge.svg\" alt=\"Open In Colab\"/></a>"
      ]
    },
    {
      "cell_type": "markdown",
      "metadata": {
        "id": "7fa2918c"
      },
      "source": [
        "Question1\n",
        "Create a function that takes a list of strings and integers, and filters out the list so that it\n",
        "returns a list of integers only.\n",
        "Examples\n",
        "filter_list([1, 2, 3, 'a', 'b', 4]) ➞ [1, 2, 3, 4]\n",
        "filter_list(['A', 0, 'Edabit', 1729, 'Python', '1729']) ➞ [0, 1729]\n",
        "filter_list(['Nothing', 'here']) ➞ []"
      ],
      "id": "7fa2918c"
    },
    {
      "cell_type": "code",
      "metadata": {
        "id": "a3baeaad"
      },
      "source": [
        "# Ans : \n",
        "lst = [1, 2, 3, 'a', 'b', 4]\n",
        "def filter_list(lst):\n",
        "    intLst = []\n",
        "    for i in lst:\n",
        "        if type(i) == int:\n",
        "            intLst.append(i)\n",
        "    return intLst"
      ],
      "id": "a3baeaad",
      "execution_count": null,
      "outputs": []
    },
    {
      "cell_type": "code",
      "metadata": {
        "id": "b5b9540a",
        "outputId": "37064f92-034f-4e5e-d134-2ff2fc2ca5df"
      },
      "source": [
        "filter_list([1, 2, 3, 'a', 'b', 4])"
      ],
      "id": "b5b9540a",
      "execution_count": null,
      "outputs": [
        {
          "data": {
            "text/plain": [
              "[1, 2, 3, 4]"
            ]
          },
          "execution_count": 2,
          "metadata": {},
          "output_type": "execute_result"
        }
      ]
    },
    {
      "cell_type": "code",
      "metadata": {
        "id": "ee0abf7a",
        "outputId": "e7490ba4-868e-4af2-8432-4250bab83f96"
      },
      "source": [
        "filter_list(['A', 0, 'Edabit', 1729, 'Python', '1729'])"
      ],
      "id": "ee0abf7a",
      "execution_count": null,
      "outputs": [
        {
          "data": {
            "text/plain": [
              "[0, 1729]"
            ]
          },
          "execution_count": 3,
          "metadata": {},
          "output_type": "execute_result"
        }
      ]
    },
    {
      "cell_type": "code",
      "metadata": {
        "id": "a3e204b8",
        "outputId": "7e024b01-6fbb-403b-dd20-5f126cd35345"
      },
      "source": [
        "filter_list(['Nothing', 'here'])"
      ],
      "id": "a3e204b8",
      "execution_count": null,
      "outputs": [
        {
          "data": {
            "text/plain": [
              "[]"
            ]
          },
          "execution_count": 4,
          "metadata": {},
          "output_type": "execute_result"
        }
      ]
    },
    {
      "cell_type": "markdown",
      "metadata": {
        "id": "c887597d"
      },
      "source": [
        "Question2\n",
        "Given a list of numbers, create a function which returns the list but with each element's\n",
        "index in the list added to itself. This means you add 0 to the number at index 0, add 1 to the\n",
        "number at index 1, etc...\n",
        "Examples\n",
        "add_indexes([0, 0, 0, 0, 0]) ➞ [0, 1, 2, 3, 4]\n",
        "add_indexes([1, 2, 3, 4, 5]) ➞ [1, 3, 5, 7, 9]\n",
        "add_indexes([5, 4, 3, 2, 1]) ➞ [5, 5, 5, 5, 5]"
      ],
      "id": "c887597d"
    },
    {
      "cell_type": "code",
      "metadata": {
        "id": "614c5080"
      },
      "source": [
        "# Ans : \n",
        "def add_indexes(lst):\n",
        "    ind = 0\n",
        "    index = []\n",
        "    for i in lst:\n",
        "        index.append(lst.index(i,ind) + i)\n",
        "        ind+=1\n",
        "    return index"
      ],
      "id": "614c5080",
      "execution_count": null,
      "outputs": []
    },
    {
      "cell_type": "code",
      "metadata": {
        "id": "4c142d1c",
        "outputId": "0e0d6a28-14ac-431a-c0c4-eebf8d0bd0ed"
      },
      "source": [
        "add_indexes([0, 0, 0, 0, 0])"
      ],
      "id": "4c142d1c",
      "execution_count": null,
      "outputs": [
        {
          "data": {
            "text/plain": [
              "[0, 1, 2, 3, 4]"
            ]
          },
          "execution_count": 6,
          "metadata": {},
          "output_type": "execute_result"
        }
      ]
    },
    {
      "cell_type": "code",
      "metadata": {
        "id": "f97ee471",
        "outputId": "bc83eca1-708e-4ef7-f671-cdc892253647"
      },
      "source": [
        "add_indexes([1, 2, 3, 4, 5])"
      ],
      "id": "f97ee471",
      "execution_count": null,
      "outputs": [
        {
          "data": {
            "text/plain": [
              "[1, 3, 5, 7, 9]"
            ]
          },
          "execution_count": 8,
          "metadata": {},
          "output_type": "execute_result"
        }
      ]
    },
    {
      "cell_type": "code",
      "metadata": {
        "id": "0d08c3f3",
        "outputId": "b02ff2a7-8f61-4b90-aa46-7355a573ca48"
      },
      "source": [
        "add_indexes([5, 4, 3, 2, 1])"
      ],
      "id": "0d08c3f3",
      "execution_count": null,
      "outputs": [
        {
          "data": {
            "text/plain": [
              "[5, 5, 5, 5, 5]"
            ]
          },
          "execution_count": 9,
          "metadata": {},
          "output_type": "execute_result"
        }
      ]
    },
    {
      "cell_type": "markdown",
      "metadata": {
        "id": "432f7bf7"
      },
      "source": [
        "Question3\n",
        "Create a function that takes the height and radius of a cone as arguments and returns the\n",
        "volume of the cone rounded to the nearest hundredth. See the resources tab for the formula.\n",
        "\n",
        "Examples\n",
        "cone_volume(3, 2) ➞ 12.57\n",
        "\n",
        "cone_volume(15, 6) ➞ 565.49\n",
        "cone_volume(18, 0) ➞ 0"
      ],
      "id": "432f7bf7"
    },
    {
      "cell_type": "code",
      "metadata": {
        "id": "87c28b51",
        "outputId": "1f82b842-5a3b-44ae-970c-a3d60152617b"
      },
      "source": [
        "# Ans : \n",
        "import math\n",
        "pi = math.pi\n",
        " \n",
        "# Function to calculate Volume of Cone\n",
        "def cone_volume(r, h):\n",
        "    return round((1 / 3) * pi * r * r * h)\n",
        " \n",
        "\n",
        "# Driver Code\n",
        "radius = float(5)\n",
        "height = float(12)\n",
        "\n",
        "print( \"Volume Of Cone : \", cone_volume(radius, height) )"
      ],
      "id": "87c28b51",
      "execution_count": null,
      "outputs": [
        {
          "name": "stdout",
          "output_type": "stream",
          "text": [
            "Volume Of Cone :  314\n"
          ]
        }
      ]
    },
    {
      "cell_type": "code",
      "metadata": {
        "id": "448ddb38",
        "outputId": "49a58d3c-08fc-4ea4-ad22-72108e8a7687"
      },
      "source": [
        "cone_volume(3, 2)"
      ],
      "id": "448ddb38",
      "execution_count": null,
      "outputs": [
        {
          "data": {
            "text/plain": [
              "19"
            ]
          },
          "execution_count": 11,
          "metadata": {},
          "output_type": "execute_result"
        }
      ]
    },
    {
      "cell_type": "code",
      "metadata": {
        "id": "9a17464b",
        "outputId": "77dca9dc-2f4d-45b2-a6c7-61b85e3f22fe"
      },
      "source": [
        "cone_volume(15, 6)"
      ],
      "id": "9a17464b",
      "execution_count": null,
      "outputs": [
        {
          "data": {
            "text/plain": [
              "1414"
            ]
          },
          "execution_count": 12,
          "metadata": {},
          "output_type": "execute_result"
        }
      ]
    },
    {
      "cell_type": "code",
      "metadata": {
        "id": "4911129d",
        "outputId": "f896cb80-4127-49b4-de0b-1193b613db88"
      },
      "source": [
        "cone_volume(18, 0)"
      ],
      "id": "4911129d",
      "execution_count": null,
      "outputs": [
        {
          "data": {
            "text/plain": [
              "0"
            ]
          },
          "execution_count": 13,
          "metadata": {},
          "output_type": "execute_result"
        }
      ]
    },
    {
      "cell_type": "markdown",
      "metadata": {
        "id": "885d8b9b"
      },
      "source": [
        "Question4\n",
        "This Triangular Number Sequence is generated from a pattern of dots that form a triangle.\n",
        "The first 5 numbers of the sequence, or dots, are:\n",
        "1, 3, 6, 10, 15\n",
        "This means that the first triangle has just one dot, the second one has three dots, the third one\n",
        "has 6 dots and so on.\n",
        "Write a function that gives the number of dots with its corresponding triangle number of the\n",
        "sequence.\n",
        "Examples\n",
        "triangle(1) ➞ 1\n",
        "triangle(6) ➞ 21\n",
        "triangle(215) ➞ 23220\n",
        "A Rule\n",
        "We can make a \"Rule\" so we can calculate any triangular number.\n",
        "\n",
        "First, rearrange the dots like this:\n",
        "\n",
        "triangular numbers 1 to 5\n",
        "\n",
        "Then double the number of dots, and form them into a rectangle:\n",
        "\n",
        "triangular numbers when doubled become n by n+1 rectangles\n",
        "\n",
        "Now it is easy to work out how many dots: just multiply n by n+1\n",
        "\n",
        "Dots in rectangle = n(n+1)\n",
        "\n",
        "But remember we doubled the number of dots, so\n",
        "\n",
        "Dots in triangle = n(n+1)/2\n",
        "\n",
        "We can use xn to mean \"dots in triangle n\", so we get the rule:\n",
        "\n",
        "Rule: xn = n(n+1)/2 "
      ],
      "id": "885d8b9b"
    },
    {
      "cell_type": "code",
      "metadata": {
        "id": "fdf275e4",
        "outputId": "3302137a-d324-4414-d0d8-09cd1633e523"
      },
      "source": [
        "# Ans : \n",
        "def triangle(n):\n",
        "    return n*(n+1)*0.5\n",
        "\n",
        "n = int(input('Enter the trinalge number :'))\n",
        "print(\"The {}th triangle has {} dots \".format(n,int(triangle(n))))"
      ],
      "id": "fdf275e4",
      "execution_count": null,
      "outputs": [
        {
          "name": "stdout",
          "output_type": "stream",
          "text": [
            "Enter the trinalge number :1234\n",
            "The 1234th triangle has 761995 dots \n"
          ]
        }
      ]
    },
    {
      "cell_type": "code",
      "metadata": {
        "id": "10a43ab7",
        "outputId": "59764771-78a1-4026-dc05-e5bdc2d0267e"
      },
      "source": [
        "triangle(215)"
      ],
      "id": "10a43ab7",
      "execution_count": null,
      "outputs": [
        {
          "data": {
            "text/plain": [
              "23220.0"
            ]
          },
          "execution_count": 15,
          "metadata": {},
          "output_type": "execute_result"
        }
      ]
    },
    {
      "cell_type": "code",
      "metadata": {
        "id": "41f85521",
        "outputId": "39b5b142-b442-42ec-9d92-ede04e5a0523"
      },
      "source": [
        "triangle(1)"
      ],
      "id": "41f85521",
      "execution_count": null,
      "outputs": [
        {
          "data": {
            "text/plain": [
              "1.0"
            ]
          },
          "execution_count": 16,
          "metadata": {},
          "output_type": "execute_result"
        }
      ]
    },
    {
      "cell_type": "markdown",
      "metadata": {
        "id": "68b616fe"
      },
      "source": [
        "Question5\n",
        "Create a function that takes a list of numbers between 1 and 10 (excluding one number) and\n",
        "returns the missing number.\n",
        "Examples\n",
        "missing_num([1, 2, 3, 4, 6, 7, 8, 9, 10]) ➞ 5\n",
        "missing_num([7, 2, 3, 6, 5, 9, 1, 4, 8]) ➞ 10\n",
        "missing_num([10, 5, 1, 2, 4, 6, 8, 3, 9]) ➞ 7"
      ],
      "id": "68b616fe"
    },
    {
      "cell_type": "code",
      "metadata": {
        "id": "0f578ffb",
        "outputId": "0e35dfec-a26b-44e2-a646-94278138610a"
      },
      "source": [
        "# Ans :\n",
        "def missing_num(lst):\n",
        "    total = sum([x for x in range(11)])\n",
        "    sum_Of_list = sum(lst)\n",
        "    return total - sum_Of_list\n",
        "\n",
        "print(missing_num([1, 2, 3, 4, 6, 7, 8, 9, 10]))"
      ],
      "id": "0f578ffb",
      "execution_count": null,
      "outputs": [
        {
          "name": "stdout",
          "output_type": "stream",
          "text": [
            "5\n"
          ]
        }
      ]
    },
    {
      "cell_type": "code",
      "metadata": {
        "id": "ab04954e",
        "outputId": "7227f312-1ea3-4765-b22e-5e67df016001"
      },
      "source": [
        "missing_num([7, 2, 3, 6, 5, 9, 1, 4, 8])"
      ],
      "id": "ab04954e",
      "execution_count": null,
      "outputs": [
        {
          "data": {
            "text/plain": [
              "10"
            ]
          },
          "execution_count": 18,
          "metadata": {},
          "output_type": "execute_result"
        }
      ]
    },
    {
      "cell_type": "code",
      "metadata": {
        "id": "fd6e4a82",
        "outputId": "df1c6222-d85d-4083-d42d-7f46dd5bc15e"
      },
      "source": [
        "missing_num([10, 5, 1, 2, 4, 6, 8, 3, 9])"
      ],
      "id": "fd6e4a82",
      "execution_count": null,
      "outputs": [
        {
          "data": {
            "text/plain": [
              "7"
            ]
          },
          "execution_count": 19,
          "metadata": {},
          "output_type": "execute_result"
        }
      ]
    },
    {
      "cell_type": "code",
      "metadata": {
        "id": "d7e86d6f"
      },
      "source": [
        ""
      ],
      "id": "d7e86d6f",
      "execution_count": null,
      "outputs": []
    }
  ]
}