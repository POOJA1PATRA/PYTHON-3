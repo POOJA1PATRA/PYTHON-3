{
  "nbformat": 4,
  "nbformat_minor": 5,
  "metadata": {
    "kernelspec": {
      "display_name": "Python 3 (ipykernel)",
      "language": "python",
      "name": "python3"
    },
    "language_info": {
      "codemirror_mode": {
        "name": "ipython",
        "version": 3
      },
      "file_extension": ".py",
      "mimetype": "text/x-python",
      "name": "python",
      "nbconvert_exporter": "python",
      "pygments_lexer": "ipython3",
      "version": "3.9.7"
    },
    "colab": {
      "name": "PPBA18.ipynb",
      "provenance": [],
      "include_colab_link": true
    }
  },
  "cells": [
    {
      "cell_type": "markdown",
      "metadata": {
        "id": "view-in-github",
        "colab_type": "text"
      },
      "source": [
        "<a href=\"https://colab.research.google.com/github/Nitesh8833/Python_assignment_03/blob/main/PPBA18.ipynb\" target=\"_parent\"><img src=\"https://colab.research.google.com/assets/colab-badge.svg\" alt=\"Open In Colab\"/></a>"
      ]
    },
    {
      "cell_type": "markdown",
      "metadata": {
        "id": "aSCF07LzRzx_"
      },
      "source": [
        "Question 1 Create a function that takes a list of non-negative integers and strings and return a new list without the strings.\n",
        "Examples filter_list([1, 2, \"a\", \"b\"]) ➞ [1, 2] filter_list([1, \"a\", \"b\", 0, 15]) ➞ [1, 0, 15] filter_list([1, 2, \"aasf\", \"1\", \"123\", 123]) ➞ [1, 2, 123]"
      ],
      "id": "aSCF07LzRzx_"
    },
    {
      "cell_type": "code",
      "metadata": {
        "id": "7561e889",
        "outputId": "bf7b9527-2bb7-453a-827e-29adbd691cc7"
      },
      "source": [
        "# Ans : \n",
        "l = [1, 2, 'aasf', '1', '123', 123]\n",
        "\n",
        "def filter_list(l):\n",
        "    new_list = []\n",
        "    for x in l:\n",
        "        if type(x) == int:\n",
        "            new_list.append(x)\n",
        "    return new_list\n",
        "\n",
        "print(filter_list(l))"
      ],
      "id": "7561e889",
      "execution_count": null,
      "outputs": [
        {
          "name": "stdout",
          "output_type": "stream",
          "text": [
            "[1, 2, 123]\n"
          ]
        }
      ]
    },
    {
      "cell_type": "markdown",
      "metadata": {
        "id": "UD_Lic04R3mO"
      },
      "source": [
        "Question 2 The \"Reverser\" takes a string as input and returns that string in reverse order, with the opposite case.\n",
        "Examples reverse(\"Hello World\") ➞ \"DLROw OLLEh\" reverse(\"ReVeRsE\") ➞ \"eSrEvEr\" reverse(\"Radar\") ➞ \"RADAr\""
      ],
      "id": "UD_Lic04R3mO"
    },
    {
      "cell_type": "code",
      "metadata": {
        "id": "6768b80c",
        "outputId": "968e5a6f-bf2d-42d0-a948-362cec08d1a5"
      },
      "source": [
        "# Ans : \n",
        "def reverse(str):\n",
        "    str = str[::-1]\n",
        "    return str.swapcase()\n",
        "    \n",
        "print(reverse('ReVeRsE'))"
      ],
      "id": "6768b80c",
      "execution_count": null,
      "outputs": [
        {
          "name": "stdout",
          "output_type": "stream",
          "text": [
            "eSrEvEr\n"
          ]
        }
      ]
    },
    {
      "cell_type": "code",
      "metadata": {
        "id": "bfdde063",
        "outputId": "e7215cb5-faa0-4fb0-8deb-96668c2eec69"
      },
      "source": [
        "reverse('Hello World')"
      ],
      "id": "bfdde063",
      "execution_count": null,
      "outputs": [
        {
          "data": {
            "text/plain": [
              "'DLROw OLLEh'"
            ]
          },
          "execution_count": 3,
          "metadata": {},
          "output_type": "execute_result"
        }
      ]
    },
    {
      "cell_type": "code",
      "metadata": {
        "id": "0a4e3d03",
        "outputId": "ef50102c-93e0-4688-f807-833089a1fcc6"
      },
      "source": [
        "reverse('Radar')"
      ],
      "id": "0a4e3d03",
      "execution_count": null,
      "outputs": [
        {
          "data": {
            "text/plain": [
              "'RADAr'"
            ]
          },
          "execution_count": 4,
          "metadata": {},
          "output_type": "execute_result"
        }
      ]
    },
    {
      "cell_type": "markdown",
      "metadata": {
        "id": "NIxMT-ZCR7Nb"
      },
      "source": [
        "Question 3 : You can assign variables from lists like this: lst = [1, 2, 3, 4, 5, 6] first = lst[0] middle = lst[1:-1] last = lst[-1]print(first) ➞ outputs 1 print(middle) ➞ outputs [2, 3, 4, 5] print(last) ➞ outputs 6 With Python 3, you can assign variables from lists in a much more succinct way. Create variables first, middle and last from the given list using destructuring assignment (check the Resources tab for some examples), where:\n",
        "first ➞ 1 middle ➞ [2, 3, 4, 5] last ➞ 6 Your task is to unpack the list writeyourcodehere into three variables, being first, middle, and last, with middle being everything in between the first and last element. Then print all three variables."
      ],
      "id": "NIxMT-ZCR7Nb"
    },
    {
      "cell_type": "code",
      "metadata": {
        "id": "ea70b552",
        "outputId": "8571b831-6146-4bde-c557-600886322075"
      },
      "source": [
        "# Ans :\n",
        "lst = [1, 2, 3, 4, 5, 6]\n",
        "first ,*middle,last = lst\n",
        "first"
      ],
      "id": "ea70b552",
      "execution_count": null,
      "outputs": [
        {
          "data": {
            "text/plain": [
              "1"
            ]
          },
          "execution_count": 5,
          "metadata": {},
          "output_type": "execute_result"
        }
      ]
    },
    {
      "cell_type": "code",
      "metadata": {
        "id": "04131887",
        "outputId": "0af6d79b-f4e8-41e5-f3a4-be10c666db12"
      },
      "source": [
        "middle"
      ],
      "id": "04131887",
      "execution_count": null,
      "outputs": [
        {
          "data": {
            "text/plain": [
              "[2, 3, 4, 5]"
            ]
          },
          "execution_count": 6,
          "metadata": {},
          "output_type": "execute_result"
        }
      ]
    },
    {
      "cell_type": "code",
      "metadata": {
        "id": "f832fc96",
        "outputId": "a1d7b578-6999-4689-e6ab-1d881cb20bcf"
      },
      "source": [
        "last"
      ],
      "id": "f832fc96",
      "execution_count": null,
      "outputs": [
        {
          "data": {
            "text/plain": [
              "6"
            ]
          },
          "execution_count": 7,
          "metadata": {},
          "output_type": "execute_result"
        }
      ]
    },
    {
      "cell_type": "markdown",
      "metadata": {
        "id": "kizunOuxSBGz"
      },
      "source": [
        "Question 4) Write a function that calculates the factorial of a number recursively.\n",
        "Examples factorial(5) ➞ 120 factorial(3) ➞ 6 factorial(1) ➞ 1 factorial(0) ➞ 1"
      ],
      "id": "kizunOuxSBGz"
    },
    {
      "cell_type": "code",
      "metadata": {
        "id": "93ace8d4",
        "outputId": "8222be2f-fed2-4a83-bf2d-4a5e0c37071e"
      },
      "source": [
        "# Ans :\n",
        "def factorial(n):     \n",
        "    if n == 0:\n",
        "        return 1    \n",
        "    return n * factorial(n-1)\n",
        "\n",
        "num = int(input('enter a number :'))\n",
        "print(\"Factorial of\", num, \"is\", factorial(num))"
      ],
      "id": "93ace8d4",
      "execution_count": null,
      "outputs": [
        {
          "name": "stdout",
          "output_type": "stream",
          "text": [
            "enter a number :4\n",
            "Factorial of 4 is 24\n"
          ]
        }
      ]
    },
    {
      "cell_type": "markdown",
      "metadata": {
        "id": "wJqu6PqBSEFa"
      },
      "source": [
        "Question 5 : Write a function that moves all elements of one type to the end of the list. Examples\n",
        "move_to_end([1, 3, 2, 4, 4, 1], 1) ➞ [3, 2, 4, 4, 1, 1]\n",
        "\n",
        "Move all the 1s to the end of the array.\n",
        "move_to_end([7, 8, 9, 1, 2, 3, 4], 9) ➞ [7, 8, 1, 2, 3, 4, 9] move_to_end([\"a\", \"a\", \"a\", \"b\"], \"a\") ➞ [\"b\", \"a\", \"a\", \"a\"]"
      ],
      "id": "wJqu6PqBSEFa"
    },
    {
      "cell_type": "code",
      "metadata": {
        "id": "30238cc4"
      },
      "source": [
        "# Ans : \n",
        "def move_to_end(array, toMove):\n",
        "     \n",
        "    i = 0\n",
        " \n",
        "    # Mark the right pointer\n",
        "    j = len(array) - 1\n",
        "  \n",
        "    # Iterate untill left pointer\n",
        "    # crosses the right pointer\n",
        "    while (i < j):\n",
        "  \n",
        "        while (i < j and array[j] == toMove):\n",
        "  \n",
        "            # decrement right pointer\n",
        "            j-=1\n",
        "  \n",
        "        if (array[i] == toMove):\n",
        "  \n",
        "            # swap the two elements\n",
        "            # in the array\n",
        "            array[i], array[j] = array[j] , array[i]\n",
        "  \n",
        "        # increment left pointer\n",
        "        i += 1\n",
        "  \n",
        "    # return the result\n",
        "    return array"
      ],
      "id": "30238cc4",
      "execution_count": null,
      "outputs": []
    },
    {
      "cell_type": "code",
      "metadata": {
        "id": "a19a5ea6",
        "outputId": "ffd0a001-ae5d-4fe8-d7d0-1877628fdcd3"
      },
      "source": [
        "arr = [7, 8, 9, 1, 2, 3, 4]\n",
        "k = 9\n",
        "ans = move_to_end(arr, k)\n",
        "for i in range(len(arr)):\n",
        "    print(ans[i] ,end= \" \")"
      ],
      "id": "a19a5ea6",
      "execution_count": null,
      "outputs": [
        {
          "name": "stdout",
          "output_type": "stream",
          "text": [
            "7 8 4 1 2 3 9 "
          ]
        }
      ]
    },
    {
      "cell_type": "code",
      "metadata": {
        "id": "4dfeba8f",
        "outputId": "fcea08ae-9a38-4cd9-eace-aecd8f4b6dd6"
      },
      "source": [
        "arr = [1, 3, 2, 4, 4, 1]\n",
        "k = 1\n",
        "ans = move_to_end(arr, k)\n",
        "for i in range(len(arr)):\n",
        "    print(ans[i] ,end= \" \")"
      ],
      "id": "4dfeba8f",
      "execution_count": null,
      "outputs": [
        {
          "name": "stdout",
          "output_type": "stream",
          "text": [
            "4 3 2 4 1 1 "
          ]
        }
      ]
    },
    {
      "cell_type": "code",
      "metadata": {
        "id": "edc7a168",
        "outputId": "48bfe816-5c7a-4f42-9839-0901391c908f"
      },
      "source": [
        "arr = ['a', 'a', 'a', 'b']\n",
        "k = 'a'\n",
        "ans = move_to_end(arr, k)\n",
        "for i in range(len(arr)):\n",
        "    print(ans[i] ,end= \" \")\n",
        "    "
      ],
      "id": "edc7a168",
      "execution_count": null,
      "outputs": [
        {
          "name": "stdout",
          "output_type": "stream",
          "text": [
            "b a a a "
          ]
        }
      ]
    },
    {
      "cell_type": "code",
      "metadata": {
        "id": "facb14a1"
      },
      "source": [
        ""
      ],
      "id": "facb14a1",
      "execution_count": null,
      "outputs": []
    }
  ]
}