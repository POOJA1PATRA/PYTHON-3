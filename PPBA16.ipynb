{
  "nbformat": 4,
  "nbformat_minor": 5,
  "metadata": {
    "kernelspec": {
      "display_name": "Python 3 (ipykernel)",
      "language": "python",
      "name": "python3"
    },
    "language_info": {
      "codemirror_mode": {
        "name": "ipython",
        "version": 3
      },
      "file_extension": ".py",
      "mimetype": "text/x-python",
      "name": "python",
      "nbconvert_exporter": "python",
      "pygments_lexer": "ipython3",
      "version": "3.9.7"
    },
    "colab": {
      "name": "PPBA16.ipynb",
      "provenance": [],
      "include_colab_link": true
    }
  },
  "cells": [
    {
      "cell_type": "markdown",
      "metadata": {
        "id": "view-in-github",
        "colab_type": "text"
      },
      "source": [
        "<a href=\"https://colab.research.google.com/github/Nitesh8833/Python_assignment_03/blob/main/PPBA16.ipynb\" target=\"_parent\"><img src=\"https://colab.research.google.com/assets/colab-badge.svg\" alt=\"Open In Colab\"/></a>"
      ]
    },
    {
      "cell_type": "markdown",
      "metadata": {
        "id": "dwQZwdDBQEYw"
      },
      "source": [
        "Question1. Write a function that stutters a word as if someone is struggling to read it. The first two letters are repeated twice with an ellipsis ... and space after each, and then the word is pronounced with a question mark ?.\n",
        "Examples stutter(\"incredible\") ➞ \"in... in... incredible?\" stutter(\"enthusiastic\") ➞ \"en... en... enthusiastic?\" stutter(\"outstanding\") ➞ \"ou... ou... outstanding?\"\n",
        "\n",
        "Hint :- Assume all input is in lower case and at least two characters long."
      ],
      "id": "dwQZwdDBQEYw"
    },
    {
      "cell_type": "code",
      "metadata": {
        "id": "840667ca",
        "outputId": "15a9be03-223e-482c-9b08-f0c41c3e91fb"
      },
      "source": [
        "# Ans :\n",
        "def stutter(word):\n",
        "    return (2*(word[:2]+'... '))+word+'?'\n",
        "word = input('Enter word : ')\n",
        "print(stutter(word))"
      ],
      "id": "840667ca",
      "execution_count": null,
      "outputs": [
        {
          "name": "stdout",
          "output_type": "stream",
          "text": [
            "Enter word : incredible\n",
            "in... in... incredible?\n"
          ]
        }
      ]
    },
    {
      "cell_type": "markdown",
      "metadata": {
        "id": "Hjp4eajpQI7o"
      },
      "source": [
        "Question 2.Create a function that takes an angle in radians and returns the corresponding angle in degrees rounded to one decimal place.\n",
        "Examples radians_to_degrees(1) ➞ 57.3 radians_to_degrees(20) ➞ 1145.9 radians_to_degrees(50) ➞ 2864.8"
      ],
      "id": "Hjp4eajpQI7o"
    },
    {
      "cell_type": "code",
      "metadata": {
        "id": "2b266ae6",
        "outputId": "afa3fc8c-c9ba-4092-f5a8-36de2ddd716a"
      },
      "source": [
        "# Ans :\n",
        "def radians_to_degrees(radian):\n",
        "    pi = 3.14159\n",
        "    #formula\n",
        "    degree = radian * (180/pi)\n",
        "    return degree\n",
        "radian = float(input('Enter the Radian : '))\n",
        "print(\"degree =\",(radians_to_degrees(radian)))"
      ],
      "id": "2b266ae6",
      "execution_count": null,
      "outputs": [
        {
          "name": "stdout",
          "output_type": "stream",
          "text": [
            "Enter the Radian : 20\n",
            "degree = 1145.9165581759555\n"
          ]
        }
      ]
    },
    {
      "cell_type": "markdown",
      "metadata": {
        "id": "4eguHn7RQOBA"
      },
      "source": [
        "Question 3. In this challenge, establish if a given integer num is a Curzon number. If 1 plus 2 elevated to num is exactly divisible by 1 plus 2 multiplied by num, then num is a Curzon number. Given a non-negative integer num, implement a function that returns True if num is a Curzon number, or False otherwise.\n",
        "Examples\n",
        "is_curzon(5) ➞ True\n",
        "2 ** 5 + 1 = 33\n",
        "2 * 5 + 1 = 11\n",
        "33 is a multiple of 11\n",
        "is_curzon(10) ➞ False\n",
        "2 ** 10 + 1 = 1025\n",
        "2 * 10 + 1 = 21\n",
        "1025 is not a multiple of 21\n",
        "is_curzon(14) ➞ True\n",
        "2 ** 14 + 1 = 16385\n",
        "2 * 14 + 1 = 29\n",
        "16385 is a multiple of 29"
      ],
      "id": "4eguHn7RQOBA"
    },
    {
      "cell_type": "code",
      "metadata": {
        "id": "1af4e219",
        "outputId": "c18a76fb-b857-4a39-aead-43a19c19a44c"
      },
      "source": [
        "# Ans : \n",
        "def checkIfCurzonNumber(n):\n",
        " \n",
        "    power, product = 0, 0\n",
        " \n",
        "    # Find 2**n + 1\n",
        "    power = pow(2, n) + 1\n",
        " \n",
        "    # Find 2*n + 1\n",
        "    product = 2 * n + 1\n",
        " \n",
        "    # Check for divisibility\n",
        "    if (power % product == 0):\n",
        "        print(n, \"is Curzon Number\")\n",
        "    else:\n",
        "        print(n, \"is not a Curzon Number\")\n",
        "        \n",
        "n = int(input('Enter a number : '))\n",
        "checkIfCurzonNumber(n)"
      ],
      "id": "1af4e219",
      "execution_count": null,
      "outputs": [
        {
          "name": "stdout",
          "output_type": "stream",
          "text": [
            "Enter a number : 33\n",
            "33 is Curzon Number\n"
          ]
        }
      ]
    },
    {
      "cell_type": "markdown",
      "metadata": {
        "id": "CnHT1IDtQUv1"
      },
      "source": [
        "4) Given the side length x find the area of a hexagon.\n",
        "Examples\n",
        "area_of_hexagon(1) ➞ 2.6\n",
        "area_of_hexagon(2) ➞ 10.4\n",
        "area_of_hexagon(3) ➞ 23.4"
      ],
      "id": "CnHT1IDtQUv1"
    },
    {
      "cell_type": "code",
      "metadata": {
        "id": "3fbfd959",
        "outputId": "b03baab4-34eb-4d75-8a69-8a39e9726bb6"
      },
      "source": [
        "# Ans : \n",
        "# area of a Hexagon\n",
        "# Area = (3 √3(n*n) ) / 2\n",
        "import math\n",
        "def area_of_hexagon(s):     \n",
        "    return ((3 * math.sqrt(3) * (sideLength * sideLength)) / 2);\n",
        "     \n",
        "#length of a side.\n",
        "sideLength = float(input('Enter the length : '))\n",
        "\n",
        "print(\"Area:\",\"{0:.4f}\".format(area_of_hexagon(sideLength)))"
      ],
      "id": "3fbfd959",
      "execution_count": null,
      "outputs": [
        {
          "name": "stdout",
          "output_type": "stream",
          "text": [
            "Enter the length : 3\n",
            "Area: 23.3827\n"
          ]
        }
      ]
    },
    {
      "cell_type": "markdown",
      "metadata": {
        "id": "TCqZ5MF7QsMH"
      },
      "source": [
        "Question 5. Create a function that returns a base-2 (binary) representation of a base-10 (decimal) string number. To convert is simple: ((2) means base-2 and (10) means base-10) 010101001(2) = 1 + 8 + 32 + 128.Going from right to left, the value of the most right bit is 1, now from that every bit to the left will be x2 the value, value of an 8 bit binary numbers are (256, 128, 64, 32, 16, 8, 4, 2, 1).\n",
        "Examples\n",
        "binary(1) ➞ '1'\n",
        "1*1 = 1\n",
        "binary(5) ➞ '101'\n",
        "11 + 14 = 5\n",
        "binary(10) ➞ '1010'\n",
        "12 + 18 = 10"
      ],
      "id": "TCqZ5MF7QsMH"
    },
    {
      "cell_type": "code",
      "metadata": {
        "id": "76bb5b63",
        "outputId": "0eb00200-7b7d-4e85-fd3a-dbfdefb44cf2"
      },
      "source": [
        "# Ans : \n",
        "# Function to convert Decimal number\n",
        "# to Binary number\n",
        "def decimalToBinary(n):\n",
        "    return bin(n).replace(\"0b\", \"\")\n",
        "   \n",
        "for i in range(0,50):\n",
        "    print(decimalToBinary(i))"
      ],
      "id": "76bb5b63",
      "execution_count": null,
      "outputs": [
        {
          "name": "stdout",
          "output_type": "stream",
          "text": [
            "0\n",
            "1\n",
            "10\n",
            "11\n",
            "100\n",
            "101\n",
            "110\n",
            "111\n",
            "1000\n",
            "1001\n",
            "1010\n",
            "1011\n",
            "1100\n",
            "1101\n",
            "1110\n",
            "1111\n",
            "10000\n",
            "10001\n",
            "10010\n",
            "10011\n",
            "10100\n",
            "10101\n",
            "10110\n",
            "10111\n",
            "11000\n",
            "11001\n",
            "11010\n",
            "11011\n",
            "11100\n",
            "11101\n",
            "11110\n",
            "11111\n",
            "100000\n",
            "100001\n",
            "100010\n",
            "100011\n",
            "100100\n",
            "100101\n",
            "100110\n",
            "100111\n",
            "101000\n",
            "101001\n",
            "101010\n",
            "101011\n",
            "101100\n",
            "101101\n",
            "101110\n",
            "101111\n",
            "110000\n",
            "110001\n"
          ]
        }
      ]
    }
  ]
}