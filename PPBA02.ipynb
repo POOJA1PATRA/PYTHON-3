{
  "nbformat": 4,
  "nbformat_minor": 0,
  "metadata": {
    "colab": {
      "name": "PPBA02.ipynb",
      "provenance": []
    },
    "kernelspec": {
      "name": "python3",
      "display_name": "Python 3"
    },
    "language_info": {
      "name": "python"
    }
  },
  "cells": [
    {
      "cell_type": "markdown",
      "metadata": {
        "id": "juBF016t0KfZ"
      },
      "source": [
        "1.\tWrite a Python program to convert kilometers to miles?\n"
      ]
    },
    {
      "cell_type": "code",
      "metadata": {
        "colab": {
          "base_uri": "https://localhost:8080/"
        },
        "id": "xJwj7Riv03zg",
        "outputId": "57b75737-6c81-4c37-8de1-cb82a72b7c8c"
      },
      "source": [
        "def converter(kilo):\n",
        "  conveter_func = 0.621371\n",
        "  miles = conveter_func * kilo\n",
        "  print(\"{} kilometer  is converted into {} miles\".format(kilo,miles))\n",
        "converter(2)"
      ],
      "execution_count": null,
      "outputs": [
        {
          "output_type": "stream",
          "text": [
            "2 kilometer  is converted into 1.242742 miles\n"
          ],
          "name": "stdout"
        }
      ]
    },
    {
      "cell_type": "code",
      "metadata": {
        "colab": {
          "base_uri": "https://localhost:8080/"
        },
        "id": "qZmWI1WqP1je",
        "outputId": "53e9fbdc-22dd-4e18-acb4-2a44940458cf"
      },
      "source": [
        "kilometer = 10\n",
        "\n",
        "converter_func = 0.621371\n",
        "miles = converter_func * kilometer\n",
        "print(\"{} kilometer is converterd into {} miles\".format(kilometer,miles))\n"
      ],
      "execution_count": null,
      "outputs": [
        {
          "output_type": "stream",
          "text": [
            "10 kilometer is converterd into 6.21371 miles\n"
          ],
          "name": "stdout"
        }
      ]
    },
    {
      "cell_type": "markdown",
      "metadata": {
        "id": "y2YnCKsp2TdW"
      },
      "source": [
        "2.\tWrite a Python program to convert Celsius to Fahrenheit?"
      ]
    },
    {
      "cell_type": "code",
      "metadata": {
        "colab": {
          "base_uri": "https://localhost:8080/"
        },
        "id": "YMFlyKCy2Wtc",
        "outputId": "3cfebaee-0cb0-4bac-af02-23a798c3b24c"
      },
      "source": [
        "def temp_conv(celsius):\n",
        "  fahrenheit = (celsius * 1.8) + 32\n",
        "  print(\"{} Celsius  is converted into {} farhenheit\".format(celsius,fahrenheit))\n",
        "temp_conv(40)\n"
      ],
      "execution_count": null,
      "outputs": [
        {
          "output_type": "stream",
          "text": [
            "40 Celsius  is converted into 104.0 farhenheit\n"
          ],
          "name": "stdout"
        }
      ]
    },
    {
      "cell_type": "markdown",
      "metadata": {
        "id": "6fAgq6Em7OO6"
      },
      "source": [
        "3.\tWrite a Python program to display calendar?"
      ]
    },
    {
      "cell_type": "code",
      "metadata": {
        "colab": {
          "base_uri": "https://localhost:8080/"
        },
        "id": "8T9tx6Ou7PCh",
        "outputId": "49ff818a-b1b7-4b42-fd2d-1caa96574c80"
      },
      "source": [
        "import calendar\n",
        "import datetime\n",
        "\n",
        "def calender_yr(year,month):\n",
        "  print(calendar.month(year,month))\n",
        "\n",
        "calender_yr(2020,12)\n"
      ],
      "execution_count": null,
      "outputs": [
        {
          "output_type": "stream",
          "text": [
            "   December 2020\n",
            "Mo Tu We Th Fr Sa Su\n",
            "    1  2  3  4  5  6\n",
            " 7  8  9 10 11 12 13\n",
            "14 15 16 17 18 19 20\n",
            "21 22 23 24 25 26 27\n",
            "28 29 30 31\n",
            "\n"
          ],
          "name": "stdout"
        }
      ]
    },
    {
      "cell_type": "code",
      "metadata": {
        "colab": {
          "base_uri": "https://localhost:8080/"
        },
        "id": "MLJIG7dqSpm8",
        "outputId": "945385bc-87ab-4095-c5ed-a18f7179c5aa"
      },
      "source": [
        "import calendar\n",
        "\n",
        "print(calendar.calendar(2021,5))"
      ],
      "execution_count": null,
      "outputs": [
        {
          "output_type": "stream",
          "text": [
            "                                                                  2021\n",
            "\n",
            "                 January                                        February                                        March\n",
            " Mon   Tue   Wed   Thu   Fri   Sat   Sun        Mon   Tue   Wed   Thu   Fri   Sat   Sun        Mon   Tue   Wed   Thu   Fri   Sat   Sun\n",
            "                           1     2     3          1     2     3     4     5     6     7          1     2     3     4     5     6     7\n",
            "   4     5     6     7     8     9    10          8     9    10    11    12    13    14          8     9    10    11    12    13    14\n",
            "  11    12    13    14    15    16    17         15    16    17    18    19    20    21         15    16    17    18    19    20    21\n",
            "  18    19    20    21    22    23    24         22    23    24    25    26    27    28         22    23    24    25    26    27    28\n",
            "  25    26    27    28    29    30    31                                                        29    30    31\n",
            "\n",
            "                  April                                           May                                            June\n",
            " Mon   Tue   Wed   Thu   Fri   Sat   Sun        Mon   Tue   Wed   Thu   Fri   Sat   Sun        Mon   Tue   Wed   Thu   Fri   Sat   Sun\n",
            "                     1     2     3     4                                        1     2                1     2     3     4     5     6\n",
            "   5     6     7     8     9    10    11          3     4     5     6     7     8     9          7     8     9    10    11    12    13\n",
            "  12    13    14    15    16    17    18         10    11    12    13    14    15    16         14    15    16    17    18    19    20\n",
            "  19    20    21    22    23    24    25         17    18    19    20    21    22    23         21    22    23    24    25    26    27\n",
            "  26    27    28    29    30                     24    25    26    27    28    29    30         28    29    30\n",
            "                                                 31\n",
            "\n",
            "                   July                                          August                                       September\n",
            " Mon   Tue   Wed   Thu   Fri   Sat   Sun        Mon   Tue   Wed   Thu   Fri   Sat   Sun        Mon   Tue   Wed   Thu   Fri   Sat   Sun\n",
            "                     1     2     3     4                                              1                      1     2     3     4     5\n",
            "   5     6     7     8     9    10    11          2     3     4     5     6     7     8          6     7     8     9    10    11    12\n",
            "  12    13    14    15    16    17    18          9    10    11    12    13    14    15         13    14    15    16    17    18    19\n",
            "  19    20    21    22    23    24    25         16    17    18    19    20    21    22         20    21    22    23    24    25    26\n",
            "  26    27    28    29    30    31               23    24    25    26    27    28    29         27    28    29    30\n",
            "                                                 30    31\n",
            "\n",
            "                 October                                        November                                       December\n",
            " Mon   Tue   Wed   Thu   Fri   Sat   Sun        Mon   Tue   Wed   Thu   Fri   Sat   Sun        Mon   Tue   Wed   Thu   Fri   Sat   Sun\n",
            "                           1     2     3          1     2     3     4     5     6     7                      1     2     3     4     5\n",
            "   4     5     6     7     8     9    10          8     9    10    11    12    13    14          6     7     8     9    10    11    12\n",
            "  11    12    13    14    15    16    17         15    16    17    18    19    20    21         13    14    15    16    17    18    19\n",
            "  18    19    20    21    22    23    24         22    23    24    25    26    27    28         20    21    22    23    24    25    26\n",
            "  25    26    27    28    29    30    31         29    30                                       27    28    29    30    31\n",
            "\n"
          ],
          "name": "stdout"
        }
      ]
    },
    {
      "cell_type": "markdown",
      "metadata": {
        "id": "JreUpE7sALva"
      },
      "source": [
        "4.\tWrite a Python program to solve quadratic equation?"
      ]
    },
    {
      "cell_type": "code",
      "metadata": {
        "id": "xzbSWCg0ASEv",
        "colab": {
          "base_uri": "https://localhost:8080/"
        },
        "outputId": "bcc12d84-223f-4b15-d28e-1eaa1ae07e55"
      },
      "source": [
        "import cmath\n",
        "\n",
        "a = 1\n",
        "b = 5\n",
        "c = 6\n",
        "\n",
        "# calculate the discriminant\n",
        "d = (b**2) - (4*a*c)\n",
        "\n",
        "# find two solutions\n",
        "sol1 = (-b-cmath.sqrt(d))/(2*a)\n",
        "sol2 = (-b+cmath.sqrt(d))/(2*a)\n",
        "\n",
        "print('The solution are {0} and {1}'.format(sol1,sol2))"
      ],
      "execution_count": null,
      "outputs": [
        {
          "output_type": "stream",
          "text": [
            "The solution are (-3+0j) and (-2+0j)\n"
          ],
          "name": "stdout"
        }
      ]
    },
    {
      "cell_type": "markdown",
      "metadata": {
        "id": "Q6gWsGKOGfue"
      },
      "source": [
        "5.\tWrite a Python program to swap two variables without temp variable?"
      ]
    },
    {
      "cell_type": "code",
      "metadata": {
        "colab": {
          "base_uri": "https://localhost:8080/"
        },
        "id": "PF-fDXzrGj37",
        "outputId": "f067ab85-80c4-49dd-b047-2b17230b982e"
      },
      "source": [
        "def without_t(x,y):\n",
        "  x = x+y\n",
        "  y =x-y\n",
        "  x= x-y\n",
        "  print(x,y)\n",
        "without_t(6,7) \n"
      ],
      "execution_count": null,
      "outputs": [
        {
          "output_type": "stream",
          "text": [
            "7 6\n"
          ],
          "name": "stdout"
        }
      ]
    }
  ]
}