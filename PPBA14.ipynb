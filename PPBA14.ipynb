{
  "nbformat": 4,
  "nbformat_minor": 5,
  "metadata": {
    "kernelspec": {
      "display_name": "Python 3 (ipykernel)",
      "language": "python",
      "name": "python3"
    },
    "language_info": {
      "codemirror_mode": {
        "name": "ipython",
        "version": 3
      },
      "file_extension": ".py",
      "mimetype": "text/x-python",
      "name": "python",
      "nbconvert_exporter": "python",
      "pygments_lexer": "ipython3",
      "version": "3.9.7"
    },
    "colab": {
      "name": "PPBA14.ipynb",
      "provenance": [],
      "include_colab_link": true
    }
  },
  "cells": [
    {
      "cell_type": "markdown",
      "metadata": {
        "id": "view-in-github",
        "colab_type": "text"
      },
      "source": [
        "<a href=\"https://colab.research.google.com/github/Nitesh8833/Python_assignment_03/blob/main/PPBA14.ipynb\" target=\"_parent\"><img src=\"https://colab.research.google.com/assets/colab-badge.svg\" alt=\"Open In Colab\"/></a>"
      ]
    },
    {
      "cell_type": "markdown",
      "metadata": {
        "id": "le8uECxMOD85"
      },
      "source": [
        "1) Define a class with a generator which can iterate the numbers, which are divisible by 7, between a given range 0 and n."
      ],
      "id": "le8uECxMOD85"
    },
    {
      "cell_type": "code",
      "metadata": {
        "id": "0a87ae30",
        "outputId": "0d62faf7-20f5-451f-d134-5a6c94413ee5"
      },
      "source": [
        "# Ans : \n",
        "def putNumbers(n): \n",
        "    i = 0 \n",
        "    while i < n:\n",
        "        j = i\n",
        "        i += 1 \n",
        "        if j % 7 == 0:\n",
        "            yield j\n",
        "n = int(input('enter n : '))\n",
        "for i in putNumbers(n): \n",
        "    print(i)"
      ],
      "id": "0a87ae30",
      "execution_count": null,
      "outputs": [
        {
          "name": "stdout",
          "output_type": "stream",
          "text": [
            "enter n : 22\n",
            "0\n",
            "7\n",
            "14\n",
            "21\n"
          ]
        }
      ]
    },
    {
      "cell_type": "markdown",
      "metadata": {
        "id": "FxvQwsEgOKi8"
      },
      "source": [
        "2) Write a program to compute the frequency of the words from the input. The output should output after sorting the key alphanumerically. Suppose the following input is supplied to the program: New to Python or choosing between Python 2 and Python 3? Read Python 2 or Python 3.\n",
        "Then, the output should be:\n",
        "2:2\n",
        "3.:1\n",
        "3?:1\n",
        "New:1\n",
        "Python:5\n",
        "Read:1\n",
        "and:1\n",
        "between:1\n",
        "choosing:1\n",
        "or:2\n",
        "to:1"
      ],
      "id": "FxvQwsEgOKi8"
    },
    {
      "cell_type": "code",
      "metadata": {
        "id": "1d57204f",
        "outputId": "cafce35c-7fda-4867-d6c9-c084a77410f2"
      },
      "source": [
        "# Ans : \n",
        "string = input('Enter the string ').split()\n",
        "word = sorted(set(string))     # sort alphbetically\n",
        "\n",
        "for i in word:\n",
        "    print(\"{0}:{1}\".format(i,string.count(i)))"
      ],
      "id": "1d57204f",
      "execution_count": null,
      "outputs": [
        {
          "name": "stdout",
          "output_type": "stream",
          "text": [
            "Enter the string New to Python or choosing between Python 2 and Python 3? Read Python 2 or Python 3\n",
            "2:2\n",
            "3:1\n",
            "3?:1\n",
            "New:1\n",
            "Python:5\n",
            "Read:1\n",
            "and:1\n",
            "between:1\n",
            "choosing:1\n",
            "or:2\n",
            "to:1\n"
          ]
        }
      ]
    },
    {
      "cell_type": "markdown",
      "metadata": {
        "id": "qoypVeR0OQVd"
      },
      "source": [
        "3) Define a class Person and its two child classes: Male and Female. All classes have a method \"getGender\" which can print \"Male\" for Male class and \"Female\" for Female class."
      ],
      "id": "qoypVeR0OQVd"
    },
    {
      "cell_type": "code",
      "metadata": {
        "id": "1db19f0d",
        "outputId": "dd9a974f-142d-4e70-8409-1a36a570bdd3"
      },
      "source": [
        "# Ans :\n",
        "class Person(object):\n",
        "    def getGender( self ):\n",
        "        return \"Unknown\"\n",
        "\n",
        "class Male( Person ):\n",
        "    def getGender( self ):\n",
        "        return \"Male\"\n",
        "\n",
        "class Female( Person ):\n",
        "    def getGender( self ):\n",
        "        return \"Female\"\n",
        "\n",
        "objMale = Male()\n",
        "objFemale= Female()\n",
        "print(objMale.getGender())\n",
        "print(objFemale.getGender())"
      ],
      "id": "1db19f0d",
      "execution_count": null,
      "outputs": [
        {
          "name": "stdout",
          "output_type": "stream",
          "text": [
            "Male\n",
            "Female\n"
          ]
        }
      ]
    },
    {
      "cell_type": "markdown",
      "metadata": {
        "id": "Y_Luu2rSOUep"
      },
      "source": [
        "4) Please write a program to generate all sentences where subject is in [\"I\", \"You\"] and verb is in [\"Play\", \"Love\"] and the object is in [\"Hockey\",\"Football\"]."
      ],
      "id": "Y_Luu2rSOUep"
    },
    {
      "cell_type": "code",
      "metadata": {
        "id": "a581912e",
        "outputId": "35f50e92-4b44-4fa2-b327-f24d2036bb0b"
      },
      "source": [
        "# Ans : \n",
        "subject=[\"I\", \"You\"]\n",
        "verb=[\"Play\", \"Love\"]\n",
        "obj=[\"Hockey\",\"Football\"]\n",
        "\n",
        "# Use list comprehension instead of looping over each of the predicates\n",
        "sentence_list = [(sub+\" \"+ vb + \" \" + ob) for sub in subject for vb in verb for ob in obj]\n",
        "for sentence in sentence_list:\n",
        "    print(sentence)"
      ],
      "id": "a581912e",
      "execution_count": null,
      "outputs": [
        {
          "name": "stdout",
          "output_type": "stream",
          "text": [
            "I Play Hockey\n",
            "I Play Football\n",
            "I Love Hockey\n",
            "I Love Football\n",
            "You Play Hockey\n",
            "You Play Football\n",
            "You Love Hockey\n",
            "You Love Football\n"
          ]
        }
      ]
    },
    {
      "cell_type": "markdown",
      "metadata": {
        "id": "JTv0sm2sOYik"
      },
      "source": [
        "5) Please write a program to compress and decompress the string \"hello world!hello world!hello world!hello world!\"."
      ],
      "id": "JTv0sm2sOYik"
    },
    {
      "cell_type": "code",
      "metadata": {
        "id": "c8bd556b",
        "outputId": "90740dd4-9aa4-4b78-a0ec-2b36e03fe0ce"
      },
      "source": [
        "# Ans : \n",
        "import zlib\n",
        "s = 'hello world!hello world!hello world!hello world!'\n",
        "# In Python 3 zlib.compress() accepts only DataType <bytes>\n",
        "y = bytes(s, 'utf-8')\n",
        "x = zlib.compress(y)\n",
        "print(x)\n",
        "print(zlib.decompress(x))"
      ],
      "id": "c8bd556b",
      "execution_count": null,
      "outputs": [
        {
          "name": "stdout",
          "output_type": "stream",
          "text": [
            "b'x\\x9c\\xcbH\\xcd\\xc9\\xc9W(\\xcf/\\xcaIQ\\xcc \\x82\\r\\x00\\xbd[\\x11\\xf5'\n",
            "b'hello world!hello world!hello world!hello world!'\n"
          ]
        }
      ]
    },
    {
      "cell_type": "markdown",
      "metadata": {
        "id": "Lg8lZyznOdWf"
      },
      "source": [
        "6) Please write a binary search function which searches an item in a sorted list. The function should return the index of element to be searched in the list."
      ],
      "id": "Lg8lZyznOdWf"
    },
    {
      "cell_type": "code",
      "metadata": {
        "id": "e352948f",
        "outputId": "316cf17f-d047-47fe-82ef-cd111bdc6923"
      },
      "source": [
        "# Ans : \n",
        "from bisect import bisect_left\n",
        "  \n",
        "def BinarySearch(a, x):\n",
        "    i = bisect_left(a, x)\n",
        "    if i != len(a) and a[i] == x:\n",
        "        return i\n",
        "    else:\n",
        "        return -1 \n",
        "\n",
        "a = [11, 12, 14, 14, 28,28]\n",
        "x = int(28)\n",
        "res = BinarySearch(a, x)\n",
        "if res == -1:\n",
        "    print(x, \"is absent\")\n",
        "else:\n",
        "    print(\"First occurrence of\", x, \"is present at\", res)"
      ],
      "id": "e352948f",
      "execution_count": null,
      "outputs": [
        {
          "name": "stdout",
          "output_type": "stream",
          "text": [
            "First occurrence of 28 is present at 4\n"
          ]
        }
      ]
    }
  ]
}