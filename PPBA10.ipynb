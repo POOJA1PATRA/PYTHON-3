{
  "nbformat": 4,
  "nbformat_minor": 0,
  "metadata": {
    "colab": {
      "name": "PPBA10.ipynb",
      "provenance": [],
      "authorship_tag": "ABX9TyPGcQvlrbk3b5ojBGIA9cKS",
      "include_colab_link": true
    },
    "kernelspec": {
      "name": "python3",
      "display_name": "Python 3"
    },
    "language_info": {
      "name": "python"
    }
  },
  "cells": [
    {
      "cell_type": "markdown",
      "metadata": {
        "id": "view-in-github",
        "colab_type": "text"
      },
      "source": [
        "<a href=\"https://colab.research.google.com/github/Nitesh8833/Python_assignment_03/blob/main/PPBA10.ipynb\" target=\"_parent\"><img src=\"https://colab.research.google.com/assets/colab-badge.svg\" alt=\"Open In Colab\"/></a>"
      ]
    },
    {
      "cell_type": "markdown",
      "metadata": {
        "id": "jLWLv-5x2_QV"
      },
      "source": [
        "1.\tWrite a Python program to find sum of elements in list?"
      ]
    },
    {
      "cell_type": "code",
      "metadata": {
        "id": "TfXmbXNH3Aed",
        "colab": {
          "base_uri": "https://localhost:8080/"
        },
        "outputId": "49ffad51-603f-4ed1-bd7f-d264eaf516bc"
      },
      "source": [
        "list1 = [12,34,56,67,89,21,32,43,54]\n",
        "sum=0\n",
        "for element in list1:\n",
        "  sum=sum+element\n",
        "print(sum)\n",
        "\n",
        "\n",
        "\n"
      ],
      "execution_count": null,
      "outputs": [
        {
          "output_type": "stream",
          "name": "stdout",
          "text": [
            "408\n"
          ]
        }
      ]
    },
    {
      "cell_type": "markdown",
      "metadata": {
        "id": "K6nuv6nBur3U"
      },
      "source": [
        "2.\tWrite a Python program to  Multiply all numbers in the list?"
      ]
    },
    {
      "cell_type": "code",
      "metadata": {
        "colab": {
          "base_uri": "https://localhost:8080/"
        },
        "id": "n_dfGiifuaM8",
        "outputId": "2156d48f-0168-4fe9-b4c6-9650aad3bfd0"
      },
      "source": [
        "list1 = [1,3,4,5]\n",
        "multiply=1\n",
        "for element in list1:\n",
        "  multiply=multiply*element\n",
        "print(multiply)"
      ],
      "execution_count": null,
      "outputs": [
        {
          "output_type": "stream",
          "name": "stdout",
          "text": [
            "60\n"
          ]
        }
      ]
    },
    {
      "cell_type": "markdown",
      "metadata": {
        "id": "_RofOPyjwVeF"
      },
      "source": [
        "3.\tWrite a Python program to find smallest number in a list?"
      ]
    },
    {
      "cell_type": "code",
      "metadata": {
        "colab": {
          "base_uri": "https://localhost:8080/"
        },
        "id": "aVi-HtoNwWWi",
        "outputId": "89a3368e-3c87-4a5d-f44b-2b24f271d6b6"
      },
      "source": [
        "list1 = [1,6,3,4,5]\n",
        "list1.sort()\n",
        "print(\"The Smallest number of the list is:\", list1[0])"
      ],
      "execution_count": null,
      "outputs": [
        {
          "output_type": "stream",
          "name": "stdout",
          "text": [
            "The Smallest number of the list is: 1\n"
          ]
        }
      ]
    },
    {
      "cell_type": "markdown",
      "metadata": {
        "id": "pzTBGJUtxXS7"
      },
      "source": [
        "4.\tWrite a Python program to find largest number in a list?"
      ]
    },
    {
      "cell_type": "code",
      "metadata": {
        "colab": {
          "base_uri": "https://localhost:8080/"
        },
        "id": "31ecrBTjxbWy",
        "outputId": "4e7c9522-8457-4120-9617-086255c43319"
      },
      "source": [
        "list1 = [1,6,3,4,5]\n",
        "list1.sort()\n",
        "print(\"The Largest number of the list is:\", list1[-1])"
      ],
      "execution_count": null,
      "outputs": [
        {
          "output_type": "stream",
          "name": "stdout",
          "text": [
            "The Largest number of the list is: 6\n"
          ]
        }
      ]
    },
    {
      "cell_type": "markdown",
      "metadata": {
        "id": "jrn9IGVIxin2"
      },
      "source": [
        "5.\tWrite a Python program to find second largest number in a list?"
      ]
    },
    {
      "cell_type": "code",
      "metadata": {
        "colab": {
          "base_uri": "https://localhost:8080/"
        },
        "id": "89RWLDbKxgg-",
        "outputId": "aae7af7d-9b99-4863-c05e-512922e7ec61"
      },
      "source": [
        "list1 = [1,6,3,4,5]\n",
        "list1.sort()\n",
        "print(\"The Largest number of the list is:\", list1[-2])"
      ],
      "execution_count": null,
      "outputs": [
        {
          "output_type": "stream",
          "name": "stdout",
          "text": [
            "The Largest number of the list is: 5\n"
          ]
        }
      ]
    },
    {
      "cell_type": "markdown",
      "metadata": {
        "id": "rcx0WNO7_cbr"
      },
      "source": [
        "6.\tWrite a Python program to find N largest elements from a list?"
      ]
    },
    {
      "cell_type": "code",
      "metadata": {
        "colab": {
          "base_uri": "https://localhost:8080/"
        },
        "id": "3zL1p-RF_iPn",
        "outputId": "46e801bd-0d2b-4b22-9b9e-dfda37c877a0"
      },
      "source": [
        "list1 = [1,6,3,4,5,9,10,2]\n",
        "n = 2\n",
        "list1.sort()\n",
        "print(\"The Largest number of the list is:\", list1[-n:])"
      ],
      "execution_count": null,
      "outputs": [
        {
          "output_type": "stream",
          "name": "stdout",
          "text": [
            "The Largest number of the list is: [9, 10]\n"
          ]
        }
      ]
    },
    {
      "cell_type": "markdown",
      "metadata": {
        "id": "0pJC8b2kscV2"
      },
      "source": [
        "7.\tWrite a Python program to print even numbers in a list?"
      ]
    },
    {
      "cell_type": "code",
      "metadata": {
        "colab": {
          "base_uri": "https://localhost:8080/"
        },
        "id": "7ACVxVpesjHu",
        "outputId": "62ca4896-02f7-465d-9430-bb005a4779c8"
      },
      "source": [
        "list1 = [1,6,3,4,5,9,10,2]\n",
        "a = [i for i in list1 if i % 2 == 0]\n",
        "print(a)"
      ],
      "execution_count": 9,
      "outputs": [
        {
          "output_type": "stream",
          "name": "stdout",
          "text": [
            "[6, 4, 10, 2]\n"
          ]
        }
      ]
    },
    {
      "cell_type": "markdown",
      "metadata": {
        "id": "itrO4kH9qatA"
      },
      "source": [
        "8.\tWrite a Python program to print odd numbers in a List?"
      ]
    },
    {
      "cell_type": "code",
      "metadata": {
        "id": "l1IT9KkoqbZ5",
        "colab": {
          "base_uri": "https://localhost:8080/"
        },
        "outputId": "1d428f31-0c3c-41a6-9776-e68b5deeecce"
      },
      "source": [
        "list1 = [1,6,3,4,5,9,10,2]\n",
        "a = [i for i in list1 if i % 2 == 1]\n",
        "print(a)"
      ],
      "execution_count": 10,
      "outputs": [
        {
          "output_type": "stream",
          "name": "stdout",
          "text": [
            "[1, 3, 5, 9]\n"
          ]
        }
      ]
    },
    {
      "cell_type": "markdown",
      "metadata": {
        "id": "c23R-qjrQ-RQ"
      },
      "source": [
        "9.\tWrite a Python program to Remove empty List from List?"
      ]
    },
    {
      "cell_type": "code",
      "metadata": {
        "colab": {
          "base_uri": "https://localhost:8080/"
        },
        "id": "fksUaLsWQ7ns",
        "outputId": "615c448e-5c34-4454-fa89-959c532de363"
      },
      "source": [
        "list1 = [1,[],6,3,[],4,5,[],9,10,2]\n",
        "print(\"Original List: \",list1)\n",
        "list2 = [i for i in list1 if i != []]\n",
        "print(\"New List: \",list2)"
      ],
      "execution_count": 13,
      "outputs": [
        {
          "output_type": "stream",
          "name": "stdout",
          "text": [
            "Original List:  [1, [], 6, 3, [], 4, 5, [], 9, 10, 2]\n",
            "New List:  [1, 6, 3, 4, 5, 9, 10, 2]\n"
          ]
        }
      ]
    },
    {
      "cell_type": "markdown",
      "metadata": {
        "id": "yH8Ty01ZVUUw"
      },
      "source": [
        "10.\tWrite a Python program to Cloning or Copying a list?"
      ]
    },
    {
      "cell_type": "code",
      "metadata": {
        "colab": {
          "base_uri": "https://localhost:8080/"
        },
        "id": "A-4I90A6VX1Y",
        "outputId": "5e8f9495-f1bf-48c1-bbdc-fbd99d4cef48"
      },
      "source": [
        "def Clone_list(list1):\n",
        "  list_copy = list1[:]\n",
        "  return list_copy\n",
        "\n",
        "Clone_list([1,6,3,4,5,9,10,2])"
      ],
      "execution_count": 14,
      "outputs": [
        {
          "output_type": "execute_result",
          "data": {
            "text/plain": [
              "[1, 6, 3, 4, 5, 9, 10, 2]"
            ]
          },
          "metadata": {},
          "execution_count": 14
        }
      ]
    },
    {
      "cell_type": "markdown",
      "metadata": {
        "id": "BifjLadiY3sw"
      },
      "source": [
        "11.\tWrite a Python program to Count occurrences of an element in a list?"
      ]
    },
    {
      "cell_type": "code",
      "metadata": {
        "colab": {
          "base_uri": "https://localhost:8080/"
        },
        "id": "XG0DRfr7Y4pA",
        "outputId": "afc80b2a-c7c1-40a0-b8c3-3f572c3b285d"
      },
      "source": [
        "list1 = [1,1,1,4,5,1,10,2]\n",
        "def countNum(list1, num):\n",
        "  return list1.count(num)\n",
        "\n",
        "\n",
        "countNum(list1,1)\n",
        "print('{} has occured {} times'.format(1,countNum(list1,1)))"
      ],
      "execution_count": 22,
      "outputs": [
        {
          "output_type": "stream",
          "name": "stdout",
          "text": [
            "1 has occured 4 times\n"
          ]
        }
      ]
    }
  ]
}