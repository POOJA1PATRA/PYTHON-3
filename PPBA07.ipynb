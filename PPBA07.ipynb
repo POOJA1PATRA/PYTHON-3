{
  "nbformat": 4,
  "nbformat_minor": 0,
  "metadata": {
    "colab": {
      "name": "PPBA07.ipynb",
      "provenance": [],
      "collapsed_sections": []
    },
    "kernelspec": {
      "name": "python3",
      "display_name": "Python 3"
    },
    "language_info": {
      "name": "python"
    }
  },
  "cells": [
    {
      "cell_type": "markdown",
      "metadata": {
        "id": "fJUGm6PtJqXH"
      },
      "source": [
        "1.\tWrite a Python Program to find sum of array?"
      ]
    },
    {
      "cell_type": "code",
      "metadata": {
        "id": "bXZ7mUe_JtIF"
      },
      "source": [
        "def sum_arr():\n",
        "  arr = [1,2,6,98,65,43,21]\n",
        "  print(sum(arr))\n",
        "\n",
        "sum_arr()"
      ],
      "execution_count": null,
      "outputs": []
    },
    {
      "cell_type": "markdown",
      "metadata": {
        "id": "pFTQ2MY3Jwpb"
      },
      "source": [
        "Write a Python Program to find largest element in an array?"
      ]
    },
    {
      "cell_type": "code",
      "metadata": {
        "id": "C-iAocBTJ1ZD",
        "colab": {
          "base_uri": "https://localhost:8080/"
        },
        "outputId": "74102eab-f89c-4f50-f415-d92c0d97c790"
      },
      "source": [
        "# largest function\n",
        "def largest(arr):\n",
        "  arr.sort()\n",
        "  print(arr[-1])\n",
        "\n",
        "largest([1,3,4,2,5,87,2])"
      ],
      "execution_count": null,
      "outputs": [
        {
          "output_type": "stream",
          "text": [
            "87\n"
          ],
          "name": "stdout"
        }
      ]
    },
    {
      "cell_type": "markdown",
      "metadata": {
        "id": "vhhqjOjdJ60s"
      },
      "source": [
        "Write a Python Program for array rotation?"
      ]
    },
    {
      "cell_type": "code",
      "metadata": {
        "colab": {
          "base_uri": "https://localhost:8080/"
        },
        "id": "M-72Yu97b2bM",
        "outputId": "3a049719-209d-4fd5-e108-a8af492e33fd"
      },
      "source": [
        "def rotate():\n",
        "  \n",
        "  arr = [1,2,3,4,5,6,7,8,9,10]\n",
        "  n  =[None] * len(arr)\n",
        "  Len = len(arr)\n",
        "  for i in range(Len):\n",
        "    n[i] = arr[Len - i - 1]\n",
        "  return n\n",
        "  \n",
        "    \n",
        "print(rotate())"
      ],
      "execution_count": null,
      "outputs": [
        {
          "output_type": "stream",
          "text": [
            "[10, 9, 8, 7, 6, 5, 4, 3, 2, 1]\n"
          ],
          "name": "stdout"
        }
      ]
    },
    {
      "cell_type": "markdown",
      "metadata": {
        "id": "JFKfGu9Bk5v0"
      },
      "source": [
        "4.\tWrite a Python Program to Split the array and add the first part to the end?"
      ]
    },
    {
      "cell_type": "code",
      "metadata": {
        "id": "_UxNkeNIk_6s",
        "colab": {
          "base_uri": "https://localhost:8080/"
        },
        "outputId": "0d18345a-f3ac-40bc-db22-7bc26497374e"
      },
      "source": [
        "def split_arr():\n",
        "  arr = [2,12,23,43,56,34,76,89,90]\n",
        "  arr1 = arr[0:3]\n",
        "  #print(arr1)\n",
        "  arr2 = arr[3:]\n",
        "  #print(arr2)\n",
        "  arr3 = arr2 +arr1\n",
        "  return arr3\n",
        "\n",
        "print(split_arr())\n"
      ],
      "execution_count": 20,
      "outputs": [
        {
          "output_type": "stream",
          "text": [
            "[43, 56, 34, 76, 89, 90, 2, 12, 23]\n"
          ],
          "name": "stdout"
        }
      ]
    },
    {
      "cell_type": "markdown",
      "metadata": {
        "id": "c7Q-p2NQn6L3"
      },
      "source": [
        "5.\tWrite a Python Program to check if given array is Monotonic?"
      ]
    },
    {
      "cell_type": "code",
      "metadata": {
        "colab": {
          "base_uri": "https://localhost:8080/"
        },
        "id": "E57ht2lcnUtl",
        "outputId": "bddc15a6-689d-40a8-bb6c-9e76042c0fac"
      },
      "source": [
        "\n",
        "def monotonic(arr):\n",
        "  \n",
        "    if (all(arr[i] <= arr[i + 1] for i in range(len(arr) - 1)) or\n",
        "            all(arr[i] >= arr[i + 1] for i in range(len(arr) - 1))):\n",
        "      print(\"Monotonic\")\n",
        "    else:\n",
        "      print(\"Not monotonic\")\n",
        "  \n",
        "\n",
        "arr = [9, 8, 6, 5]\n",
        "monotonic(arr)"
      ],
      "execution_count": 55,
      "outputs": [
        {
          "output_type": "stream",
          "text": [
            "Monotonic\n"
          ],
          "name": "stdout"
        }
      ]
    }
  ]
}