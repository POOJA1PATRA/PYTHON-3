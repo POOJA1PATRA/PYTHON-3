{
  "nbformat": 4,
  "nbformat_minor": 0,
  "metadata": {
    "colab": {
      "name": "PPBA05.ipynb",
      "provenance": []
    },
    "kernelspec": {
      "name": "python3",
      "display_name": "Python 3"
    },
    "language_info": {
      "name": "python"
    }
  },
  "cells": [
    {
      "cell_type": "markdown",
      "metadata": {
        "id": "Sk73tx1aHq2r"
      },
      "source": [
        "1.\tWrite a Python Program to Find LCM?"
      ]
    },
    {
      "cell_type": "code",
      "metadata": {
        "id": "aEmBdzqBHuWn",
        "colab": {
          "base_uri": "https://localhost:8080/"
        },
        "outputId": "838782a4-7137-4953-8d05-d1d2c1a9f767"
      },
      "source": [
        "\n",
        "def compute_lcm(x, y):\n",
        "\n",
        "   # choose the greater number\n",
        "   if x > y:\n",
        "       greater = x\n",
        "   else:\n",
        "       greater = y\n",
        "\n",
        "   while(True):\n",
        "       if((greater % x == 0) and (greater % y == 0)):\n",
        "           lcm = greater\n",
        "           break\n",
        "       greater += 1\n",
        "\n",
        "   return lcm\n",
        "\n",
        "num1 = 54\n",
        "num2 = 24\n",
        "\n",
        "print(\"The L.C.M. is\", compute_lcm(num1, num2))"
      ],
      "execution_count": null,
      "outputs": [
        {
          "output_type": "stream",
          "text": [
            "The L.C.M. is 216\n"
          ],
          "name": "stdout"
        }
      ]
    },
    {
      "cell_type": "markdown",
      "metadata": {
        "id": "IFcfDZcBt81X"
      },
      "source": [
        "2.\tWrite a Python Program to Find HCF?"
      ]
    },
    {
      "cell_type": "code",
      "metadata": {
        "id": "C2vdHeJ0t9zk",
        "colab": {
          "base_uri": "https://localhost:8080/"
        },
        "outputId": "f4f0af2a-fd52-4e25-fb85-50dba134188a"
      },
      "source": [
        "def hcf_number(x, y):\n",
        "  if x > y :\n",
        "    small = y\n",
        "  else:\n",
        "    small = x\n",
        "    for i in range(1,small+1):\n",
        "      if (x % i == 0) or (y % i ==0):\n",
        "        number = i\n",
        "  return number\n",
        "\n",
        "\n",
        "hcf_number(12,35)\n",
        "    \n",
        "\n",
        "\n"
      ],
      "execution_count": null,
      "outputs": [
        {
          "output_type": "execute_result",
          "data": {
            "text/plain": [
              "12"
            ]
          },
          "metadata": {
            "tags": []
          },
          "execution_count": 1
        }
      ]
    },
    {
      "cell_type": "markdown",
      "metadata": {
        "id": "kUxDeipUy-4h"
      },
      "source": [
        "3.\tWrite a Python Program to Convert Decimal to Binary, Octal and Hexadecimal?"
      ]
    },
    {
      "cell_type": "code",
      "metadata": {
        "colab": {
          "base_uri": "https://localhost:8080/"
        },
        "id": "C98GOHMjzAAi",
        "outputId": "64b50a82-44df-4009-aae0-1120dd2f37ac"
      },
      "source": [
        "def dtob(num):\n",
        "  if num >= 1:\n",
        "    dtob(num // 2)\n",
        "    print(num % 2)\n",
        "\n",
        "def dtoo(num):\n",
        "  if num >= 1:\n",
        "    dtoo(num // 8)\n",
        "    print(num % 8)\n",
        "\n",
        "def dtoh(num):\n",
        "  if num >= 1:\n",
        "    dtoo(num // 16)\n",
        "    print(num % 16)\n",
        "\n",
        "\n",
        "\n",
        "dtob(10)\n",
        "\n",
        "dtoo(40)\n",
        "\n",
        "dtoh(60)\n",
        "\n"
      ],
      "execution_count": null,
      "outputs": [
        {
          "output_type": "stream",
          "text": [
            "1\n",
            "0\n",
            "1\n",
            "0\n",
            "5\n",
            "0\n",
            "3\n",
            "12\n"
          ],
          "name": "stdout"
        }
      ]
    },
    {
      "cell_type": "markdown",
      "metadata": {
        "id": "vx1DuGDv-yKk"
      },
      "source": [
        "4.\tWrite a Python Program To Find ASCII value of a character?"
      ]
    },
    {
      "cell_type": "code",
      "metadata": {
        "colab": {
          "base_uri": "https://localhost:8080/"
        },
        "id": "wO9Cy_xQ-3Co",
        "outputId": "4146311d-deb4-4806-e8da-dec57fcd46ed"
      },
      "source": [
        "def ascii_find(character):\n",
        "  print(\"ASCII Value of given character is\",ord(character))\n",
        "\n",
        "ascii_find(\"e\")"
      ],
      "execution_count": null,
      "outputs": [
        {
          "output_type": "stream",
          "text": [
            "ASCII Value of given character is 101\n"
          ],
          "name": "stdout"
        }
      ]
    },
    {
      "cell_type": "markdown",
      "metadata": {
        "id": "--lOo37fB0cW"
      },
      "source": [
        "5.\tWrite a Python Program to Make a Simple Calculator with 4 basic mathematical operations?"
      ]
    },
    {
      "cell_type": "code",
      "metadata": {
        "colab": {
          "base_uri": "https://localhost:8080/"
        },
        "id": "xCBtNS6OB-v0",
        "outputId": "33c1a31b-e67b-4d09-b0be-f5b554ce5060"
      },
      "source": [
        "# Python program for simple calculator\n",
        "\n",
        "# Function to add two numbers\n",
        "def add(num1, num2):\n",
        "\treturn num1 + num2\n",
        "\n",
        "# Function to subtract two numbers\n",
        "def subtract(num1, num2):\n",
        "\treturn num1 - num2\n",
        "\n",
        "# Function to multiply two numbers\n",
        "def multiply(num1, num2):\n",
        "\treturn num1 * num2\n",
        "\n",
        "# Function to divide two numbers\n",
        "def divide(num1, num2):\n",
        "\treturn num1 / num2\n",
        "\n",
        "print(\"Please select operation -\\n\" \\\n",
        "\t\t\"1. Add\\n\" \\\n",
        "\t\t\"2. Subtract\\n\" \\\n",
        "\t\t\"3. Multiply\\n\" \\\n",
        "\t\t\"4. Divide\\n\")\n",
        "\n",
        "\n",
        "# Take input from the user\n",
        "select = int(input(\"Select operations form 1, 2, 3, 4 :\"))\n",
        "\n",
        "number_1 = int(input(\"Enter first number: \"))\n",
        "number_2 = int(input(\"Enter second number: \"))\n",
        "\n",
        "if select == 1:\n",
        "\tprint(number_1, \"+\", number_2, \"=\",\n",
        "\t\t\t\t\tadd(number_1, number_2))\n",
        "\n",
        "elif select == 2:\n",
        "\tprint(number_1, \"-\", number_2, \"=\",\n",
        "\t\t\t\t\tsubtract(number_1, number_2))\n",
        "\n",
        "elif select == 3:\n",
        "\tprint(number_1, \"*\", number_2, \"=\",\n",
        "\t\t\t\t\tmultiply(number_1, number_2))\n",
        "\n",
        "elif select == 4:\n",
        "\tprint(number_1, \"/\", number_2, \"=\",\n",
        "\t\t\t\t\tdivide(number_1, number_2))\n",
        "else:\n",
        "\tprint(\"Invalid input\")\n"
      ],
      "execution_count": null,
      "outputs": [
        {
          "output_type": "stream",
          "text": [
            "Please select operation -\n",
            "1. Add\n",
            "2. Subtract\n",
            "3. Multiply\n",
            "4. Divide\n",
            "\n",
            "Select operations form 1, 2, 3, 4 :1\n",
            "Enter first number: 23\n",
            "Enter second number: 43\n",
            "23 + 43 = 66\n"
          ],
          "name": "stdout"
        }
      ]
    }
  ]
}