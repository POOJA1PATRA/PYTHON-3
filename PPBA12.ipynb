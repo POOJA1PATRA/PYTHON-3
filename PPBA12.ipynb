{
  "nbformat": 4,
  "nbformat_minor": 0,
  "metadata": {
    "colab": {
      "name": "PPBA12.ipynb",
      "provenance": [],
      "authorship_tag": "ABX9TyPfBAQPlVQa466wOc+djUtP",
      "include_colab_link": true
    },
    "kernelspec": {
      "name": "python3",
      "display_name": "Python 3"
    },
    "language_info": {
      "name": "python"
    }
  },
  "cells": [
    {
      "cell_type": "markdown",
      "metadata": {
        "id": "view-in-github",
        "colab_type": "text"
      },
      "source": [
        "<a href=\"https://colab.research.google.com/github/Nitesh8833/Python_assignment_03/blob/main/PPBA12.ipynb\" target=\"_parent\"><img src=\"https://colab.research.google.com/assets/colab-badge.svg\" alt=\"Open In Colab\"/></a>"
      ]
    },
    {
      "cell_type": "markdown",
      "metadata": {
        "id": "rlUI4UgCaqUX"
      },
      "source": [
        "1.\tWrite a Python program to Extract Unique values dictionary values?"
      ]
    },
    {
      "cell_type": "code",
      "metadata": {
        "id": "h4LdQxAIbLNd",
        "colab": {
          "base_uri": "https://localhost:8080/"
        },
        "outputId": "d6f67d64-e50f-4c24-cdc9-0424bcf65968"
      },
      "source": [
        "def ext_unique(dict1):\n",
        "  result = list(sorted({ele for val in dict1.values() for ele in val}))\n",
        "  return result\n",
        "\n",
        "\n",
        "dict1 = {'beginner' : [3, 1, 2, 3],\n",
        "             'Intermediate' : [10, 11, 9, 8],\n",
        "             'Expert' : [7, 12, 13, 15],\n",
        "             'Ninja' : [17, 20, 20]}\n",
        "\n",
        "ext_unique(dict1)"
      ],
      "execution_count": null,
      "outputs": [
        {
          "output_type": "execute_result",
          "data": {
            "text/plain": [
              "[1, 2, 3, 7, 8, 9, 10, 11, 12, 13, 15, 17, 20]"
            ]
          },
          "metadata": {},
          "execution_count": 4
        }
      ]
    },
    {
      "cell_type": "markdown",
      "metadata": {
        "id": "9qsfQMopN2A3"
      },
      "source": [
        "2.\tWrite a Python program to find the sum of all items in a dictionary?"
      ]
    },
    {
      "cell_type": "code",
      "metadata": {
        "id": "f2KJDb71MluN",
        "colab": {
          "base_uri": "https://localhost:8080/"
        },
        "outputId": "f0789849-fe4a-4a99-95d8-9010d391ae72"
      },
      "source": [
        "def find_sum(dict2):\n",
        "  Sum_Items = sum(dict2.values())\n",
        "  return Sum_Items\n",
        "\n",
        "  \n",
        "\n",
        "\n",
        "dict2 = {'A':100,'B':540,'C':239,'D': 121}\n",
        "\n",
        "find_sum(dict2)"
      ],
      "execution_count": null,
      "outputs": [
        {
          "output_type": "execute_result",
          "data": {
            "text/plain": [
              "1000"
            ]
          },
          "metadata": {},
          "execution_count": 7
        }
      ]
    },
    {
      "cell_type": "markdown",
      "metadata": {
        "id": "lBMHAvc9XVai"
      },
      "source": [
        "3.\tWrite a Python program to Merging two Dictionaries?"
      ]
    },
    {
      "cell_type": "code",
      "metadata": {
        "colab": {
          "base_uri": "https://localhost:8080/"
        },
        "id": "5xLeBSRAXo0D",
        "outputId": "871277e0-ed39-4247-97f8-c5a16922464c"
      },
      "source": [
        "def merging(dict1,dict2):\n",
        "  dict3 ={**dict1, **dict2}\n",
        "  return dict3\n",
        "\n",
        "dict1 = {'ABC': 'a', 'BC': 'b'}\n",
        "dict2 = {'CD': 'c', 'DE': 'd'}\n",
        "merging(dict1,dict2)\n",
        "\n",
        "\n",
        "\n"
      ],
      "execution_count": null,
      "outputs": [
        {
          "output_type": "execute_result",
          "data": {
            "text/plain": [
              "{'ABC': 'a', 'BC': 'b', 'CD': 'c', 'DE': 'd'}"
            ]
          },
          "metadata": {},
          "execution_count": 24
        }
      ]
    },
    {
      "cell_type": "markdown",
      "metadata": {
        "id": "MVH-0V9sf4Cz"
      },
      "source": [
        "4.\tWrite a Python program to convert key-values list to flat dictionary?"
      ]
    },
    {
      "cell_type": "code",
      "metadata": {
        "colab": {
          "base_uri": "https://localhost:8080/"
        },
        "id": "yDRNtsyCN4P5",
        "outputId": "4846c7fc-bc3f-442d-fd18-ef0258c53a67"
      },
      "source": [
        "def flat_dict(dict1):\n",
        "  dict_final = dict(zip(dict1['Date'], dict1['Day']))\n",
        "\n",
        "  return dict_final\n",
        "\n",
        "\n",
        "\n",
        "\n",
        "dict1 = {'Date' : [1, 2, 3,4],\n",
        "\t\t\t'Day' : ['Mon', 'Tuesday', 'Wednesday','Thrusday']}\n",
        "\n",
        "\n",
        "flat_dict(dict1)\n"
      ],
      "execution_count": null,
      "outputs": [
        {
          "output_type": "execute_result",
          "data": {
            "text/plain": [
              "{1: 'Mon', 2: 'Tuesday', 3: 'Wednesday', 4: 'Thrusday'}"
            ]
          },
          "metadata": {},
          "execution_count": 5
        }
      ]
    },
    {
      "cell_type": "markdown",
      "metadata": {
        "id": "WjBJHRUYPwpJ"
      },
      "source": [
        "5.\tWrite a Python program to insertion at the beginning in OrderedDict?"
      ]
    },
    {
      "cell_type": "code",
      "metadata": {
        "id": "67Uam3DfPyU0",
        "colab": {
          "base_uri": "https://localhost:8080/"
        },
        "outputId": "2ab04e95-925e-4ed5-f4fc-3c5a04bc2947"
      },
      "source": [
        "from collections import OrderedDict\n",
        "\n",
        "def insertion_beg():\n",
        "  dict1 = OrderedDict([('A', '100'), ('B', '200'), ('C', '300')])\n",
        "  dict1.update({\"D\": '400'})\n",
        "  print(\"Insertion in end: \",dict1)\n",
        "  dict1.move_to_end(\"D\", last=False)\n",
        "  print (\"Insertion in the beginning :\" ,dict1)\n",
        "  \n",
        "\n",
        "\n",
        "insertion_beg()\n"
      ],
      "execution_count": null,
      "outputs": [
        {
          "output_type": "stream",
          "name": "stdout",
          "text": [
            "Insertion in end:  OrderedDict([('A', '100'), ('B', '200'), ('C', '300'), ('D', '400')])\n",
            "Insertion in the beginning : OrderedDict([('D', '400'), ('A', '100'), ('B', '200'), ('C', '300')])\n"
          ]
        }
      ]
    },
    {
      "cell_type": "markdown",
      "metadata": {
        "id": "rTNAjiiVd4t1"
      },
      "source": [
        "6.\tWrite a Python program to check order of character in string using OrderedDict()?"
      ]
    },
    {
      "cell_type": "code",
      "metadata": {
        "id": "Nn--EyuweHpF"
      },
      "source": [
        ""
      ],
      "execution_count": null,
      "outputs": []
    },
    {
      "cell_type": "markdown",
      "metadata": {
        "id": "zHXNJVxbeQwc"
      },
      "source": [
        "7.\tWrite a Python program to sort Python Dictionaries by Key or Value?"
      ]
    },
    {
      "cell_type": "code",
      "metadata": {
        "id": "j4WbXV-neRis",
        "colab": {
          "base_uri": "https://localhost:8080/"
        },
        "outputId": "c244012e-cd37-4cdd-b138-c6027f37505d"
      },
      "source": [
        "\n",
        "from collections import OrderedDict\n",
        " \n",
        "dict = {'ravi':'10','rajnish':'9','sanjeev':'15','yash':'2','suraj':'32'}\n",
        "dict1 = OrderedDict(sorted(dict.items()))\n",
        "print(dict1)"
      ],
      "execution_count": 1,
      "outputs": [
        {
          "output_type": "stream",
          "name": "stdout",
          "text": [
            "OrderedDict([('rajnish', '9'), ('ravi', '10'), ('sanjeev', '15'), ('suraj', '32'), ('yash', '2')])\n"
          ]
        }
      ]
    }
  ]
}