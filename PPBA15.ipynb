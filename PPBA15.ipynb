{
  "nbformat": 4,
  "nbformat_minor": 5,
  "metadata": {
    "kernelspec": {
      "display_name": "Python 3 (ipykernel)",
      "language": "python",
      "name": "python3"
    },
    "language_info": {
      "codemirror_mode": {
        "name": "ipython",
        "version": 3
      },
      "file_extension": ".py",
      "mimetype": "text/x-python",
      "name": "python",
      "nbconvert_exporter": "python",
      "pygments_lexer": "ipython3",
      "version": "3.9.7"
    },
    "colab": {
      "name": "PPBA15.ipynb",
      "provenance": [],
      "include_colab_link": true
    }
  },
  "cells": [
    {
      "cell_type": "markdown",
      "metadata": {
        "id": "view-in-github",
        "colab_type": "text"
      },
      "source": [
        "<a href=\"https://colab.research.google.com/github/Nitesh8833/Python_assignment_03/blob/main/PPBA15.ipynb\" target=\"_parent\"><img src=\"https://colab.research.google.com/assets/colab-badge.svg\" alt=\"Open In Colab\"/></a>"
      ]
    },
    {
      "cell_type": "markdown",
      "metadata": {
        "id": "1gwRQ7q0PSvM"
      },
      "source": [
        "Question 1: Please write a program using generator to print the numbers which can be divisible by 5 and 7 between 0 and n in comma separated form while n is input by console.\n",
        "Example:\n",
        "If the following n is given as input to the program:\n",
        "100\n",
        "Then, the output of the program should be:\n",
        "0,35,70"
      ],
      "id": "1gwRQ7q0PSvM"
    },
    {
      "cell_type": "code",
      "metadata": {
        "id": "23dc56d4",
        "outputId": "0a8c7f23-7b90-4470-b591-b05deb4e5b3c"
      },
      "source": [
        "# Ans : \n",
        "def putNumbers(n): \n",
        "    i = 0 \n",
        "    while i < n:\n",
        "        j = i\n",
        "        i += 1 \n",
        "        if j % 7 == 0 and j % 5 == 0:\n",
        "            yield j\n",
        "n = int(input('enter n : '))\n",
        "num =[]\n",
        "for i in putNumbers(n): \n",
        "    num.append(str(i))\n",
        "    \n",
        "print(','.join(num))"
      ],
      "id": "23dc56d4",
      "execution_count": null,
      "outputs": [
        {
          "name": "stdout",
          "output_type": "stream",
          "text": [
            "enter n : 100\n",
            "0,35,70\n"
          ]
        }
      ]
    },
    {
      "cell_type": "markdown",
      "metadata": {
        "id": "0bQlxjnLPYQW"
      },
      "source": [
        "Question 2: Please write a program using generator to print the even numbers between 0 and n in comma separated form while n is input by console.\n",
        "Example:\n",
        "If the following n is given as input to the program:\n",
        "10\n",
        "Then, the output of the program should be:\n",
        "0,2,4,6,8,10"
      ],
      "id": "0bQlxjnLPYQW"
    },
    {
      "cell_type": "code",
      "metadata": {
        "id": "9591429d",
        "outputId": "e47fd830-5c16-4a52-b9c2-971c5fb8bca7"
      },
      "source": [
        "# Ans : \n",
        "def putNumbers(n): \n",
        "    i = 0 \n",
        "    while i < n:\n",
        "        j = i\n",
        "        i += 1 \n",
        "        if j % 2 == 0:\n",
        "            yield j\n",
        "n = int(input('enter n : '))\n",
        "num =[]\n",
        "for i in putNumbers(n): \n",
        "    num.append(str(i))\n",
        "    \n",
        "print(','.join(num))"
      ],
      "id": "9591429d",
      "execution_count": null,
      "outputs": [
        {
          "name": "stdout",
          "output_type": "stream",
          "text": [
            "enter n : 10\n",
            "0,2,4,6,8\n"
          ]
        }
      ]
    },
    {
      "cell_type": "markdown",
      "metadata": {
        "id": "dRIFF5lrPco_"
      },
      "source": [
        "Question 3: The Fibonacci Sequence is computed based on the following formula:\n",
        "f(n)=0 if n=0\n",
        "f(n)=1 if n=1\n",
        "f(n)=f(n-1)+f(n-2) if n>1\n",
        "Please write a program using list comprehension to print the Fibonacci Sequence in comma separated form with a given n input by console.\n",
        "Example:\n",
        "If the following n is given as input to the program:\n",
        "7\n",
        "Then, the output of the program should be:\n",
        "0,1,1,2,3,5,8,13"
      ],
      "id": "dRIFF5lrPco_"
    },
    {
      "cell_type": "code",
      "metadata": {
        "id": "ed0b2f38",
        "outputId": "2b060a5d-2fea-4154-9c9e-5badb7cbefc0"
      },
      "source": [
        "# Ans : \n",
        "def fib(n):    \n",
        "    if n == 0: \n",
        "            return 0    \n",
        "    elif n == 1: \n",
        "            return 1    \n",
        "    else: \n",
        "            return fib(n-1)+fib(n-2)\n",
        "n=int(input('Enter a number :')) \n",
        "values = [str(fib(x)) for x in range(0, n+1)] \n",
        "print(\",\".join(values))"
      ],
      "id": "ed0b2f38",
      "execution_count": null,
      "outputs": [
        {
          "name": "stdout",
          "output_type": "stream",
          "text": [
            "Enter a number :7\n",
            "0,1,1,2,3,5,8,13\n"
          ]
        }
      ]
    },
    {
      "cell_type": "markdown",
      "metadata": {
        "id": "yp6aMHsJPjbR"
      },
      "source": [
        "Question 4: Assuming that we have some email addresses in the \"username@companyname.com\" format, please write program to print the user name of a given email address. Both user names and company names are composed of letters only.\n",
        "Example:\n",
        "If the following email address is given as input to the program:\n",
        "john@google.com\n",
        "Then, the output of the program should be:\n",
        "john"
      ],
      "id": "yp6aMHsJPjbR"
    },
    {
      "cell_type": "code",
      "metadata": {
        "id": "55367ea6",
        "outputId": "87303d42-3c3b-4249-c3a0-f53b1c65c82d"
      },
      "source": [
        "# Ans : \n",
        "email = input(\"Enter the email address : \").split('@')\n",
        "company = str(email[1]).split('.')\n",
        "print(\"User name : \",email[0])\n",
        "print(\"Company name : \",company[0])"
      ],
      "id": "55367ea6",
      "execution_count": null,
      "outputs": [
        {
          "name": "stdout",
          "output_type": "stream",
          "text": [
            "Enter the email address : john@gmail.com\n",
            "User name :  john\n",
            "Company name :  gmail\n"
          ]
        }
      ]
    },
    {
      "cell_type": "code",
      "metadata": {
        "id": "a6d21cd7",
        "outputId": "30bdc72a-d59e-4922-88c8-72a84811fe7d"
      },
      "source": [
        "#using Regular expression\n",
        "import re\n",
        "emailAddress = input(\"Enter the email address : \")\n",
        "pat2 = \"(\\w+)@(\\w+)\\.(com)\"\n",
        "r2 = re.match(pat2,emailAddress)\n",
        "print('User name :',r2.group(1))\n",
        "print('Company name :',r2.group(2))"
      ],
      "id": "a6d21cd7",
      "execution_count": null,
      "outputs": [
        {
          "name": "stdout",
          "output_type": "stream",
          "text": [
            "Enter the email address : john@gmail.com\n",
            "User name : john\n",
            "Company name : gmail\n"
          ]
        }
      ]
    },
    {
      "cell_type": "markdown",
      "metadata": {
        "id": "8MjU5HmWPos9"
      },
      "source": [
        "Question 5: Define a class named Shape and its subclass Square. The Square class has an init function which takes a length as argument. Both classes have a area function which can print the area of the shape where Shape's area is 0 by default."
      ],
      "id": "8MjU5HmWPos9"
    },
    {
      "cell_type": "code",
      "metadata": {
        "id": "48f00228",
        "outputId": "249baf4a-eb5b-4291-e7fb-86ec56759f02"
      },
      "source": [
        "# Ans : \n",
        "class Shape(object):\n",
        "    def __init__(self):\n",
        "        pass\n",
        "\n",
        "    def area(self):\n",
        "        return 0\n",
        "\n",
        "class Square(Shape):\n",
        "    def __init__(self, l):\n",
        "        Shape.__init__(self)\n",
        "        self.length = l\n",
        "\n",
        "    def area(self):\n",
        "        return self.length*self.length\n",
        "\n",
        "objSquare= Square(5)\n",
        "print(objSquare.area())"
      ],
      "id": "48f00228",
      "execution_count": null,
      "outputs": [
        {
          "name": "stdout",
          "output_type": "stream",
          "text": [
            "25\n"
          ]
        }
      ]
    }
  ]
}