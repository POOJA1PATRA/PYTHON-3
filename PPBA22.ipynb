{
  "nbformat": 4,
  "nbformat_minor": 5,
  "metadata": {
    "kernelspec": {
      "display_name": "Python 3 (ipykernel)",
      "language": "python",
      "name": "python3"
    },
    "language_info": {
      "codemirror_mode": {
        "name": "ipython",
        "version": 3
      },
      "file_extension": ".py",
      "mimetype": "text/x-python",
      "name": "python",
      "nbconvert_exporter": "python",
      "pygments_lexer": "ipython3",
      "version": "3.9.7"
    },
    "colab": {
      "name": "PPBA22.ipynb",
      "provenance": [],
      "include_colab_link": true
    }
  },
  "cells": [
    {
      "cell_type": "markdown",
      "metadata": {
        "id": "view-in-github",
        "colab_type": "text"
      },
      "source": [
        "<a href=\"https://colab.research.google.com/github/Nitesh8833/Python_assignment_03/blob/main/PPBA22.ipynb\" target=\"_parent\"><img src=\"https://colab.research.google.com/assets/colab-badge.svg\" alt=\"Open In Colab\"/></a>"
      ]
    },
    {
      "cell_type": "markdown",
      "metadata": {
        "id": "e35d37f5"
      },
      "source": [
        " Question1 : Create a function that takes three parameters where :\n",
        "x is the start of the range (inclusive).\n",
        "y is the end of the range (inclusive).\n",
        "n is the divisor to be checked against.\n",
        "Return an ordered list with numbers in the range that are divisible by the third parameter n.\n",
        "Return an empty list if there are no numbers that are divisible by n.\n",
        "Examples\n",
        "list_operation(1, 10, 3) ➞ [3, 6, 9]\n",
        "list_operation(7, 9, 2) ➞ [8]\n",
        "list_operation(15, 20, 7) ➞ []"
      ],
      "id": "e35d37f5"
    },
    {
      "cell_type": "code",
      "metadata": {
        "id": "69fea496"
      },
      "source": [
        "# Ans : \n",
        "def list_operation(x,y,n):\n",
        "    \n",
        "    divisor = []\n",
        "    nonDiv = []\n",
        "    for i in range(x,y+1):\n",
        "        if i % n == 0:\n",
        "            divisor.append(i)\n",
        "    return divisor"
      ],
      "id": "69fea496",
      "execution_count": null,
      "outputs": []
    },
    {
      "cell_type": "code",
      "metadata": {
        "id": "ad4b738e",
        "outputId": "b49c5b13-0dce-4ca1-bdff-9843bd58ce65"
      },
      "source": [
        "list_operation(1, 10, 3)"
      ],
      "id": "ad4b738e",
      "execution_count": null,
      "outputs": [
        {
          "data": {
            "text/plain": [
              "[3, 6, 9]"
            ]
          },
          "execution_count": 8,
          "metadata": {},
          "output_type": "execute_result"
        }
      ]
    },
    {
      "cell_type": "code",
      "metadata": {
        "id": "2ed48f5a",
        "outputId": "14273377-43c4-42ae-abb1-7321de8c3a43"
      },
      "source": [
        "list_operation(7, 9, 2)"
      ],
      "id": "2ed48f5a",
      "execution_count": null,
      "outputs": [
        {
          "data": {
            "text/plain": [
              "[8]"
            ]
          },
          "execution_count": 9,
          "metadata": {},
          "output_type": "execute_result"
        }
      ]
    },
    {
      "cell_type": "code",
      "metadata": {
        "id": "598ee5d1",
        "outputId": "6cd52352-246e-43d3-807c-305472cc03f5"
      },
      "source": [
        "list_operation(15, 20, 7)"
      ],
      "id": "598ee5d1",
      "execution_count": null,
      "outputs": [
        {
          "data": {
            "text/plain": [
              "[]"
            ]
          },
          "execution_count": 10,
          "metadata": {},
          "output_type": "execute_result"
        }
      ]
    },
    {
      "cell_type": "markdown",
      "metadata": {
        "id": "2494b351"
      },
      "source": [
        " Question2 : Create a function that takes in two lists and returns True if the second list follows the first list by one element, and False otherwise. In other words, determine if the second list is the first list shifted to the right by 1.\n",
        "Examples\n",
        "simon_says([1, 2], [5, 1]) ➞ True\n",
        "simon_says([1, 2], [5, 5]) ➞ False\n",
        "simon_says([1, 2, 3, 4, 5], [0, 1, 2, 3, 4]) ➞ True\n",
        "simon_says([1, 2, 3, 4, 5], [5, 5, 1, 2, 3]) ➞ False\n",
        "Notes\n",
        " Both input lists will be of the same length, and will have a minimum length of 2.\n",
        " The values of the 0-indexed element in the second list and the n-1th indexed element\n",
        "in the first list do not matter."
      ],
      "id": "2494b351"
    },
    {
      "cell_type": "code",
      "metadata": {
        "id": "ff057196"
      },
      "source": [
        "# Ans : \n",
        "def simon_says(ls,ls2):\n",
        "    if ls[0:len(ls)-1] == ls2[1:len(ls2)]:\n",
        "        return True\n",
        "    return False"
      ],
      "id": "ff057196",
      "execution_count": null,
      "outputs": []
    },
    {
      "cell_type": "code",
      "metadata": {
        "id": "dd09c767",
        "outputId": "8fa257e5-fbbc-44bc-d75c-e495b552c3d3"
      },
      "source": [
        "simon_says([1, 2], [5, 1])"
      ],
      "id": "dd09c767",
      "execution_count": null,
      "outputs": [
        {
          "data": {
            "text/plain": [
              "True"
            ]
          },
          "execution_count": 12,
          "metadata": {},
          "output_type": "execute_result"
        }
      ]
    },
    {
      "cell_type": "code",
      "metadata": {
        "id": "968e8998",
        "outputId": "ac7a800f-2fab-4e28-a270-cc728686f15f"
      },
      "source": [
        "simon_says([1, 2], [5, 5])"
      ],
      "id": "968e8998",
      "execution_count": null,
      "outputs": [
        {
          "data": {
            "text/plain": [
              "False"
            ]
          },
          "execution_count": 13,
          "metadata": {},
          "output_type": "execute_result"
        }
      ]
    },
    {
      "cell_type": "code",
      "metadata": {
        "id": "712d95bc",
        "outputId": "58bd161f-a420-4103-ce51-72bb7b1d1774"
      },
      "source": [
        "simon_says([1, 2, 3, 4, 5], [0, 1, 2, 3, 4])"
      ],
      "id": "712d95bc",
      "execution_count": null,
      "outputs": [
        {
          "data": {
            "text/plain": [
              "True"
            ]
          },
          "execution_count": 14,
          "metadata": {},
          "output_type": "execute_result"
        }
      ]
    },
    {
      "cell_type": "code",
      "metadata": {
        "id": "e2755c99",
        "outputId": "e9c1183c-bfcf-4af8-e6d7-648d1a5dff9e"
      },
      "source": [
        "simon_says([1, 2, 3, 4, 5], [5, 5, 1, 2, 3])"
      ],
      "id": "e2755c99",
      "execution_count": null,
      "outputs": [
        {
          "data": {
            "text/plain": [
              "False"
            ]
          },
          "execution_count": 15,
          "metadata": {},
          "output_type": "execute_result"
        }
      ]
    },
    {
      "cell_type": "markdown",
      "metadata": {
        "id": "4bd1eb16"
      },
      "source": [
        " Question3 : A group of friends have decided to start a secret society. The name will be the first letter ofeach of their names, sorted in alphabetical order. Create a function that takes in a list of names and returns the name of the secret society.\n",
        "Examples\n",
        "society_name(['Adam', 'Sarah', 'Malcolm']) ➞ 'AMS'\n",
        "society_name(['Harry', 'Newt', 'Luna', 'Cho']) ➞ 'CHLN'\n",
        "society_name(['Phoebe', 'Chandler', 'Rachel', 'Ross', 'Monica', 'Joey'])"
      ],
      "id": "4bd1eb16"
    },
    {
      "cell_type": "code",
      "metadata": {
        "id": "f3d42332"
      },
      "source": [
        "# Ans : \n",
        "def society_name(lst):\n",
        "    return ''.join([i[0] for i in sorted(lst)])"
      ],
      "id": "f3d42332",
      "execution_count": null,
      "outputs": []
    },
    {
      "cell_type": "code",
      "metadata": {
        "id": "67771c1d",
        "outputId": "d4267a60-0587-4290-b9e0-7a269f40fe1d"
      },
      "source": [
        "society_name(['Adam', 'Sarah', 'Malcolm'])"
      ],
      "id": "67771c1d",
      "execution_count": null,
      "outputs": [
        {
          "data": {
            "text/plain": [
              "'AMS'"
            ]
          },
          "execution_count": 17,
          "metadata": {},
          "output_type": "execute_result"
        }
      ]
    },
    {
      "cell_type": "code",
      "metadata": {
        "id": "5ff5aad7",
        "outputId": "03737e98-1716-46a6-dcf4-084ba9798b6d"
      },
      "source": [
        "society_name(['Harry', 'Newt', 'Luna', 'Cho'])"
      ],
      "id": "5ff5aad7",
      "execution_count": null,
      "outputs": [
        {
          "data": {
            "text/plain": [
              "'CHLN'"
            ]
          },
          "execution_count": 18,
          "metadata": {},
          "output_type": "execute_result"
        }
      ]
    },
    {
      "cell_type": "code",
      "metadata": {
        "id": "76a4f675",
        "outputId": "07e85795-6984-4a15-96de-0908aadee740"
      },
      "source": [
        "society_name(['Phoebe', 'Chandler', 'Rachel', 'Ross', 'Monica', 'Joey'])"
      ],
      "id": "76a4f675",
      "execution_count": null,
      "outputs": [
        {
          "data": {
            "text/plain": [
              "'CJMPRR'"
            ]
          },
          "execution_count": 19,
          "metadata": {},
          "output_type": "execute_result"
        }
      ]
    },
    {
      "cell_type": "markdown",
      "metadata": {
        "id": "df4588b8"
      },
      "source": [
        "Question4 : An isogram is a word that has no duplicate letters. Create a function that takes a string and returns either True or False depending on whether or not it's an 'isogram'.\n",
        "Examples\n",
        "is_isogram('Algorism') ➞ True\n",
        "is_isogram('PasSword') ➞ False\n",
        "Not case sensitive.\n",
        "is_isogram('Consecutive') ➞ False\n",
        "Notes\n",
        " Ignore letter case (should not be case sensitive).\n",
        " All test cases contain valid one word strings."
      ],
      "id": "df4588b8"
    },
    {
      "cell_type": "code",
      "metadata": {
        "id": "b0eb983d"
      },
      "source": [
        "# Ans : \n",
        "def is_isogram(s):\n",
        "    for i in range(len(s)):\n",
        "        if s.lower().count(s[i]) > 1:\n",
        "            return False\n",
        "    else:\n",
        "        return True"
      ],
      "id": "b0eb983d",
      "execution_count": null,
      "outputs": []
    },
    {
      "cell_type": "code",
      "metadata": {
        "id": "ca281a7a",
        "outputId": "c86f3dbe-19b6-40a9-e0e5-6af7077c5650"
      },
      "source": [
        "is_isogram('Algorism')"
      ],
      "id": "ca281a7a",
      "execution_count": null,
      "outputs": [
        {
          "data": {
            "text/plain": [
              "True"
            ]
          },
          "execution_count": 21,
          "metadata": {},
          "output_type": "execute_result"
        }
      ]
    },
    {
      "cell_type": "code",
      "metadata": {
        "id": "e43e76c9",
        "outputId": "e84d8a62-6ff9-4678-e038-120c3fe4b7f2"
      },
      "source": [
        "is_isogram('PasSword')"
      ],
      "id": "e43e76c9",
      "execution_count": null,
      "outputs": [
        {
          "data": {
            "text/plain": [
              "False"
            ]
          },
          "execution_count": 22,
          "metadata": {},
          "output_type": "execute_result"
        }
      ]
    },
    {
      "cell_type": "code",
      "metadata": {
        "id": "e985db80",
        "outputId": "b9286e43-c069-4bb9-daba-89b1d877bd22"
      },
      "source": [
        "is_isogram('Consecutive')"
      ],
      "id": "e985db80",
      "execution_count": null,
      "outputs": [
        {
          "data": {
            "text/plain": [
              "False"
            ]
          },
          "execution_count": 23,
          "metadata": {},
          "output_type": "execute_result"
        }
      ]
    },
    {
      "cell_type": "markdown",
      "metadata": {
        "id": "1195b13f"
      },
      "source": [
        " Question5: Create a function that takes a string and returns True or False, depending on whether the characters are in order or not.\n",
        "Examples\n",
        "is_in_order('abc') ➞ True\n",
        "is_in_order('edabit') ➞ False\n",
        "is_in_order('123') ➞ True\n",
        "is_in_order('xyzz') ➞ True\n",
        "Notes\n",
        "You don't have to handle empty strings."
      ],
      "id": "1195b13f"
    },
    {
      "cell_type": "code",
      "metadata": {
        "id": "699ebc6d"
      },
      "source": [
        "# Ans : \n",
        "def is_in_order(s):\n",
        "    n = len(s)\n",
        "    c = [s[i] for i in range(len(s))]\n",
        "    c.sort()\n",
        "    for i in range(n):\n",
        "        if c[i] != s[i]:\n",
        "            return False\n",
        "    return True"
      ],
      "id": "699ebc6d",
      "execution_count": null,
      "outputs": []
    },
    {
      "cell_type": "code",
      "metadata": {
        "id": "ca69bb54",
        "outputId": "5b0aa62d-5905-442c-beec-2b44fd219f52"
      },
      "source": [
        "is_in_order('abc')"
      ],
      "id": "ca69bb54",
      "execution_count": null,
      "outputs": [
        {
          "data": {
            "text/plain": [
              "True"
            ]
          },
          "execution_count": 25,
          "metadata": {},
          "output_type": "execute_result"
        }
      ]
    },
    {
      "cell_type": "code",
      "metadata": {
        "id": "0fb28ef8",
        "outputId": "9575a4f6-4807-4394-840c-8aede002f284"
      },
      "source": [
        "is_in_order('edabit')"
      ],
      "id": "0fb28ef8",
      "execution_count": null,
      "outputs": [
        {
          "data": {
            "text/plain": [
              "False"
            ]
          },
          "execution_count": 26,
          "metadata": {},
          "output_type": "execute_result"
        }
      ]
    },
    {
      "cell_type": "code",
      "metadata": {
        "id": "198dffa5",
        "outputId": "37b35823-03ce-490c-f4b9-5a763cc2c5c1"
      },
      "source": [
        "is_in_order('123')"
      ],
      "id": "198dffa5",
      "execution_count": null,
      "outputs": [
        {
          "data": {
            "text/plain": [
              "True"
            ]
          },
          "execution_count": 27,
          "metadata": {},
          "output_type": "execute_result"
        }
      ]
    },
    {
      "cell_type": "code",
      "metadata": {
        "id": "23f326fb",
        "outputId": "fbd80490-6776-47fe-d2fc-a0c33cf5d0b1"
      },
      "source": [
        "is_in_order('xyzz')"
      ],
      "id": "23f326fb",
      "execution_count": null,
      "outputs": [
        {
          "data": {
            "text/plain": [
              "True"
            ]
          },
          "execution_count": 28,
          "metadata": {},
          "output_type": "execute_result"
        }
      ]
    }
  ]
}