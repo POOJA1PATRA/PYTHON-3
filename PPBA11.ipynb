{
  "nbformat": 4,
  "nbformat_minor": 0,
  "metadata": {
    "colab": {
      "name": "PPBA11.ipynb",
      "provenance": [],
      "authorship_tag": "ABX9TyN7GCiwZx/Lq8Xf37xuOJxs",
      "include_colab_link": true
    },
    "kernelspec": {
      "name": "python3",
      "display_name": "Python 3"
    },
    "language_info": {
      "name": "python"
    }
  },
  "cells": [
    {
      "cell_type": "markdown",
      "metadata": {
        "id": "view-in-github",
        "colab_type": "text"
      },
      "source": [
        "<a href=\"https://colab.research.google.com/github/Nitesh8833/Python_assignment_03/blob/main/PPBA11.ipynb\" target=\"_parent\"><img src=\"https://colab.research.google.com/assets/colab-badge.svg\" alt=\"Open In Colab\"/></a>"
      ]
    },
    {
      "cell_type": "markdown",
      "metadata": {
        "id": "Mlh7Y7VOeMOh"
      },
      "source": [
        "1.\tWrite a Python program to find words which are greater than given length k?"
      ]
    },
    {
      "cell_type": "code",
      "metadata": {
        "id": "VtuePYxaeQOw",
        "colab": {
          "base_uri": "https://localhost:8080/"
        },
        "outputId": "540e2acd-12d8-413d-d413-46b631cc43da"
      },
      "source": [
        "def greaterLen(k,s):\n",
        "  words = s.split(\" \")\n",
        "\n",
        "  for i in words:\n",
        "    if len(i)>k:\n",
        "      print(i)\n",
        "\n",
        "greaterLen(7,\"Ineuron is a good Institute\")\n",
        "\n"
      ],
      "execution_count": null,
      "outputs": [
        {
          "output_type": "stream",
          "name": "stdout",
          "text": [
            "Institute\n"
          ]
        }
      ]
    },
    {
      "cell_type": "markdown",
      "metadata": {
        "id": "lzb1rnUkwrSa"
      },
      "source": [
        "2.\tWrite a Python program for removing i-th character from a string?"
      ]
    },
    {
      "cell_type": "code",
      "metadata": {
        "colab": {
          "base_uri": "https://localhost:8080/",
          "height": 35
        },
        "id": "MEh9cMUxwvGh",
        "outputId": "f49f5d2d-7320-4560-d690-70e2e0293e2c"
      },
      "source": [
        "def removeChar(i,s):\n",
        "  a = s[ : i]\n",
        "  b = s[i + 1: ]\n",
        "  return a+b\n",
        "\n",
        "\n",
        "removeChar(6,\"LifeisGood\")\n"
      ],
      "execution_count": null,
      "outputs": [
        {
          "output_type": "execute_result",
          "data": {
            "application/vnd.google.colaboratory.intrinsic+json": {
              "type": "string"
            },
            "text/plain": [
              "'Lifeisood'"
            ]
          },
          "metadata": {},
          "execution_count": 7
        }
      ]
    },
    {
      "cell_type": "markdown",
      "metadata": {
        "id": "RcTJlN9Vy3RO"
      },
      "source": [
        "3.\tWrite a Python program to split and join a string?"
      ]
    },
    {
      "cell_type": "code",
      "metadata": {
        "colab": {
          "base_uri": "https://localhost:8080/"
        },
        "id": "akuEKF5hytfo",
        "outputId": "51479cb8-b899-4948-8794-1ab00402b0e0"
      },
      "source": [
        "def split_Join(s):\n",
        "  words = []\n",
        "  word = s.split(' ')\n",
        "  print(word)\n",
        "  for i in word:\n",
        "    words = '-'.join(word)\n",
        "  print(words)\n",
        "\n",
        "split_Join(\"The bartender's humorous but pointed commentary on American politics\")\n",
        "\n"
      ],
      "execution_count": null,
      "outputs": [
        {
          "output_type": "stream",
          "name": "stdout",
          "text": [
            "['The', \"bartender's\", 'humorous', 'but', 'pointed', 'commentary', 'on', 'American', 'politics']\n",
            "The bartender's humorous but pointed commentary on American politics\n"
          ]
        }
      ]
    },
    {
      "cell_type": "markdown",
      "metadata": {
        "id": "ZAIepSYE2b8X"
      },
      "source": [
        "4.\tWrite a Python to check if a given string is binary string or not?"
      ]
    },
    {
      "cell_type": "code",
      "metadata": {
        "id": "yiuhuFFI0LJR",
        "colab": {
          "base_uri": "https://localhost:8080/"
        },
        "outputId": "9eacfe86-f5a7-4d6c-d55d-7541d9e5990c"
      },
      "source": [
        "def check_str(str) :\n",
        "    b = set(str)\n",
        "    #print(b)\n",
        "    s = {'0', '1'}\n",
        "    if s == b or b == {'0'} or b == {'1'}:\n",
        "        print(\"Binary String\")\n",
        "    else :\n",
        "        print(\"Non Binary String\")\n",
        "\n",
        "check_str(\"101010\")\n",
        "check_str(\"1010dtre\")"
      ],
      "execution_count": 5,
      "outputs": [
        {
          "output_type": "stream",
          "name": "stdout",
          "text": [
            "Binary String\n",
            "Non Binary String\n"
          ]
        }
      ]
    },
    {
      "cell_type": "markdown",
      "metadata": {
        "id": "MDcY0GnmiAWS"
      },
      "source": [
        "5.\tWrite a Python program to find uncommon words from two Strings?"
      ]
    },
    {
      "cell_type": "code",
      "metadata": {
        "colab": {
          "base_uri": "https://localhost:8080/"
        },
        "id": "Nps9c2UAiFwi",
        "outputId": "27abec67-007e-4e58-88a6-7d0e74a59402"
      },
      "source": [
        "def uncommon(str1,str2):\n",
        "  \n",
        "  a= str1.split()\n",
        "  b= str2.split()\n",
        "  k=set(a).symmetric_difference(set(b))\n",
        "  return k\n",
        "\n",
        "uncommon(\"ram is a doctor\",\"rahul is an Engineer\")\n"
      ],
      "execution_count": 21,
      "outputs": [
        {
          "output_type": "execute_result",
          "data": {
            "text/plain": [
              "{'Engineer', 'a', 'an', 'doctor', 'rahul', 'ram'}"
            ]
          },
          "metadata": {},
          "execution_count": 21
        }
      ]
    },
    {
      "cell_type": "markdown",
      "metadata": {
        "id": "gb3ELrBHnzVC"
      },
      "source": [
        "6.\tWrite a Python to find all duplicate characters in string?"
      ]
    },
    {
      "cell_type": "code",
      "metadata": {
        "colab": {
          "base_uri": "https://localhost:8080/"
        },
        "id": "_LBw7smarcGb",
        "outputId": "3067d2e3-c102-4b9a-cf21-3febeb03090b"
      },
      "source": [
        "def duplicates(str3):\n",
        "  c = \"\"\n",
        "  a = list(str3)\n",
        "  #print(a)\n",
        "  for i in a:\n",
        "    counter = str3.count(i)\n",
        "    #print(counter)\n",
        "    if counter > 1:\n",
        "      c = str(c)+i\n",
        "    #print(c)\n",
        "  return set(c)\n",
        "\n",
        "duplicates(\"kumarku\")"
      ],
      "execution_count": 36,
      "outputs": [
        {
          "output_type": "execute_result",
          "data": {
            "text/plain": [
              "{'k', 'u'}"
            ]
          },
          "metadata": {},
          "execution_count": 36
        }
      ]
    },
    {
      "cell_type": "markdown",
      "metadata": {
        "id": "5JguC3SltDOz"
      },
      "source": [
        "7.\tWrite a Python Program to check if a string contains any special character?"
      ]
    },
    {
      "cell_type": "code",
      "metadata": {
        "colab": {
          "base_uri": "https://localhost:8080/"
        },
        "id": "qRm6HAuvUTNW",
        "outputId": "ed418173-b12c-447c-ae91-adc520e979d7"
      },
      "source": [
        "import re\n",
        "\n",
        "def check_Str(str1):\n",
        "  expression_reg = re.compile('[@_!#$%^&*()<>?/\\|}{~:]')\n",
        "  if(expression_reg.search(str1) == None):\n",
        "    print(\"No special character\")\n",
        "  else:\n",
        "    print(\"Having Special Characters\")\n",
        "\n",
        "check_Str(\"Nitesh$Nitesh\")\n",
        "check_Str(\"Nitesh\")\n",
        "\n"
      ],
      "execution_count": 38,
      "outputs": [
        {
          "output_type": "stream",
          "name": "stdout",
          "text": [
            "Having Special Characters\n",
            "No special characters\n"
          ]
        }
      ]
    }
  ]
}