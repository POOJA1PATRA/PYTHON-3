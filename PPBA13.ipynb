{
  "nbformat": 4,
  "nbformat_minor": 5,
  "metadata": {
    "kernelspec": {
      "display_name": "Python 3 (ipykernel)",
      "language": "python",
      "name": "python3"
    },
    "language_info": {
      "codemirror_mode": {
        "name": "ipython",
        "version": 3
      },
      "file_extension": ".py",
      "mimetype": "text/x-python",
      "name": "python",
      "nbconvert_exporter": "python",
      "pygments_lexer": "ipython3",
      "version": "3.9.7"
    },
    "colab": {
      "name": "PPBA13",
      "provenance": [],
      "include_colab_link": true
    }
  },
  "cells": [
    {
      "cell_type": "markdown",
      "metadata": {
        "id": "view-in-github",
        "colab_type": "text"
      },
      "source": [
        "<a href=\"https://colab.research.google.com/github/Nitesh8833/Python_assignment_03/blob/main/PPBA13.ipynb\" target=\"_parent\"><img src=\"https://colab.research.google.com/assets/colab-badge.svg\" alt=\"Open In Colab\"/></a>"
      ]
    },
    {
      "cell_type": "markdown",
      "metadata": {
        "id": "_A7aOGYRLlk2"
      },
      "source": [
        "Question 1: Write a program that calculates and prints the value according to the given formula:\n",
        "Q = Square root of [(2 * C * D)/H]\n",
        "Following are the fixed values of C and H:\n",
        "C is 50. H is 30.\n",
        "D is the variable whose values should be input to your program in a comma-separated sequence.\n",
        "Example\n",
        "Let us assume the following comma separated input sequence is given to the program:\n",
        "100,150,180\n",
        "The output of the program should be:\n",
        "18,22,24\n"
      ],
      "id": "_A7aOGYRLlk2"
    },
    {
      "cell_type": "code",
      "metadata": {
        "id": "716e4abe",
        "outputId": "f42ca6cb-410d-48b1-d751-4e1c77de498e"
      },
      "source": [
        "# Ans :\n",
        "import math\n",
        "\n",
        "numbers = input(\"Provide D in with comma separated: \")\n",
        "numbers = numbers.split(',')\n",
        "\n",
        "result_list = []\n",
        "result_string = ''\n",
        "for D in numbers:\n",
        "    Q = round(math.sqrt(2 * 50 * int(D) / 30))\n",
        "    result_list.append(str(Q))\n",
        "    \n",
        "print(','.join(result_list))"
      ],
      "id": "716e4abe",
      "execution_count": null,
      "outputs": [
        {
          "name": "stdout",
          "output_type": "stream",
          "text": [
            "Provide D in with comma separated: 98,54,3\n",
            "18,13,3\n"
          ]
        }
      ]
    },
    {
      "cell_type": "markdown",
      "metadata": {
        "id": "JETU18M-L3Z8"
      },
      "source": [
        "Question 2: Write a program which takes 2 digits, X,Y as input and generates a 2-dimensional array. The element value in the i-th row and j-th column of the array should be i*j.\n",
        "Note: i=0,1.., X-1; j=0,1,¡Y-1.\n",
        "Example\n",
        "Suppose the following inputs are given to the program:\n",
        "3,5\n",
        "Then, the output of the program should be:\n",
        "[[0, 0, 0, 0, 0], [0, 1, 2, 3, 4], [0, 2, 4, 6, 8]]"
      ],
      "id": "JETU18M-L3Z8"
    },
    {
      "cell_type": "code",
      "metadata": {
        "id": "66c5d519",
        "outputId": "b610d66f-0751-4366-9fd7-6a52005fa984"
      },
      "source": [
        "# Ans :\n",
        "def createMatrix(n,m):\n",
        "    \n",
        "    M=[]             \n",
        "    print(\"Enter the element :\")\n",
        "    for i in range(n):\n",
        "        #stor row\n",
        "        row =[]\n",
        "        for j in range(m):\n",
        "            row.append(i*j)\n",
        "        M.append(row)\n",
        "    return(M)\n",
        "\n",
        "x = int(input(\"Enter x : \"))\n",
        "y = int(input(\"enter y : \"))\n",
        "createMatrix(x,y)"
      ],
      "id": "66c5d519",
      "execution_count": null,
      "outputs": [
        {
          "name": "stdout",
          "output_type": "stream",
          "text": [
            "Enter x : 2\n",
            "enter y : 2\n",
            "Enter the element :\n"
          ]
        },
        {
          "data": {
            "text/plain": [
              "[[0, 0], [0, 1]]"
            ]
          },
          "execution_count": 6,
          "metadata": {},
          "output_type": "execute_result"
        }
      ]
    },
    {
      "cell_type": "markdown",
      "metadata": {
        "id": "dEBJe9W0MHuU"
      },
      "source": [
        "Question 3: Write a program that accepts a comma separated sequence of words as input and prints the words in a comma-separated sequence after sorting them alphabetically.\n",
        "Suppose the following input is supplied to the program:\n",
        "without,hello,bag,world\n",
        "Then, the output should be:\n",
        "bag,hello,without,world"
      ],
      "id": "dEBJe9W0MHuU"
    },
    {
      "cell_type": "code",
      "metadata": {
        "id": "e4ef4331",
        "outputId": "98028537-4490-4bfe-adc8-b04aeba9de8f"
      },
      "source": [
        "# Ans : \n",
        "items=[x for x in input('Enter comma seperated words ').split(',')]\n",
        "items.sort()    \n",
        "print(','.join(items))"
      ],
      "id": "e4ef4331",
      "execution_count": null,
      "outputs": [
        {
          "name": "stdout",
          "output_type": "stream",
          "text": [
            "Enter comma seperated words hello,python,okay\n",
            "hello,okay,python\n"
          ]
        }
      ]
    },
    {
      "cell_type": "markdown",
      "metadata": {
        "id": "9ZtGCGxHMOl_"
      },
      "source": [
        "Question 4: Write a program that accepts a sequence of whitespace separated words as input and prints the words after removing all duplicate words and sorting them alphanumerically.\n",
        "Suppose the following input is supplied to the program:\n",
        "hello world and practice makes perfect and hello world again\n",
        "Then, the output should be:\n",
        "again and hello makes perfect practice world"
      ],
      "id": "9ZtGCGxHMOl_"
    },
    {
      "cell_type": "code",
      "metadata": {
        "id": "c4856e62",
        "outputId": "c31b79b5-fb3a-431c-87de-3d9c209c4f6b"
      },
      "source": [
        "# Ans : \n",
        "items=[x for x in input('Enter space sepeated words ').split(' ')]\n",
        "print(' '.join(sorted(list(set(items)))))"
      ],
      "id": "c4856e62",
      "execution_count": null,
      "outputs": [
        {
          "name": "stdout",
          "output_type": "stream",
          "text": [
            "Enter space sepeated words hello,wow,okay\n",
            "hello,wow,okay\n"
          ]
        }
      ]
    },
    {
      "cell_type": "markdown",
      "metadata": {
        "id": "7a6RHl3fMUcL"
      },
      "source": [
        "Question 5: Write a program that accepts a sentence and calculate the number of letters and digits. Suppose the following input is supplied to the program:\n",
        "hello world! 123\n",
        "Then, the output should be:\n",
        "LETTERS 10\n",
        "DIGITS 3"
      ],
      "id": "7a6RHl3fMUcL"
    },
    {
      "cell_type": "code",
      "metadata": {
        "id": "81e23cd7",
        "outputId": "aa9555fb-f5e0-4f58-d155-0747a06c4f0d"
      },
      "source": [
        "# Ans : \n",
        "s = input(\"Input a string : \")\n",
        "digits=letters=0\n",
        "for c in s:\n",
        "    if c.isdigit():\n",
        "        digits += 1\n",
        "    elif c.isalpha():\n",
        "        letters += 1\n",
        "    else:\n",
        "        pass\n",
        "print(\"Letters\", letters)\n",
        "print(\"Digits\", digits)"
      ],
      "id": "81e23cd7",
      "execution_count": null,
      "outputs": [
        {
          "name": "stdout",
          "output_type": "stream",
          "text": [
            "Input a string : bhushankoli12221\n",
            "Letters 11\n",
            "Digits 5\n"
          ]
        }
      ]
    },
    {
      "cell_type": "markdown",
      "metadata": {
        "id": "PYRM-RbwMffY"
      },
      "source": [
        "To undo cell deletion use Ctrl+M Z or the Undo option in the Edit menu\n",
        "Assignment 13.ipynb\n",
        "Assignment 13.ipynb_\n",
        "Question 1: Write a program that calculates and prints the value according to the given formula: Q = Square root of [(2 * C * D)/H] Following are the fixed values of C and H: C is 50. H is 30. D is the variable whose values should be input to your program in a comma-separated sequence. Example Let us assume the following comma separated input sequence is given to the program: 100,150,180 The output of the program should be: 18,22,24\n",
        "\n",
        "[ ]\n",
        "# Ans :\n",
        "import math\n",
        "\n",
        "numbers = input(\"Provide D in with comma separated: \")\n",
        "numbers = numbers.split(',')\n",
        "\n",
        "result_list = []\n",
        "result_string = ''\n",
        "for D in numbers:\n",
        "    Q = round(math.sqrt(2 * 50 * int(D) / 30))\n",
        "    result_list.append(str(Q))\n",
        "    \n",
        "print(','.join(result_list))\n",
        "Provide D in with comma separated: 98,54,3\n",
        "18,13,3\n",
        "Question 2: Write a program which takes 2 digits, X,Y as input and generates a 2-dimensional array. The element value in the i-th row and j-th column of the array should be i*j. Note: i=0,1.., X-1; j=0,1,¡Y-1. Example Suppose the following inputs are given to the program: 3,5 Then, the output of the program should be: [[0, 0, 0, 0, 0], [0, 1, 2, 3, 4], [0, 2, 4, 6, 8]]\n",
        "\n",
        "[ ]\n",
        "# Ans :\n",
        "def createMatrix(n,m):\n",
        "    \n",
        "    M=[]             \n",
        "    print(\"Enter the element :\")\n",
        "    for i in range(n):\n",
        "        #stor row\n",
        "        row =[]\n",
        "        for j in range(m):\n",
        "            row.append(i*j)\n",
        "        M.append(row)\n",
        "    return(M)\n",
        "\n",
        "x = int(input(\"Enter x : \"))\n",
        "y = int(input(\"enter y : \"))\n",
        "createMatrix(x,y)\n",
        "Enter x : 2\n",
        "enter y : 2\n",
        "Enter the element :\n",
        "[[0, 0], [0, 1]]\n",
        "Question 3: Write a program that accepts a comma separated sequence of words as input and prints the words in a comma-separated sequence after sorting them alphabetically. Suppose the following input is supplied to the program: without,hello,bag,world Then, the output should be: bag,hello,without,world\n",
        "\n",
        "[ ]\n",
        "# Ans : \n",
        "items=[x for x in input('Enter comma seperated words ').split(',')]\n",
        "items.sort()    \n",
        "print(','.join(items))\n",
        "Enter comma seperated words hello,python,okay\n",
        "hello,okay,python\n",
        "Question 4: Write a program that accepts a sequence of whitespace separated words as input and prints the words after removing all duplicate words and sorting them alphanumerically. Suppose the following input is supplied to the program: hello world and practice makes perfect and hello world again Then, the output should be: again and hello makes perfect practice world\n",
        "\n",
        "[ ]\n",
        "# Ans : \n",
        "items=[x for x in input('Enter space sepeated words ').split(' ')]\n",
        "print(' '.join(sorted(list(set(items)))))\n",
        "Enter space sepeated words hello,wow,okay\n",
        "hello,wow,okay\n",
        "Question 5: Write a program that accepts a sentence and calculate the number of letters and digits. Suppose the following input is supplied to the program: hello world! 123 Then, the output should be: LETTERS 10 DIGITS 3\n",
        "\n",
        "[ ]\n",
        "# Ans : \n",
        "s = input(\"Input a string : \")\n",
        "digits=letters=0\n",
        "for c in s:\n",
        "    if c.isdigit():\n",
        "        digits += 1\n",
        "    elif c.isalpha():\n",
        "        letters += 1\n",
        "    else:\n",
        "        pass\n",
        "print(\"Letters\", letters)\n",
        "print(\"Digits\", digits)\n",
        "Input a string : bhushankoli12221\n",
        "Letters 11\n",
        "Digits 5\n",
        "Question 6: A website requires the users to input username and password to register. Write a program to check the validity of password input by users.\n",
        "Following are the criteria for checking the password:\n",
        "1. At least 1 letter between [a-z]\n",
        "2. At least 1 number between [0-9]\n",
        "1. At least 1 letter between [A-Z]\n",
        "3. At least 1 character from '[#@]'\n",
        "4. Minimum length of transaction password: 6\n",
        "5. Maximum length of transaction password: 12\n",
        "Your program should accept a sequence of comma separated passwords and will check them according to the above criteria. Passwords that match the criteria are to be printed, each separated by a comma.\n",
        "Example\n",
        "If the following passwords are given as input to the program:\n",
        "[ ]\n",
        "# Ans : \n",
        "import re\n",
        "password= input(\"Enter your password : \")\n",
        "x = True\n",
        "while x:  \n",
        "    if (len(password) < 6 or len(password) > 12):\n",
        "        break\n",
        "    elif not re.search(\"[a-z]\",password):\n",
        "        break\n",
        "    elif not re.search(\"[0-9]\",password):\n",
        "\n",
        "Enter your password : Nitesh@23!2\n",
        "Valid Password\n"
      ],
      "id": "PYRM-RbwMffY"
    },
    {
      "cell_type": "code",
      "metadata": {
        "colab": {
          "base_uri": "https://localhost:8080/"
        },
        "id": "f66a6087",
        "outputId": "8779be75-aed7-4747-9799-32beff9da3ee"
      },
      "source": [
        "# Ans : \n",
        "import re\n",
        "password= input(\"Enter your password : \")\n",
        "x = True\n",
        "while x:  \n",
        "    if (len(password) < 6 or len(password) > 12):\n",
        "        break\n",
        "    elif not re.search(\"[a-z]\",password):\n",
        "        break\n",
        "    elif not re.search(\"[0-9]\",password):\n",
        "        break\n",
        "    elif not re.search(\"[A-Z]\",password):\n",
        "        break\n",
        "    elif not re.search(\"[$#@]\",password):\n",
        "        break\n",
        "    elif re.search(\"\\s\",password):\n",
        "        break\n",
        "    else:\n",
        "        print(\"Valid Password\")\n",
        "        x=False\n",
        "        break\n",
        "\n",
        "if x:\n",
        "    print(\"Not a Valid Password\")"
      ],
      "id": "f66a6087",
      "execution_count": 2,
      "outputs": [
        {
          "output_type": "stream",
          "name": "stdout",
          "text": [
            "Enter your password : Nitesh@23!2\n",
            "Valid Password\n"
          ]
        }
      ]
    },
    {
      "cell_type": "markdown",
      "metadata": {
        "id": "FWDj-6pNMddS"
      },
      "source": [
        ""
      ],
      "id": "FWDj-6pNMddS"
    }
  ]
}