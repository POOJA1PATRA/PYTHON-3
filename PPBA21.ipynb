{
  "nbformat": 4,
  "nbformat_minor": 5,
  "metadata": {
    "kernelspec": {
      "display_name": "Python 3 (ipykernel)",
      "language": "python",
      "name": "python3"
    },
    "language_info": {
      "codemirror_mode": {
        "name": "ipython",
        "version": 3
      },
      "file_extension": ".py",
      "mimetype": "text/x-python",
      "name": "python",
      "nbconvert_exporter": "python",
      "pygments_lexer": "ipython3",
      "version": "3.9.7"
    },
    "colab": {
      "name": "PPBA21.ipynb",
      "provenance": [],
      "include_colab_link": true
    }
  },
  "cells": [
    {
      "cell_type": "markdown",
      "metadata": {
        "id": "view-in-github",
        "colab_type": "text"
      },
      "source": [
        "<a href=\"https://colab.research.google.com/github/Nitesh8833/Python_assignment_03/blob/main/PPBA21.ipynb\" target=\"_parent\"><img src=\"https://colab.research.google.com/assets/colab-badge.svg\" alt=\"Open In Colab\"/></a>"
      ]
    },
    {
      "cell_type": "markdown",
      "metadata": {
        "id": "844d7bbf"
      },
      "source": [
        " Question1 Write a function that takes a list and a number as arguments. Add the number to the end of the list, then remove the first element of the list. The function should then return the updated list.\n",
        "Examples\n",
        "next_in_line([5, 6, 7, 8, 9], 1) ➞ [6, 7, 8, 9, 1]\n",
        "next_in_line([7, 6, 3, 23, 17], 10) ➞ [6, 3, 23, 17, 10]\n",
        "next_in_line([1, 10, 20, 42 ], 6) ➞ [10, 20, 42, 6]\n",
        "next_in_line([], 6) ➞ 'No list has been selected'"
      ],
      "id": "844d7bbf"
    },
    {
      "cell_type": "code",
      "metadata": {
        "id": "0327cf8d"
      },
      "source": [
        "# Ans : \n",
        "lst = [5, 6, 7, 8, 9]\n",
        "def next_in_line(lst,num):\n",
        "    if len(lst) > 0 :\n",
        "        lst.append(num)\n",
        "        return lst[1:]\n",
        "    else:\n",
        "        print(\"'No list has been selected'\")"
      ],
      "id": "0327cf8d",
      "execution_count": null,
      "outputs": []
    },
    {
      "cell_type": "code",
      "metadata": {
        "id": "e5cde6e1",
        "outputId": "29f88f80-d6ef-43d3-b458-813b47a405fe"
      },
      "source": [
        "next_in_line([5, 6, 7, 8, 9], 1)"
      ],
      "id": "e5cde6e1",
      "execution_count": null,
      "outputs": [
        {
          "data": {
            "text/plain": [
              "[6, 7, 8, 9, 1]"
            ]
          },
          "execution_count": 2,
          "metadata": {},
          "output_type": "execute_result"
        }
      ]
    },
    {
      "cell_type": "code",
      "metadata": {
        "id": "27dbbbfc",
        "outputId": "4fd40603-84ad-465c-befe-145ba4dcf437"
      },
      "source": [
        "next_in_line([7, 6, 3, 23, 17], 10)"
      ],
      "id": "27dbbbfc",
      "execution_count": null,
      "outputs": [
        {
          "data": {
            "text/plain": [
              "[6, 3, 23, 17, 10]"
            ]
          },
          "execution_count": 3,
          "metadata": {},
          "output_type": "execute_result"
        }
      ]
    },
    {
      "cell_type": "code",
      "metadata": {
        "id": "4f97803a",
        "outputId": "5cc13637-7f2b-4438-c776-6d0939c5f63e"
      },
      "source": [
        "next_in_line([1, 10, 20, 42 ], 6)"
      ],
      "id": "4f97803a",
      "execution_count": null,
      "outputs": [
        {
          "data": {
            "text/plain": [
              "[10, 20, 42, 6]"
            ]
          },
          "execution_count": 4,
          "metadata": {},
          "output_type": "execute_result"
        }
      ]
    },
    {
      "cell_type": "code",
      "metadata": {
        "id": "176e6084",
        "outputId": "82bbe9a7-1851-4254-c810-057a24d4fba2"
      },
      "source": [
        "next_in_line([], 6)"
      ],
      "id": "176e6084",
      "execution_count": null,
      "outputs": [
        {
          "name": "stdout",
          "output_type": "stream",
          "text": [
            "'No list has been selected'\n"
          ]
        }
      ]
    },
    {
      "cell_type": "markdown",
      "metadata": {
        "id": "0ae6a6b0"
      },
      "source": [
        "Question2 Create the function that takes a list of dictionaries and returns the sum of people's budgets. \n",
        "Examples\n",
        "get_budgets([\n",
        "{ 'name': 'John', 'age': 21, 'budget': 23000 },\n",
        "{ 'name': 'Steve', 'age': 32, 'budget': 40000 },\n",
        "{ 'name': 'Martin', 'age': 16, 'budget': 2700 }\n",
        "]) ➞ 65700\n",
        "get_budgets([\n",
        "{ 'name': 'John', 'age': 21, 'budget': 29000 },\n",
        "{ 'name': 'Steve', 'age': 32, 'budget': 32000 },\n",
        "{ 'name': 'Martin', 'age': 16, 'budget': 1600 }\n",
        "]) ➞ 62600"
      ],
      "id": "0ae6a6b0"
    },
    {
      "cell_type": "code",
      "metadata": {
        "id": "d4717e66"
      },
      "source": [
        "# Ans : \n",
        "def get_budgets(listDict):\n",
        "    sum = 0\n",
        "    for dc in listDict:\n",
        "        for k,v in dc.items():\n",
        "            if k == 'budget':\n",
        "                sum = sum + v\n",
        "    return sum"
      ],
      "id": "d4717e66",
      "execution_count": null,
      "outputs": []
    },
    {
      "cell_type": "code",
      "metadata": {
        "id": "9bf61abd",
        "outputId": "ead4d78b-9b16-4f64-ff64-7839bc9f6410"
      },
      "source": [
        "get_budgets([\n",
        "{ 'name': 'John', 'age': 21, 'budget': 23000 },\n",
        "{ 'name': 'Steve', 'age': 32, 'budget': 40000 },\n",
        "{ 'name': 'Martin', 'age': 16, 'budget': 2700 }\n",
        "])"
      ],
      "id": "9bf61abd",
      "execution_count": null,
      "outputs": [
        {
          "data": {
            "text/plain": [
              "65700"
            ]
          },
          "execution_count": 7,
          "metadata": {},
          "output_type": "execute_result"
        }
      ]
    },
    {
      "cell_type": "code",
      "metadata": {
        "id": "93e5da55",
        "outputId": "97dca173-c094-4499-9243-4060d820c01c"
      },
      "source": [
        "get_budgets([\n",
        "{ 'name': 'John', 'age': 21, 'budget': 29000 },\n",
        "{ 'name': 'Steve', 'age': 32, 'budget': 32000 },\n",
        "{ 'name': 'Martin', 'age': 16, 'budget': 1600 }\n",
        "])"
      ],
      "id": "93e5da55",
      "execution_count": null,
      "outputs": [
        {
          "data": {
            "text/plain": [
              "62600"
            ]
          },
          "execution_count": 8,
          "metadata": {},
          "output_type": "execute_result"
        }
      ]
    },
    {
      "cell_type": "markdown",
      "metadata": {
        "id": "bf3d8c50"
      },
      "source": [
        "Question3 : Create a function that takes a string and returns a string with its letters in alphabetical order. \n",
        "Examples\n",
        "alphabet_soup('hello') ➞ 'ehllo'\n",
        "alphabet_soup('edabit') ➞ 'abdeit'\n",
        "alphabet_soup('hacker') ➞ 'acehkr'\n",
        "alphabet_soup('geek') ➞ 'eegk'\n",
        "alphabet_soup('javascript') ➞ 'aacijprstv'"
      ],
      "id": "bf3d8c50"
    },
    {
      "cell_type": "code",
      "metadata": {
        "id": "0bd8ea49"
      },
      "source": [
        "# Ans : \n",
        "def alphabet_soup(str):\n",
        "    return ''.join(sorted(str))"
      ],
      "id": "0bd8ea49",
      "execution_count": null,
      "outputs": []
    },
    {
      "cell_type": "code",
      "metadata": {
        "id": "04a83b45",
        "outputId": "9e3354f1-6bbf-47ad-bea9-fe11aed965c8"
      },
      "source": [
        "alphabet_soup('hello')"
      ],
      "id": "04a83b45",
      "execution_count": null,
      "outputs": [
        {
          "data": {
            "text/plain": [
              "'ehllo'"
            ]
          },
          "execution_count": 10,
          "metadata": {},
          "output_type": "execute_result"
        }
      ]
    },
    {
      "cell_type": "code",
      "metadata": {
        "id": "0366b488",
        "outputId": "c8b94668-39bf-4e08-88d1-fa022dc08bdf"
      },
      "source": [
        "alphabet_soup('edabit')"
      ],
      "id": "0366b488",
      "execution_count": null,
      "outputs": [
        {
          "data": {
            "text/plain": [
              "'abdeit'"
            ]
          },
          "execution_count": 11,
          "metadata": {},
          "output_type": "execute_result"
        }
      ]
    },
    {
      "cell_type": "code",
      "metadata": {
        "id": "84ad833f",
        "outputId": "54742d44-9790-4d58-bf9d-97608b775078"
      },
      "source": [
        "alphabet_soup('hacker')"
      ],
      "id": "84ad833f",
      "execution_count": null,
      "outputs": [
        {
          "data": {
            "text/plain": [
              "'acehkr'"
            ]
          },
          "execution_count": 12,
          "metadata": {},
          "output_type": "execute_result"
        }
      ]
    },
    {
      "cell_type": "code",
      "metadata": {
        "id": "8a622f16",
        "outputId": "0c53d7dc-b241-437b-ac56-8a80d991d09a"
      },
      "source": [
        "alphabet_soup('geek')"
      ],
      "id": "8a622f16",
      "execution_count": null,
      "outputs": [
        {
          "data": {
            "text/plain": [
              "'eegk'"
            ]
          },
          "execution_count": 13,
          "metadata": {},
          "output_type": "execute_result"
        }
      ]
    },
    {
      "cell_type": "code",
      "metadata": {
        "id": "0150d14e",
        "outputId": "18bfca1d-18f7-430b-d705-af0a779a7557"
      },
      "source": [
        "alphabet_soup('javascript')"
      ],
      "id": "0150d14e",
      "execution_count": null,
      "outputs": [
        {
          "data": {
            "text/plain": [
              "'aacijprstv'"
            ]
          },
          "execution_count": 14,
          "metadata": {},
          "output_type": "execute_result"
        }
      ]
    },
    {
      "cell_type": "markdown",
      "metadata": {
        "id": "6ef91ac4"
      },
      "source": [
        " Question4 : Suppose that you invest # Dollar 10,000 for 10 years at an interest rate of 6% compounded monthly.What will be the value of your investment at the end of the 10 year period? Create a function that accepts the principal p, the term in years t, the interest rate r, and thenumber of compounding periods per year n. The function returns the value at the end of term rounded to the nearest cent. For the example above:\n",
        "compound_interest(10000, 10, 0.06, 12) ➞ 18193.97\n",
        "Note that the interest rate is given as a decimal and n=12 because with monthly compounding\n",
        "there are 12 periods per year. Compounding can also be done annually, quarterly, weekly, or\n",
        "daily.\n",
        "Examples\n",
        "compound_interest(100, 1, 0.05, 1) ➞ 105.0\n",
        "compound_interest(3500, 15, 0.1, 4) ➞ 15399.26\n",
        "compound_interest(100000, 20, 0.15, 365) ➞ 2007316.26\n",
        "\n",
        "FV = PV(1 + r/m)mt"
      ],
      "id": "6ef91ac4"
    },
    {
      "cell_type": "code",
      "metadata": {
        "id": "55db0f90"
      },
      "source": [
        "# Ans :\n",
        "def compound_interest(amt, years, intrest, compPeriod):\n",
        "    future_value = amt *(1 + (intrest/compPeriod)) ** (years * compPeriod)\n",
        "    return round(future_value,2)"
      ],
      "id": "55db0f90",
      "execution_count": null,
      "outputs": []
    },
    {
      "cell_type": "code",
      "metadata": {
        "id": "017ebd41",
        "outputId": "50b97491-b28c-4295-b6ff-b9b465d43d41"
      },
      "source": [
        "compound_interest(100, 1, 0.05, 1)"
      ],
      "id": "017ebd41",
      "execution_count": null,
      "outputs": [
        {
          "data": {
            "text/plain": [
              "105.0"
            ]
          },
          "execution_count": 16,
          "metadata": {},
          "output_type": "execute_result"
        }
      ]
    },
    {
      "cell_type": "code",
      "metadata": {
        "id": "4f59e8d5",
        "outputId": "1370e66e-8db4-43f1-c056-20eaaf3cd1ea"
      },
      "source": [
        "compound_interest(3500, 15, 0.1, 4)"
      ],
      "id": "4f59e8d5",
      "execution_count": null,
      "outputs": [
        {
          "data": {
            "text/plain": [
              "15399.26"
            ]
          },
          "execution_count": 17,
          "metadata": {},
          "output_type": "execute_result"
        }
      ]
    },
    {
      "cell_type": "code",
      "metadata": {
        "id": "f6470978",
        "outputId": "f9d78025-ff2d-4753-e7a7-9c5c49f93c57"
      },
      "source": [
        "compound_interest(100000, 20, 0.15, 365)"
      ],
      "id": "f6470978",
      "execution_count": null,
      "outputs": [
        {
          "data": {
            "text/plain": [
              "2007316.26"
            ]
          },
          "execution_count": 18,
          "metadata": {},
          "output_type": "execute_result"
        }
      ]
    },
    {
      "cell_type": "markdown",
      "metadata": {
        "id": "95ebb848"
      },
      "source": [
        " Question5 : Write a function that takes a list of elements and returns only the integers.\n",
        "Examples\n",
        "return_only_integer([9, 2, 'space', 'car', 'lion', 16]) ➞ [9, 2, 16]\n",
        "return_only_integer(['hello', 81, 'basketball', 123, 'fox']) ➞ [81, 123]\n",
        "return_only_integer([10, '121', 56, 20, 'car', 3, 'lion']) ➞ [10, 56, 20, 3]\n",
        "return_only_integer(['String', True, 3.3, 1]) ➞ [1]"
      ],
      "id": "95ebb848"
    },
    {
      "cell_type": "code",
      "metadata": {
        "id": "9b921bb6"
      },
      "source": [
        "# Ans : \n",
        "def return_only_integer(lst):\n",
        "    intLst = []\n",
        "    for i in lst:\n",
        "        if type(i) == int:\n",
        "            intLst.append(i)\n",
        "    return intLst"
      ],
      "id": "9b921bb6",
      "execution_count": null,
      "outputs": []
    },
    {
      "cell_type": "code",
      "metadata": {
        "id": "1a5b095b",
        "outputId": "8b4620e8-5e37-42d1-e5b2-380e37e09f18"
      },
      "source": [
        "return_only_integer([9, 2, 'space', 'car', 'lion', 16])"
      ],
      "id": "1a5b095b",
      "execution_count": null,
      "outputs": [
        {
          "data": {
            "text/plain": [
              "[9, 2, 16]"
            ]
          },
          "execution_count": 20,
          "metadata": {},
          "output_type": "execute_result"
        }
      ]
    },
    {
      "cell_type": "code",
      "metadata": {
        "id": "7de5b5d8",
        "outputId": "37c2807d-a63d-459e-b806-990811d24102"
      },
      "source": [
        "return_only_integer(['hello', 81, 'basketball', 123, 'fox'])"
      ],
      "id": "7de5b5d8",
      "execution_count": null,
      "outputs": [
        {
          "data": {
            "text/plain": [
              "[81, 123]"
            ]
          },
          "execution_count": 21,
          "metadata": {},
          "output_type": "execute_result"
        }
      ]
    },
    {
      "cell_type": "code",
      "metadata": {
        "id": "58b4bc2a",
        "outputId": "849df4f7-427d-4f83-b07d-4fb2fc43c2f9"
      },
      "source": [
        "return_only_integer([10, '121', 56, 20, 'car', 3, 'lion'])"
      ],
      "id": "58b4bc2a",
      "execution_count": null,
      "outputs": [
        {
          "data": {
            "text/plain": [
              "[10, 56, 20, 3]"
            ]
          },
          "execution_count": 22,
          "metadata": {},
          "output_type": "execute_result"
        }
      ]
    },
    {
      "cell_type": "code",
      "metadata": {
        "id": "d8e6318d",
        "outputId": "3608532b-9cd7-489e-990b-36d16bba6f06"
      },
      "source": [
        "return_only_integer(['String', True, 3.3, 1])"
      ],
      "id": "d8e6318d",
      "execution_count": null,
      "outputs": [
        {
          "data": {
            "text/plain": [
              "[1]"
            ]
          },
          "execution_count": 23,
          "metadata": {},
          "output_type": "execute_result"
        }
      ]
    }
  ]
}