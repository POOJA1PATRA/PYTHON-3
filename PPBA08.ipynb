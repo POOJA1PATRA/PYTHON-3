{
  "nbformat": 4,
  "nbformat_minor": 0,
  "metadata": {
    "colab": {
      "name": "PPBA08.ipynb",
      "provenance": [],
      "collapsed_sections": []
    },
    "kernelspec": {
      "name": "python3",
      "display_name": "Python 3"
    },
    "language_info": {
      "name": "python"
    }
  },
  "cells": [
    {
      "cell_type": "markdown",
      "metadata": {
        "id": "Xej8vYiz3731"
      },
      "source": [
        "1.\tWrite a Python Program to Add Two Matrices?"
      ]
    },
    {
      "cell_type": "code",
      "metadata": {
        "id": "R0Qxn9uLwczB",
        "colab": {
          "base_uri": "https://localhost:8080/"
        },
        "outputId": "f98d7000-c644-46cc-e3fa-d373079290fa"
      },
      "source": [
        "\n",
        "m1 = [[10,17,30],\n",
        "    [5 ,4,2],\n",
        "    [1 ,2,4]]\n",
        "\n",
        "m2 = [[4,8,0],\n",
        "    [7,7,2],\n",
        "    [6,5,8]]\n",
        "\n",
        "res = [[0,0,0],\n",
        "         [0,0,0],\n",
        "         [0,0,0]]\n",
        "\n",
        "for i in range(len(m1)):\n",
        "   for j in range(len(m1[0])):\n",
        "       res[i][j] = X[i][j] + Y[i][j]\n",
        "\n",
        "for out in res:\n",
        "   print(out)"
      ],
      "execution_count": null,
      "outputs": [
        {
          "output_type": "stream",
          "text": [
            "[17, 15, 4]\n",
            "[10, 12, 9]\n",
            "[11, 13, 18]\n"
          ],
          "name": "stdout"
        }
      ]
    },
    {
      "cell_type": "markdown",
      "metadata": {
        "id": "FEJQ_aFM6BRT"
      },
      "source": [
        "Write a Python Program to Multiply Two Matrices?"
      ]
    },
    {
      "cell_type": "code",
      "metadata": {
        "id": "LTcfG85r6120",
        "colab": {
          "base_uri": "https://localhost:8080/"
        },
        "outputId": "987247ef-d2c3-4476-9473-26ced970d047"
      },
      "source": [
        "m1 = [[10,17,30],\n",
        "    [5 ,4,2],\n",
        "    [1 ,2,4]]\n",
        "\n",
        "m2 = [[4,8,0],\n",
        "    [7,7,2],\n",
        "    [6,5,8]]\n",
        "\n",
        "res = [[0,0,0],\n",
        "         [0,0,0],\n",
        "         [0,0,0]]\n",
        "for i in range(len(m1)):\n",
        "   for j in range(len(m1[0])):\n",
        "     for k in range(len(m1)):\n",
        "       res[i][j] += m1[i][k] * m2[k][j]\n",
        "\n",
        "for out in res:\n",
        "   print(out)"
      ],
      "execution_count": null,
      "outputs": [
        {
          "output_type": "stream",
          "text": [
            "[339, 349, 274]\n",
            "[60, 78, 24]\n",
            "[42, 42, 36]\n"
          ],
          "name": "stdout"
        }
      ]
    },
    {
      "cell_type": "markdown",
      "metadata": {
        "id": "b3IEY77ZHEEa"
      },
      "source": [
        "3.\tWrite a Python Program to Transpose a Matrix?"
      ]
    },
    {
      "cell_type": "code",
      "metadata": {
        "colab": {
          "base_uri": "https://localhost:8080/"
        },
        "id": "b3N0foK4nL1a",
        "outputId": "b714312c-7702-48c9-846b-02b989f505be"
      },
      "source": [
        "m1 = [[5,6],\n",
        "    [7 ,3],\n",
        "    [4 ,0]]\n",
        "\n",
        "res = [[0,0,0],\n",
        "         [0,0,0]]\n",
        "\n",
        "for i in range(len(m1)):\n",
        "   for j in range(len(m1[0])):\n",
        "       res[j][i] = m1[i][j]\n",
        "\n",
        "for r in res:\n",
        "   print(r)"
      ],
      "execution_count": null,
      "outputs": [
        {
          "output_type": "stream",
          "text": [
            "[5, 7, 4]\n",
            "[6, 3, 0]\n"
          ],
          "name": "stdout"
        }
      ]
    },
    {
      "cell_type": "markdown",
      "metadata": {
        "id": "7hO6j0y7pJat"
      },
      "source": [
        "4.\tWrite a Python Program to Sort Words in Alphabetic Order?"
      ]
    },
    {
      "cell_type": "code",
      "metadata": {
        "id": "Wr7qzDxCpKLs",
        "colab": {
          "base_uri": "https://localhost:8080/"
        },
        "outputId": "06314f0f-4f3a-4212-817d-8660e1530032"
      },
      "source": [
        "\n",
        "str_sort = input(\"Enter a string: \")\n",
        "\n",
        "words = [word.lower() for word in str_sort.split()]\n",
        "words.sort()\n",
        "\n",
        "for word in words:\n",
        "   print(word)"
      ],
      "execution_count": null,
      "outputs": [
        {
          "output_type": "stream",
          "text": [
            "Enter a string: hi how aRe you can you believe\n",
            "are\n",
            "believe\n",
            "can\n",
            "hi\n",
            "how\n",
            "you\n",
            "you\n"
          ],
          "name": "stdout"
        }
      ]
    },
    {
      "cell_type": "markdown",
      "metadata": {
        "id": "hr4Lagh0EXqb"
      },
      "source": [
        "5.\tWrite a Python Program to Remove Punctuation From a String?"
      ]
    },
    {
      "cell_type": "code",
      "metadata": {
        "id": "f5U97KfXE1ic",
        "colab": {
          "base_uri": "https://localhost:8080/"
        },
        "outputId": "92dab808-87af-439e-da3b-4f2e7eafe4c7"
      },
      "source": [
        "punctuations = '''!()-[]{};:'\"\\,<>./?@#$%^&*_~'''\n",
        "string = \"Welcome???@@##$ to #$%The%$^ coding $%^&world.\"\n",
        "for x in string.lower():\n",
        "  if x in punctuations:\n",
        "    string = string.replace(x,\"\")\n",
        "print(string)\n"
      ],
      "execution_count": 20,
      "outputs": [
        {
          "output_type": "stream",
          "text": [
            "Welcome to The coding world\n"
          ],
          "name": "stdout"
        }
      ]
    }
  ]
}