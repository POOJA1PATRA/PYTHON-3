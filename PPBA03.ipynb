{
  "nbformat": 4,
  "nbformat_minor": 0,
  "metadata": {
    "colab": {
      "name": "PPBA03.ipynb",
      "provenance": [],
      "collapsed_sections": []
    },
    "kernelspec": {
      "name": "python3",
      "display_name": "Python 3"
    },
    "language_info": {
      "name": "python"
    }
  },
  "cells": [
    {
      "cell_type": "code",
      "metadata": {
        "id": "ctGqFPYbdGIY"
      },
      "source": [
        ""
      ],
      "execution_count": null,
      "outputs": []
    },
    {
      "cell_type": "markdown",
      "metadata": {
        "id": "lp4dCCV2dj7x"
      },
      "source": [
        "1.\tWrite a Python Program to Check if a Number is Positive, Negative or Zero?"
      ]
    },
    {
      "cell_type": "code",
      "metadata": {
        "colab": {
          "base_uri": "https://localhost:8080/"
        },
        "id": "Ts7S92Uidmug",
        "outputId": "f7a702b5-4a43-4e6c-b84e-d559524c1c7c"
      },
      "source": [
        "def add_oper(num):\n",
        "  if num > 0:\n",
        "    print(\"Positive\")\n",
        "  elif num == 0:\n",
        "    print(\"Zero\")\n",
        "  else:\n",
        "    print(\"Negative\")\n",
        "\n",
        "\n",
        "add_oper(-2)\n",
        "add_oper(0)\n",
        "add_oper(2)\n",
        "  "
      ],
      "execution_count": null,
      "outputs": [
        {
          "output_type": "stream",
          "text": [
            "Negative\n",
            "Zero\n",
            "Positive\n"
          ],
          "name": "stdout"
        }
      ]
    },
    {
      "cell_type": "markdown",
      "metadata": {
        "id": "woumRAU4edhO"
      },
      "source": [
        "2.\tWrite a Python Program to Check if a Number is Odd or Even?"
      ]
    },
    {
      "cell_type": "code",
      "metadata": {
        "colab": {
          "base_uri": "https://localhost:8080/"
        },
        "id": "l-o1W5NCegLO",
        "outputId": "1f4986a5-f266-4858-b399-2d8f092c8bae"
      },
      "source": [
        "def Odd_even(num):\n",
        "\n",
        "  if num % 2 ==0:\n",
        "    print(\"Even\")\n",
        "  else:\n",
        "    print(\"Odd\")\n",
        "  \n",
        "  \n",
        "Odd_even(3)\n",
        "Odd_even(4)"
      ],
      "execution_count": null,
      "outputs": [
        {
          "output_type": "stream",
          "text": [
            "Odd\n",
            "Even\n"
          ],
          "name": "stdout"
        }
      ]
    },
    {
      "cell_type": "markdown",
      "metadata": {
        "id": "mU0mhrcihXr8"
      },
      "source": [
        "3.\tWrite a Python Program to Check Leap Year?"
      ]
    },
    {
      "cell_type": "code",
      "metadata": {
        "colab": {
          "base_uri": "https://localhost:8080/"
        },
        "id": "rYhl-ahHkFVG",
        "outputId": "10736fc0-3e1c-4a08-82c7-c24c24f3b1d0"
      },
      "source": [
        "def leap_yr(year):\n",
        "  if year%400 ==0 or year%4 ==0 and year%100 !=0:\n",
        "    print(\"{} ia a leap year.\" .format(year))\n",
        "  else:\n",
        "    print(\"{} is not a leap year.\".format(year))\n",
        "\n",
        "\n",
        "\n",
        "leap_yr(1900)\n",
        "leap_yr(2000)\n",
        "leap_yr(2020)\n",
        "leap_yr(2021)"
      ],
      "execution_count": null,
      "outputs": [
        {
          "output_type": "stream",
          "text": [
            "1900 is not a leap year.\n",
            "2000 ia a leap year.\n",
            "2020 ia a leap year.\n",
            "2021 is not a leap year.\n"
          ],
          "name": "stdout"
        }
      ]
    },
    {
      "cell_type": "markdown",
      "metadata": {
        "id": "rk5FZ1vzmmWw"
      },
      "source": [
        "4.\tWrite a Python Program to Check Prime Number?"
      ]
    },
    {
      "cell_type": "code",
      "metadata": {
        "colab": {
          "base_uri": "https://localhost:8080/"
        },
        "id": "WksRZQBcmnJ2",
        "outputId": "a83674b6-2ce0-4f75-a3c5-68c3b63683d5"
      },
      "source": [
        "def prime_num(num):\n",
        "  if num < 2:\n",
        "    print(num, \"is not a prime number\")\n",
        "  else:\n",
        "    for i in range(2,num):\n",
        "      if num % i == 0:\n",
        "        print(num,\"is not a prime number\")\n",
        "        break\n",
        "    else:\n",
        "      print(num,\"is a prime number\")\n",
        "        \n",
        "        \n",
        "     \n",
        "        \n",
        "  \n",
        "    \n",
        "  \n",
        "\n",
        "\n",
        "\n",
        "prime_num(3)\n",
        "prime_num(45)\n",
        "prime_num(55)"
      ],
      "execution_count": null,
      "outputs": [
        {
          "output_type": "stream",
          "text": [
            "3 is a prime number\n",
            "45 is not a prime number\n",
            "55 is not a prime number\n"
          ],
          "name": "stdout"
        }
      ]
    },
    {
      "cell_type": "markdown",
      "metadata": {
        "id": "8xTjTXR7qHPR"
      },
      "source": [
        "5.\tWrite a Python Program to Print all Prime Numbers in an Interval of 1-10000?"
      ]
    },
    {
      "cell_type": "code",
      "metadata": {
        "id": "j1Mzbsp1qKGA"
      },
      "source": [
        "def all_number(num1,num2):\n",
        "  for m in range(num1,num2+1):\n",
        "    if m > 1:\n",
        "\n",
        "      for i in range(2, m):\n",
        "\n",
        "        if (m % i) == 0:\n",
        "          break\n",
        "        else:\n",
        "          print(m)\n",
        "          break\n",
        "\n",
        "all_number(1,100)"
      ],
      "execution_count": null,
      "outputs": []
    }
  ]
}