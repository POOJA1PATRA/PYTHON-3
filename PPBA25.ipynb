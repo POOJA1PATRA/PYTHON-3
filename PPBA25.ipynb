{
  "nbformat": 4,
  "nbformat_minor": 5,
  "metadata": {
    "kernelspec": {
      "display_name": "Python 3 (ipykernel)",
      "language": "python",
      "name": "python3"
    },
    "language_info": {
      "codemirror_mode": {
        "name": "ipython",
        "version": 3
      },
      "file_extension": ".py",
      "mimetype": "text/x-python",
      "name": "python",
      "nbconvert_exporter": "python",
      "pygments_lexer": "ipython3",
      "version": "3.9.7"
    },
    "colab": {
      "name": "PPBA25.ipynb",
      "provenance": [],
      "collapsed_sections": [],
      "include_colab_link": true
    }
  },
  "cells": [
    {
      "cell_type": "markdown",
      "metadata": {
        "id": "view-in-github",
        "colab_type": "text"
      },
      "source": [
        "<a href=\"https://colab.research.google.com/github/Nitesh8833/Python_assignment_03/blob/main/PPBA25.ipynb\" target=\"_parent\"><img src=\"https://colab.research.google.com/assets/colab-badge.svg\" alt=\"Open In Colab\"/></a>"
      ]
    },
    {
      "cell_type": "markdown",
      "metadata": {
        "id": "ebd4ce14"
      },
      "source": [
        "Question1\n",
        "Create a function that takes three integer arguments (a, b, c) and returns the amount of\n",
        "integers which are of equal value.\n",
        "Examples\n",
        "equal(3, 4, 3) ➞ 2\n",
        "equal(1, 1, 1) ➞ 3\n",
        "equal(3, 4, 1) ➞ 0\n",
        "Notes\n",
        "Your function must return 0, 2 or 3."
      ],
      "id": "ebd4ce14"
    },
    {
      "cell_type": "code",
      "metadata": {
        "id": "8193af8d",
        "outputId": "cc0d70fc-51d5-4781-c735-17366fb9bb7f"
      },
      "source": [
        "# Ans : \n",
        "def equal(a,b,c):\n",
        "    num = 0\n",
        "    if a == b and a == c :\n",
        "        num = 3\n",
        "    elif a == b or a == c :\n",
        "        num = 2\n",
        "    else:\n",
        "        num = 0\n",
        "    return num\n",
        "equal(3, 4, 3)"
      ],
      "id": "8193af8d",
      "execution_count": null,
      "outputs": [
        {
          "data": {
            "text/plain": [
              "2"
            ]
          },
          "execution_count": 1,
          "metadata": {},
          "output_type": "execute_result"
        }
      ]
    },
    {
      "cell_type": "code",
      "metadata": {
        "id": "bc3b9a91",
        "outputId": "3e608a50-e476-4400-92e7-dce358c6f91f"
      },
      "source": [
        "equal(3, 4, 3)"
      ],
      "id": "bc3b9a91",
      "execution_count": null,
      "outputs": [
        {
          "data": {
            "text/plain": [
              "2"
            ]
          },
          "execution_count": 2,
          "metadata": {},
          "output_type": "execute_result"
        }
      ]
    },
    {
      "cell_type": "code",
      "metadata": {
        "id": "8e52aded",
        "outputId": "c4e25216-a6c7-4237-b556-e8bb43f5bf28"
      },
      "source": [
        "equal(1, 1, 1)"
      ],
      "id": "8e52aded",
      "execution_count": null,
      "outputs": [
        {
          "data": {
            "text/plain": [
              "3"
            ]
          },
          "execution_count": 3,
          "metadata": {},
          "output_type": "execute_result"
        }
      ]
    },
    {
      "cell_type": "code",
      "metadata": {
        "id": "7c3a43d2",
        "outputId": "76935f5f-1e2e-4636-ec10-bf97fc5b6d0b"
      },
      "source": [
        "equal(3, 4, 1)"
      ],
      "id": "7c3a43d2",
      "execution_count": null,
      "outputs": [
        {
          "data": {
            "text/plain": [
              "0"
            ]
          },
          "execution_count": 4,
          "metadata": {},
          "output_type": "execute_result"
        }
      ]
    },
    {
      "cell_type": "markdown",
      "metadata": {
        "id": "d46464d0"
      },
      "source": [
        "Question2\n",
        "Write a function that converts a dictionary into a list of keys-values tuples.\n",
        "Examples\n",
        "dict_to_list({\n",
        "'D': 1,\n",
        "'B': 2,\n",
        "'C': 3\n",
        "}) ➞ [('B', 2), ('C', 3), ('D', 1)]\n",
        "dict_to_list({\n",
        "'likes': 2,\n",
        "'dislikes': 3,\n",
        "'followers': 10\n",
        "}) ➞ [('dislikes', 3), ('followers', 10), ('likes', 2)]\n",
        "Notes\n",
        "Return the elements in the list in alphabetical order."
      ],
      "id": "d46464d0"
    },
    {
      "cell_type": "code",
      "metadata": {
        "id": "7f56f530"
      },
      "source": [
        "# Ans : \n",
        "def dict_to_list(d):\n",
        "    return list(d.items())"
      ],
      "id": "7f56f530",
      "execution_count": null,
      "outputs": []
    },
    {
      "cell_type": "code",
      "metadata": {
        "id": "c36ff9ba",
        "outputId": "be64fa06-deff-4d69-9d59-458702d5018e"
      },
      "source": [
        "dict_to_list({\n",
        "    'D': 1,\n",
        "    'B': 2,\n",
        "    'C': 3\n",
        "    })"
      ],
      "id": "c36ff9ba",
      "execution_count": null,
      "outputs": [
        {
          "data": {
            "text/plain": [
              "[('D', 1), ('B', 2), ('C', 3)]"
            ]
          },
          "execution_count": 6,
          "metadata": {},
          "output_type": "execute_result"
        }
      ]
    },
    {
      "cell_type": "code",
      "metadata": {
        "id": "b3d2fc42",
        "outputId": "6c2a8201-c6cc-4e87-9071-a01a0fe42451"
      },
      "source": [
        "dict_to_list({\n",
        "    'likes': 2,\n",
        "    'dislikes': 3,\n",
        "    'followers': 10\n",
        "    })"
      ],
      "id": "b3d2fc42",
      "execution_count": null,
      "outputs": [
        {
          "data": {
            "text/plain": [
              "[('likes', 2), ('dislikes', 3), ('followers', 10)]"
            ]
          },
          "execution_count": 7,
          "metadata": {},
          "output_type": "execute_result"
        }
      ]
    },
    {
      "cell_type": "markdown",
      "metadata": {
        "id": "e61874b6"
      },
      "source": [
        "Question3\n",
        "Write a function that creates a dictionary with each (key, value) pair being the (lower case,\n",
        "upper case) versions of a letter, respectively.\n",
        "Examples\n",
        "mapping(['p', 's']) ➞ { 'p': 'P', 's': 'S' }\n",
        "\n",
        "mapping(['a', 'b', 'c']) ➞ { 'a': 'A', 'b': 'B', 'c': 'C' }\n",
        "mapping(['a', 'v', 'y', 'z']) ➞ { 'a': 'A', 'v': 'V', 'y': 'Y', 'z': 'Z' }\n",
        "Notes\n",
        "All of the letters in the input list will always be lowercase."
      ],
      "id": "e61874b6"
    },
    {
      "cell_type": "code",
      "metadata": {
        "id": "f5a6326a"
      },
      "source": [
        "# Ans : \n",
        "def mapping(lst):\n",
        "    return {v.lower():v.upper() for v in lst}"
      ],
      "id": "f5a6326a",
      "execution_count": null,
      "outputs": []
    },
    {
      "cell_type": "code",
      "metadata": {
        "id": "95032647",
        "outputId": "7e7542a6-4712-46de-d649-1c840af75e01"
      },
      "source": [
        "mapping(['p', 's'])"
      ],
      "id": "95032647",
      "execution_count": null,
      "outputs": [
        {
          "data": {
            "text/plain": [
              "{'p': 'P', 's': 'S'}"
            ]
          },
          "execution_count": 9,
          "metadata": {},
          "output_type": "execute_result"
        }
      ]
    },
    {
      "cell_type": "code",
      "metadata": {
        "id": "f5b08791",
        "outputId": "f58a1e1d-7d2b-4b76-bea6-ddf9ce9274dc"
      },
      "source": [
        "mapping(['a', 'b', 'c'])"
      ],
      "id": "f5b08791",
      "execution_count": null,
      "outputs": [
        {
          "data": {
            "text/plain": [
              "{'a': 'A', 'b': 'B', 'c': 'C'}"
            ]
          },
          "execution_count": 10,
          "metadata": {},
          "output_type": "execute_result"
        }
      ]
    },
    {
      "cell_type": "code",
      "metadata": {
        "id": "8b3d8390",
        "outputId": "be54e020-26bf-41a5-97f0-074d71dc13b4"
      },
      "source": [
        "mapping(['a', 'v', 'y', 'z'])"
      ],
      "id": "8b3d8390",
      "execution_count": null,
      "outputs": [
        {
          "data": {
            "text/plain": [
              "{'a': 'A', 'v': 'V', 'y': 'Y', 'z': 'Z'}"
            ]
          },
          "execution_count": 11,
          "metadata": {},
          "output_type": "execute_result"
        }
      ]
    },
    {
      "cell_type": "code",
      "metadata": {
        "id": "84f64f15",
        "outputId": "bdf15270-988a-436f-b602-89500f2d4031"
      },
      "source": [
        "mapping(['A', 'v', 'Y', 'z'])"
      ],
      "id": "84f64f15",
      "execution_count": null,
      "outputs": [
        {
          "data": {
            "text/plain": [
              "{'a': 'A', 'v': 'V', 'y': 'Y', 'z': 'Z'}"
            ]
          },
          "execution_count": 12,
          "metadata": {},
          "output_type": "execute_result"
        }
      ]
    },
    {
      "cell_type": "markdown",
      "metadata": {
        "id": "1cc925d2"
      },
      "source": [
        " Question4\n",
        "Write a function, that replaces all vowels in a string with a specified vowel.\n",
        "Examples\n",
        "vow_replace('apples and bananas', 'u') ➞ 'upplus und bununus'\n",
        "vow_replace('cheese casserole', 'o') ➞ 'chooso cossorolo'\n",
        "vow_replace('stuffed jalapeno poppers', 'e') ➞ 'steffed jelepene peppers'\n",
        "Notes\n",
        "All words will be lowercase. Y is not considered a vowel."
      ],
      "id": "1cc925d2"
    },
    {
      "cell_type": "code",
      "metadata": {
        "id": "3c605112"
      },
      "source": [
        "# Ans : \n",
        "def vow_replace(s,ch):\n",
        "    vowel ='AEIOUaeiuo'\n",
        "    s1 = []\n",
        "    for i in range(len(s)):\n",
        "        if s[i] in vowel:\n",
        "            s1.append(ch)\n",
        "        else:\n",
        "            s1.append(s[i])\n",
        "\n",
        "    return ''.join((s1))"
      ],
      "id": "3c605112",
      "execution_count": null,
      "outputs": []
    },
    {
      "cell_type": "code",
      "metadata": {
        "id": "bd465181",
        "outputId": "10607e32-f60c-4d5c-f0a9-baa82429c2cd"
      },
      "source": [
        "vow_replace('apples and bananas', 'u')"
      ],
      "id": "bd465181",
      "execution_count": null,
      "outputs": [
        {
          "data": {
            "text/plain": [
              "'upplus und bununus'"
            ]
          },
          "execution_count": 14,
          "metadata": {},
          "output_type": "execute_result"
        }
      ]
    },
    {
      "cell_type": "code",
      "metadata": {
        "id": "be63dae1",
        "outputId": "50dbdbd1-6be8-414c-db20-97bb6ccda9e3"
      },
      "source": [
        "vow_replace('cheese casserole', 'o')"
      ],
      "id": "be63dae1",
      "execution_count": null,
      "outputs": [
        {
          "data": {
            "text/plain": [
              "'chooso cossorolo'"
            ]
          },
          "execution_count": 15,
          "metadata": {},
          "output_type": "execute_result"
        }
      ]
    },
    {
      "cell_type": "code",
      "metadata": {
        "id": "c28b2719",
        "outputId": "274262ec-4c63-4acf-cd02-bd84f0c5194b"
      },
      "source": [
        "vow_replace('stuffed jalapeno poppers', 'e')"
      ],
      "id": "c28b2719",
      "execution_count": null,
      "outputs": [
        {
          "data": {
            "text/plain": [
              "'steffed jelepene peppers'"
            ]
          },
          "execution_count": 16,
          "metadata": {},
          "output_type": "execute_result"
        }
      ]
    },
    {
      "cell_type": "markdown",
      "metadata": {
        "id": "5f8d0680"
      },
      "source": [
        " Question5 Create a function that takes a string as input and capitalizes a letter if its ASCII code is even and returns its lower case version if its ASCII code is odd.\n",
        "Examples\n",
        "ascii_capitalize('to be or not to be!') ➞ 'To Be oR NoT To Be!'\n",
        "ascii_capitalize('THE LITTLE MERMAID') ➞ 'THe LiTTLe meRmaiD'\n",
        "ascii_capitalize('Oh what a beautiful morning.') ➞ 'oH wHaT a BeauTiFuL\n",
        "moRNiNg.'"
      ],
      "id": "5f8d0680"
    },
    {
      "cell_type": "code",
      "metadata": {
        "id": "6ce6cfe4"
      },
      "source": [
        "# Ans :\n",
        "def ascii_capitalize(s):\n",
        "    s1 = []\n",
        "    for i in range(len(s)):\n",
        "        if ord(s[i]) % 2 == 0:\n",
        "            s1.append(s[i].upper())\n",
        "        else:\n",
        "            s1.append(s[i].lower())\n",
        "\n",
        "    return \"\".join((s1))\n"
      ],
      "id": "6ce6cfe4",
      "execution_count": null,
      "outputs": []
    },
    {
      "cell_type": "code",
      "metadata": {
        "id": "76cf21d0",
        "outputId": "be33c531-210e-415b-a8d9-1d4c02424ec6"
      },
      "source": [
        "ascii_capitalize('to be or not to be!')"
      ],
      "id": "76cf21d0",
      "execution_count": null,
      "outputs": [
        {
          "data": {
            "text/plain": [
              "'To Be oR NoT To Be!'"
            ]
          },
          "execution_count": 18,
          "metadata": {},
          "output_type": "execute_result"
        }
      ]
    },
    {
      "cell_type": "code",
      "metadata": {
        "id": "222da4a9",
        "outputId": "e5c1fbdf-4ead-4417-9fe4-1c633c7a2f17"
      },
      "source": [
        "ascii_capitalize('THE LITTLE MERMAID')"
      ],
      "id": "222da4a9",
      "execution_count": null,
      "outputs": [
        {
          "data": {
            "text/plain": [
              "'THe LiTTLe meRmaiD'"
            ]
          },
          "execution_count": 19,
          "metadata": {},
          "output_type": "execute_result"
        }
      ]
    },
    {
      "cell_type": "code",
      "metadata": {
        "id": "351c5d1b",
        "outputId": "f79ca2e9-a1a6-4778-afd4-f0976be23895"
      },
      "source": [
        "ascii_capitalize('Oh what a beautiful morning.')"
      ],
      "id": "351c5d1b",
      "execution_count": null,
      "outputs": [
        {
          "data": {
            "text/plain": [
              "'oH wHaT a BeauTiFuL moRNiNg.'"
            ]
          },
          "execution_count": 20,
          "metadata": {},
          "output_type": "execute_result"
        }
      ]
    }
  ]
}