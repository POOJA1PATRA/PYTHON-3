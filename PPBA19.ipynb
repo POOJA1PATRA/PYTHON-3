{
  "nbformat": 4,
  "nbformat_minor": 5,
  "metadata": {
    "kernelspec": {
      "display_name": "Python 3 (ipykernel)",
      "language": "python",
      "name": "python3"
    },
    "language_info": {
      "codemirror_mode": {
        "name": "ipython",
        "version": 3
      },
      "file_extension": ".py",
      "mimetype": "text/x-python",
      "name": "python",
      "nbconvert_exporter": "python",
      "pygments_lexer": "ipython3",
      "version": "3.9.7"
    },
    "colab": {
      "name": "PPBA19.ipynb",
      "provenance": [],
      "collapsed_sections": [],
      "include_colab_link": true
    }
  },
  "cells": [
    {
      "cell_type": "markdown",
      "metadata": {
        "id": "view-in-github",
        "colab_type": "text"
      },
      "source": [
        "<a href=\"https://colab.research.google.com/github/Nitesh8833/Python_assignment_03/blob/main/PPBA19.ipynb\" target=\"_parent\"><img src=\"https://colab.research.google.com/assets/colab-badge.svg\" alt=\"Open In Colab\"/></a>"
      ]
    },
    {
      "cell_type": "markdown",
      "metadata": {
        "id": "ybBgJ9jySeId"
      },
      "source": [
        "\n",
        "Question1 : Create a function that takes a string and returns a string in which each character is repeated once.\n",
        "Examples double_char('String') ➞ 'SSttrriinngg' double_char('Hello World!') ➞ 'HHeelllloo WWoorrlldd!!' double_char('1234!_ ') ➞ '11223344!!__ '"
      ],
      "id": "ybBgJ9jySeId"
    },
    {
      "cell_type": "code",
      "metadata": {
        "id": "927e046f",
        "outputId": "64c22ebb-32a2-4873-e26b-6868a5f2c90c"
      },
      "source": [
        "# Ans : \n",
        "def double(str):\n",
        "    return ''.join([c+c for c in str])\n",
        "print(double('Bhushan'))"
      ],
      "id": "927e046f",
      "execution_count": null,
      "outputs": [
        {
          "name": "stdout",
          "output_type": "stream",
          "text": [
            "BBhhuusshhaann\n"
          ]
        }
      ]
    },
    {
      "cell_type": "code",
      "metadata": {
        "id": "9216bd28",
        "outputId": "a800d112-21b1-4e0d-dcf1-403f14996c48"
      },
      "source": [
        "print(double('String'))"
      ],
      "id": "9216bd28",
      "execution_count": null,
      "outputs": [
        {
          "name": "stdout",
          "output_type": "stream",
          "text": [
            "SSttrriinngg\n"
          ]
        }
      ]
    },
    {
      "cell_type": "code",
      "metadata": {
        "id": "2bef31d2",
        "outputId": "4a78680a-06fe-4457-e85e-e7ffb842b3eb"
      },
      "source": [
        "print(double('Hello World!'))"
      ],
      "id": "2bef31d2",
      "execution_count": null,
      "outputs": [
        {
          "name": "stdout",
          "output_type": "stream",
          "text": [
            "HHeelllloo  WWoorrlldd!!\n"
          ]
        }
      ]
    },
    {
      "cell_type": "code",
      "metadata": {
        "id": "0959a535",
        "outputId": "e3c379dc-4cd5-45e6-db83-f2faf33cfc3a"
      },
      "source": [
        "print(double('1234!_ '))"
      ],
      "id": "0959a535",
      "execution_count": null,
      "outputs": [
        {
          "name": "stdout",
          "output_type": "stream",
          "text": [
            "11223344!!__  \n"
          ]
        }
      ]
    },
    {
      "cell_type": "markdown",
      "metadata": {
        "id": "669f1ec6"
      },
      "source": [
        "Question2\n",
        "Create a function that reverses a boolean value and returns the string &quot;boolean expected&quot;\n",
        "if another variable type is given.\n",
        "Examples\n",
        "reverse(True) ➞ False\n",
        "reverse(False) ➞ True\n",
        "reverse(0) ➞ &quot;boolean expected&quot;\n",
        "reverse(None) ➞ &quot;boolean expected&quot; "
      ],
      "id": "669f1ec6"
    },
    {
      "cell_type": "code",
      "metadata": {
        "id": "460fd429",
        "outputId": "200227d1-64da-4eef-bdf0-ca0fe22a641a"
      },
      "source": [
        "# Ans : \n",
        "def reverse(arg=None):\n",
        "    return not arg if type(arg) == bool else \"boolean expected\"\n",
        "\n",
        "print(reverse(True)) # False\n",
        "print(reverse(False)) # True\n",
        "print(reverse(0)) # \"boolean expected\"\n",
        "print(reverse(None)) # \"boolean expected\""
      ],
      "id": "460fd429",
      "execution_count": null,
      "outputs": [
        {
          "name": "stdout",
          "output_type": "stream",
          "text": [
            "False\n",
            "True\n",
            "boolean expected\n",
            "boolean expected\n"
          ]
        }
      ]
    },
    {
      "cell_type": "markdown",
      "metadata": {
        "id": "0e60857a"
      },
      "source": [
        "# Question3\n",
        "Create a function that returns the thickness (in meters) of a piece of paper after folding it n\n",
        "number of times. The paper starts off with a thickness of 0.5mm.\n",
        "Examples\n",
        "num_layers(1) ➞ '0.001m'\n",
        "# Paper folded once is 1mm (equal to 0.001m)\n",
        "num_layers(4) ➞ '0.008m'\n",
        "# Paper folded 4 times is 8mm (equal to 0.008m)\n",
        "num_layers(21) ➞ '1048.576m'\n",
        "# Paper folded 21 times is 1048576mm (equal to 1048.576m)"
      ],
      "id": "0e60857a"
    },
    {
      "cell_type": "code",
      "metadata": {
        "id": "921b3a2d",
        "outputId": "352b7485-8020-4b46-b572-0fce99fe1ae1"
      },
      "source": [
        "# Ans : \n",
        "def num_layers(n):\n",
        "    thickness = 0.5\n",
        "    for _ in range(n):\n",
        "        thickness *= 2\n",
        "    \n",
        "    return str(thickness / 1000)+'m' # for meters\n",
        "\n",
        "print(num_layers(1))\n",
        "print(num_layers(4))\n",
        "print(num_layers(21))"
      ],
      "id": "921b3a2d",
      "execution_count": null,
      "outputs": [
        {
          "name": "stdout",
          "output_type": "stream",
          "text": [
            "0.001m\n",
            "0.008m\n",
            "1048.576m\n"
          ]
        }
      ]
    },
    {
      "cell_type": "markdown",
      "metadata": {
        "id": "49c23bfd"
      },
      "source": [
        "Question4\n",
        "Create a function that takes a single string as argument and returns an ordered list containing\n",
        "the indices of all capital letters in the string.\n",
        "Examples\n",
        "index_of_caps('eDaBiT') ➞ [1, 3, 5]\n",
        "index_of_caps('eQuINoX') ➞ [1, 3, 4, 6]\n",
        "index_of_caps('determine') ➞ []\n",
        "index_of_caps('STRIKE') ➞ [0, 1, 2, 3, 4, 5]\n",
        "index_of_caps('sUn') ➞ [1]"
      ],
      "id": "49c23bfd"
    },
    {
      "cell_type": "code",
      "metadata": {
        "id": "54e78a16",
        "outputId": "15c10001-cca0-4182-9fd4-46d4f8b789bb"
      },
      "source": [
        "# Ans : \n",
        "def index_of_caps(word):\n",
        "    indices = []\n",
        "    for i in range(len(word)):\n",
        "        if word[i].isupper():\n",
        "             indices.append(i)\n",
        "    return indices\n",
        "\n",
        "print(index_of_caps('BhaNu'))\n",
        "print(index_of_caps('eDaBiT'))\n",
        "print(index_of_caps('eQuINoX')) \n",
        "print(index_of_caps('determine'))\n",
        "print(index_of_caps('STRIKE'))\n",
        "print(index_of_caps('sUn'))"
      ],
      "id": "54e78a16",
      "execution_count": null,
      "outputs": [
        {
          "name": "stdout",
          "output_type": "stream",
          "text": [
            "[0, 3]\n",
            "[1, 3, 5]\n",
            "[1, 3, 4, 6]\n",
            "[]\n",
            "[0, 1, 2, 3, 4, 5]\n",
            "[1]\n"
          ]
        }
      ]
    },
    {
      "cell_type": "markdown",
      "metadata": {
        "id": "ed29271c"
      },
      "source": [
        " Question5\n",
        "Using list comprehensions, create a function that finds all even numbers from 1 to the given\n",
        "number.\n",
        "Examples\n",
        "find_even_nums(8) ➞ [2, 4, 6, 8]\n",
        "find_even_nums(4) ➞ [2, 4]\n",
        "find_even_nums(2) ➞ [2]"
      ],
      "id": "ed29271c"
    },
    {
      "cell_type": "code",
      "metadata": {
        "id": "07332705",
        "outputId": "c7b17f8e-f427-40ce-e822-bf6e8cd3f188"
      },
      "source": [
        "# Ans : \n",
        "def find_even_nums(n):\n",
        "    even =[x for x in range(2,n+1) if x % 2 == 0]\n",
        "    return even\n",
        "\n",
        "n = int(input('Enter a number : '))\n",
        "find_even_nums(n)"
      ],
      "id": "07332705",
      "execution_count": null,
      "outputs": [
        {
          "name": "stdout",
          "output_type": "stream",
          "text": [
            "Enter a number : 10\n"
          ]
        },
        {
          "data": {
            "text/plain": [
              "[2, 4, 6, 8, 10]"
            ]
          },
          "execution_count": 8,
          "metadata": {},
          "output_type": "execute_result"
        }
      ]
    },
    {
      "cell_type": "code",
      "metadata": {
        "id": "932bd084",
        "outputId": "67749f91-236a-43b4-8d6b-c0c119173a10"
      },
      "source": [
        "find_even_nums(8)"
      ],
      "id": "932bd084",
      "execution_count": null,
      "outputs": [
        {
          "data": {
            "text/plain": [
              "[2, 4, 6, 8]"
            ]
          },
          "execution_count": 9,
          "metadata": {},
          "output_type": "execute_result"
        }
      ]
    },
    {
      "cell_type": "code",
      "metadata": {
        "id": "5564d716",
        "outputId": "fb09358a-780e-461e-860d-95176bbe92e8"
      },
      "source": [
        "find_even_nums(4)"
      ],
      "id": "5564d716",
      "execution_count": null,
      "outputs": [
        {
          "data": {
            "text/plain": [
              "[2, 4]"
            ]
          },
          "execution_count": 10,
          "metadata": {},
          "output_type": "execute_result"
        }
      ]
    },
    {
      "cell_type": "code",
      "metadata": {
        "id": "513cd718",
        "outputId": "fb7f18e2-ac91-4fd3-c4cd-7aeeff514712"
      },
      "source": [
        "find_even_nums(2)"
      ],
      "id": "513cd718",
      "execution_count": null,
      "outputs": [
        {
          "data": {
            "text/plain": [
              "[2]"
            ]
          },
          "execution_count": 11,
          "metadata": {},
          "output_type": "execute_result"
        }
      ]
    }
  ]
}