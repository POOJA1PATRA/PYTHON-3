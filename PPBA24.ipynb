{
  "nbformat": 4,
  "nbformat_minor": 5,
  "metadata": {
    "kernelspec": {
      "display_name": "Python 3 (ipykernel)",
      "language": "python",
      "name": "python3"
    },
    "language_info": {
      "codemirror_mode": {
        "name": "ipython",
        "version": 3
      },
      "file_extension": ".py",
      "mimetype": "text/x-python",
      "name": "python",
      "nbconvert_exporter": "python",
      "pygments_lexer": "ipython3",
      "version": "3.9.7"
    },
    "colab": {
      "name": "PPBA24.ipynb",
      "provenance": [],
      "collapsed_sections": [],
      "include_colab_link": true
    }
  },
  "cells": [
    {
      "cell_type": "markdown",
      "metadata": {
        "id": "view-in-github",
        "colab_type": "text"
      },
      "source": [
        "<a href=\"https://colab.research.google.com/github/Nitesh8833/Python_assignment_03/blob/main/PPBA24.ipynb\" target=\"_parent\"><img src=\"https://colab.research.google.com/assets/colab-badge.svg\" alt=\"Open In Colab\"/></a>"
      ]
    },
    {
      "cell_type": "markdown",
      "metadata": {
        "id": "541b521d"
      },
      "source": [
        " Question1 : Create a function that takes an integer and returns a list from 1 to the given number, where:\n",
        "1. If the number can be divided evenly by 4, amplify it by 10 (i.e. return 10 times the\n",
        "number).\n",
        "2. If the number cannot be divided evenly by 4, simply return the number.\n",
        "Examples\n",
        "amplify(4) ➞ [1, 2, 3, 40]\n",
        "amplify(3) ➞ [1, 2, 3]\n",
        "amplify(25) ➞ [1, 2, 3, 40, 5, 6, 7, 80, 9, 10, 11, 120, 13, 14, 15, 160,\n",
        "17, 18, 19, 200, 21, 22, 23, 240, 25]\n",
        "Notes\n",
        " The given integer will always be equal to or greater than 1.\n",
        " Include the number (see example above).\n",
        " To perform this problem with its intended purpose, try doing it with list\n",
        "comprehensions. If that&#39;s too difficult, just solve the challenge any way you can."
      ],
      "id": "541b521d"
    },
    {
      "cell_type": "code",
      "metadata": {
        "id": "12afe263"
      },
      "source": [
        "# Ans : \n",
        "def amplify(n):\n",
        "    return [i*10 if i % 4 == 0 else i for i in range(1,n+1) ] "
      ],
      "id": "12afe263",
      "execution_count": null,
      "outputs": []
    },
    {
      "cell_type": "code",
      "metadata": {
        "id": "7935b87b",
        "outputId": "5a2958e3-36e0-4807-b70e-68ff6e495bdf"
      },
      "source": [
        "amplify(4)"
      ],
      "id": "7935b87b",
      "execution_count": null,
      "outputs": [
        {
          "data": {
            "text/plain": [
              "[1, 2, 3, 40]"
            ]
          },
          "execution_count": 2,
          "metadata": {},
          "output_type": "execute_result"
        }
      ]
    },
    {
      "cell_type": "code",
      "metadata": {
        "id": "d2c7660e",
        "outputId": "8588c0e4-4201-4cd8-ae28-7963980e0bd8"
      },
      "source": [
        "amplify(3)"
      ],
      "id": "d2c7660e",
      "execution_count": null,
      "outputs": [
        {
          "data": {
            "text/plain": [
              "[1, 2, 3]"
            ]
          },
          "execution_count": 3,
          "metadata": {},
          "output_type": "execute_result"
        }
      ]
    },
    {
      "cell_type": "code",
      "metadata": {
        "id": "3a57173c",
        "outputId": "9f0e1232-81f4-433e-e39f-6832aaefcfce"
      },
      "source": [
        "print(amplify(25))"
      ],
      "id": "3a57173c",
      "execution_count": null,
      "outputs": [
        {
          "name": "stdout",
          "output_type": "stream",
          "text": [
            "[1, 2, 3, 40, 5, 6, 7, 80, 9, 10, 11, 120, 13, 14, 15, 160, 17, 18, 19, 200, 21, 22, 23, 240, 25]\n"
          ]
        }
      ]
    },
    {
      "cell_type": "markdown",
      "metadata": {
        "id": "d34ef53b"
      },
      "source": [
        " Question2 : Create a function that takes a list of numbers and return the number that's unique.\n",
        "Examples\n",
        "unique([3, 3, 3, 7, 3, 3]) ➞ 7\n",
        "unique([0, 0, 0.77, 0, 0]) ➞ 0.77\n",
        "unique([0, 1, 1, 1, 1, 1, 1, 1]) ➞ 0\n",
        "Notes\n",
        "Test cases will always have exactly one unique number while all others are the same. "
      ],
      "id": "d34ef53b"
    },
    {
      "cell_type": "code",
      "metadata": {
        "id": "aecd54ed"
      },
      "source": [
        "# Ans : \n",
        "def unique(lst):\n",
        "    s = list(set(lst))# give us unique value\n",
        "    for i in s:\n",
        "        if lst.count(i) == 1:\n",
        "            return i"
      ],
      "id": "aecd54ed",
      "execution_count": null,
      "outputs": []
    },
    {
      "cell_type": "code",
      "metadata": {
        "id": "5ee0f998",
        "outputId": "84a024c2-990b-420e-e9e1-ac95ff0b1c65"
      },
      "source": [
        "unique([3, 3, 3, 7, 3, 3])"
      ],
      "id": "5ee0f998",
      "execution_count": null,
      "outputs": [
        {
          "data": {
            "text/plain": [
              "7"
            ]
          },
          "execution_count": 6,
          "metadata": {},
          "output_type": "execute_result"
        }
      ]
    },
    {
      "cell_type": "code",
      "metadata": {
        "id": "05f51585",
        "outputId": "a23baf6d-27dd-4486-93da-d724bd3e3666"
      },
      "source": [
        "unique([0, 0, 0.77, 0, 0])"
      ],
      "id": "05f51585",
      "execution_count": null,
      "outputs": [
        {
          "data": {
            "text/plain": [
              "0.77"
            ]
          },
          "execution_count": 7,
          "metadata": {},
          "output_type": "execute_result"
        }
      ]
    },
    {
      "cell_type": "code",
      "metadata": {
        "id": "8fd56417",
        "outputId": "d61ae01d-5ce5-4206-c20d-cbfb3c757d24"
      },
      "source": [
        "unique([0, 1, 1, 1, 1, 1, 1, 1])"
      ],
      "id": "8fd56417",
      "execution_count": null,
      "outputs": [
        {
          "data": {
            "text/plain": [
              "0"
            ]
          },
          "execution_count": 8,
          "metadata": {},
          "output_type": "execute_result"
        }
      ]
    },
    {
      "cell_type": "markdown",
      "metadata": {
        "id": "94cb184c"
      },
      "source": [
        "Question3\n",
        "Your task is to create a Circle constructor that creates a circle with a radius provided by an\n",
        "argument. The circles constructed must have two getters getArea() (PIr^2) and\n",
        "getPerimeter() (2PI*r) which give both respective areas and perimeter (circumference).\n",
        "\n",
        "For help with this class, I have provided you with a Rectangle constructor which you can use\n",
        "as a base example.\n",
        "Examples\n",
        "circy = Circle(11)\n",
        "circy.getArea()\n",
        "# Should return 380.132711084365\n",
        "circy = Circle(4.44)\n",
        "circy.getPerimeter()\n",
        "# Should return 27.897342763877365\n",
        "Notes\n",
        "Round results up to the nearest integer. "
      ],
      "id": "94cb184c"
    },
    {
      "cell_type": "code",
      "metadata": {
        "id": "df07fa92"
      },
      "source": [
        "# Ans : \n",
        "class Circle():\n",
        "    def __init__(self, r):\n",
        "        self.radius = r\n",
        "\n",
        "    def getArea(self):\n",
        "        return round(self.radius**2*3.14)\n",
        "    \n",
        "    def getPerimeter(self):\n",
        "        return round(2*self.radius*3.14)"
      ],
      "id": "df07fa92",
      "execution_count": null,
      "outputs": []
    },
    {
      "cell_type": "code",
      "metadata": {
        "id": "6fe40039",
        "outputId": "d953a080-7b08-4ee4-cc74-a165b7919796"
      },
      "source": [
        "circy = Circle(11)\n",
        "circy.getArea()"
      ],
      "id": "6fe40039",
      "execution_count": null,
      "outputs": [
        {
          "data": {
            "text/plain": [
              "380"
            ]
          },
          "execution_count": 15,
          "metadata": {},
          "output_type": "execute_result"
        }
      ]
    },
    {
      "cell_type": "code",
      "metadata": {
        "id": "b2a92163",
        "outputId": "cc786632-44be-4d2b-8af9-413ec6e685a4"
      },
      "source": [
        "circy = Circle(4.44)\n",
        "circy.getPerimeter()"
      ],
      "id": "b2a92163",
      "execution_count": null,
      "outputs": [
        {
          "data": {
            "text/plain": [
              "28"
            ]
          },
          "execution_count": 16,
          "metadata": {},
          "output_type": "execute_result"
        }
      ]
    },
    {
      "cell_type": "markdown",
      "metadata": {
        "id": "6816d114"
      },
      "source": [
        "Question4\n",
        "Create a function that takes a list of strings and return a list, sorted from shortest to longest.\n",
        "Examples\n",
        "sort_by_length(['Google', 'Apple', 'Microsoft'])\n",
        "➞ ['Apple', 'Google', 'Microsoft']\n",
        "sort_by_length(['Leonardo', 'Michelangelo', 'Raphael', 'Donatello'])\n",
        "➞ ['Raphael', 'Leonardo', 'Donatello', 'Michelangelo']\n",
        "sort_by_length(['Turing', 'Einstein', 'Jung'])\n",
        "➞ ['Jung', 'Turing', 'Einstein']\n",
        "Notes\n",
        "All test cases contain lists with strings of different lengths, so you won't have to deal with\n",
        "multiple strings of the same length. "
      ],
      "id": "6816d114"
    },
    {
      "cell_type": "code",
      "metadata": {
        "id": "4176d016"
      },
      "source": [
        "# Ans : \n",
        "def sort_by_length(lst):\n",
        "    return sorted(lst, key = len)"
      ],
      "id": "4176d016",
      "execution_count": null,
      "outputs": []
    },
    {
      "cell_type": "code",
      "metadata": {
        "id": "41e06117",
        "outputId": "4e9b5a43-2f4b-42d9-e2b9-921ea2631fe0"
      },
      "source": [
        "sort_by_length(['Google', 'Apple', 'Microsoft'])"
      ],
      "id": "41e06117",
      "execution_count": null,
      "outputs": [
        {
          "data": {
            "text/plain": [
              "['Apple', 'Google', 'Microsoft']"
            ]
          },
          "execution_count": 18,
          "metadata": {},
          "output_type": "execute_result"
        }
      ]
    },
    {
      "cell_type": "code",
      "metadata": {
        "id": "9b884927",
        "outputId": "5e05f7a9-13b2-44fa-fb01-41116616e359"
      },
      "source": [
        "sort_by_length(['Leonardo', 'Michelangelo', 'Raphael', 'Donatello'])"
      ],
      "id": "9b884927",
      "execution_count": null,
      "outputs": [
        {
          "data": {
            "text/plain": [
              "['Raphael', 'Leonardo', 'Donatello', 'Michelangelo']"
            ]
          },
          "execution_count": 19,
          "metadata": {},
          "output_type": "execute_result"
        }
      ]
    },
    {
      "cell_type": "code",
      "metadata": {
        "id": "4c8e8078",
        "outputId": "d4a826bf-30a4-4a9a-d223-be5c6920ea44"
      },
      "source": [
        "sort_by_length(['Turing', 'Einstein', 'Jung'])"
      ],
      "id": "4c8e8078",
      "execution_count": null,
      "outputs": [
        {
          "data": {
            "text/plain": [
              "['Jung', 'Turing', 'Einstein']"
            ]
          },
          "execution_count": 20,
          "metadata": {},
          "output_type": "execute_result"
        }
      ]
    },
    {
      "cell_type": "markdown",
      "metadata": {
        "id": "fd992861"
      },
      "source": [
        "Question5\n",
        "Create a function that validates whether three given integers form a Pythagorean triplet. The\n",
        "sum of the squares of the two smallest integers must equal the square of the largest number to\n",
        "be validated.\n",
        "\n",
        "Examples\n",
        "is_triplet(3, 4, 5) ➞ True\n",
        "# 3² + 4² = 25\n",
        "# 5² = 25\n",
        "is_triplet(13, 5, 12) ➞ True\n",
        "# 5² + 12² = 169\n",
        "# 13² = 169\n",
        "is_triplet(1, 2, 3) ➞ False\n",
        "# 1² + 2² = 5\n",
        "# 3² = 9\n",
        "Notes\n",
        "Numbers may not be given in a sorted order."
      ],
      "id": "fd992861"
    },
    {
      "cell_type": "code",
      "metadata": {
        "id": "7534a4f0"
      },
      "source": [
        "# Ans : \n",
        "def is_triplet(a,b,c):\n",
        "    lst = []\n",
        "    lst.extend((a,b,c))\n",
        "    lst = sorted(lst)\n",
        "\n",
        "    if lst[0]**2 + lst[1]**2 == lst[2]**2:\n",
        "        print('Triplets')\n",
        "        return True\n",
        "    else:\n",
        "        print(\"not triplet\")\n",
        "        return False"
      ],
      "id": "7534a4f0",
      "execution_count": null,
      "outputs": []
    },
    {
      "cell_type": "code",
      "metadata": {
        "id": "1a37760d",
        "outputId": "642617dd-a204-4440-84d4-a545fec35cb7"
      },
      "source": [
        "is_triplet(3, 4, 5)"
      ],
      "id": "1a37760d",
      "execution_count": null,
      "outputs": [
        {
          "name": "stdout",
          "output_type": "stream",
          "text": [
            "Triplets\n"
          ]
        },
        {
          "data": {
            "text/plain": [
              "True"
            ]
          },
          "execution_count": 22,
          "metadata": {},
          "output_type": "execute_result"
        }
      ]
    },
    {
      "cell_type": "code",
      "metadata": {
        "id": "ae860216",
        "outputId": "058a9168-e4d9-4a1d-bf7b-43d312598974"
      },
      "source": [
        "is_triplet(13, 5, 12)"
      ],
      "id": "ae860216",
      "execution_count": null,
      "outputs": [
        {
          "name": "stdout",
          "output_type": "stream",
          "text": [
            "Triplets\n"
          ]
        },
        {
          "data": {
            "text/plain": [
              "True"
            ]
          },
          "execution_count": 23,
          "metadata": {},
          "output_type": "execute_result"
        }
      ]
    },
    {
      "cell_type": "code",
      "metadata": {
        "id": "cbdfd25c",
        "outputId": "e332ca64-eca2-4950-cab2-42301f7361f2"
      },
      "source": [
        "is_triplet(1, 2, 3)"
      ],
      "id": "cbdfd25c",
      "execution_count": null,
      "outputs": [
        {
          "name": "stdout",
          "output_type": "stream",
          "text": [
            "not triplet\n"
          ]
        },
        {
          "data": {
            "text/plain": [
              "False"
            ]
          },
          "execution_count": 24,
          "metadata": {},
          "output_type": "execute_result"
        }
      ]
    }
  ]
}