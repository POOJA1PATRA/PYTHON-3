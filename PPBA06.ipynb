{
  "nbformat": 4,
  "nbformat_minor": 0,
  "metadata": {
    "colab": {
      "name": "PPBA06.ipynb",
      "provenance": []
    },
    "kernelspec": {
      "name": "python3",
      "display_name": "Python 3"
    },
    "language_info": {
      "name": "python"
    }
  },
  "cells": [
    {
      "cell_type": "markdown",
      "metadata": {
        "id": "K2gAM7u_WhJR"
      },
      "source": [
        "1.\tWrite a Python Program to Display Fibonacci Sequence Using Recursion?"
      ]
    },
    {
      "cell_type": "code",
      "metadata": {
        "colab": {
          "base_uri": "https://localhost:8080/"
        },
        "id": "z4va0ccqWjnS",
        "outputId": "d1cbec4c-fb90-4726-9c6c-be9f6c750880"
      },
      "source": [
        "def fibonacci(n):\n",
        "\tif n<=1:\n",
        "\t\treturn n\n",
        "\telse:\n",
        "\t\treturn(fibonacci(n-1) + fibonacci(n-2))\n",
        "\n",
        "n = int(input('Enter a number, N, N>=2 : '))\n",
        "\n",
        "fibo_series = []\n",
        "\n",
        "for i in range(0,n):\n",
        "\tfibo_series.append(fibonacci(i))\n",
        "\t\n",
        "print(fibo_series)"
      ],
      "execution_count": null,
      "outputs": [
        {
          "output_type": "stream",
          "text": [
            "Enter a number, N, N>=2 : 8\n",
            "[0, 1, 1, 2, 3, 5, 8, 13]\n"
          ],
          "name": "stdout"
        }
      ]
    },
    {
      "cell_type": "markdown",
      "metadata": {
        "id": "ozJg9YAwzWMV"
      },
      "source": [
        "2.\tWrite a Python Program to Find Factorial of Number Using Recursion?"
      ]
    },
    {
      "cell_type": "code",
      "metadata": {
        "colab": {
          "base_uri": "https://localhost:8080/"
        },
        "id": "iv1qP3MqzXRU",
        "outputId": "7aebd532-a0ab-4b7a-9e8f-d930b1fa4d66"
      },
      "source": [
        "# Factorial of a number using recursion\n",
        "\n",
        "def recur_factorial(n):\n",
        "   if n == 1:\n",
        "       return n\n",
        "   else:\n",
        "       return n*recur_factorial(n-1)\n",
        "\n",
        "num = 10\n",
        "\n",
        "# check if the number is negative\n",
        "if num < 0:\n",
        "   print(\"Sorry, factorial does not exist for negative numbers\")\n",
        "elif num == 0:\n",
        "   print(\"The factorial of 0 is 1\")\n",
        "else:\n",
        "   print(\"The factorial of\", num, \"is\", recur_factorial(num))"
      ],
      "execution_count": null,
      "outputs": [
        {
          "output_type": "stream",
          "text": [
            "The factorial of 10 is 3628800\n"
          ],
          "name": "stdout"
        }
      ]
    },
    {
      "cell_type": "markdown",
      "metadata": {
        "id": "5oF_hLoc0d33"
      },
      "source": [
        "3.\tWrite a Python Program to calculate your Body Mass Index?"
      ]
    },
    {
      "cell_type": "code",
      "metadata": {
        "colab": {
          "base_uri": "https://localhost:8080/"
        },
        "id": "L6iGYLIn1c0E",
        "outputId": "29451851-8908-4c32-f668-6ce1628701a3"
      },
      "source": [
        "def bmi(h,w):\n",
        "  bmi_1 = round(w / (h * h), 2)\n",
        "  print('The BMI Index is = ',bmi_1)\n",
        "\n",
        "bmi(40,80)"
      ],
      "execution_count": null,
      "outputs": [
        {
          "output_type": "stream",
          "text": [
            "The BMI Index is =  0.05\n"
          ],
          "name": "stdout"
        }
      ]
    },
    {
      "cell_type": "markdown",
      "metadata": {
        "id": "aLUUxEdt1-kz"
      },
      "source": [
        "4.\tWrite a Python Program to calculate the natural logarithm of any number?"
      ]
    },
    {
      "cell_type": "code",
      "metadata": {
        "colab": {
          "base_uri": "https://localhost:8080/"
        },
        "id": "j-30C4P62YE4",
        "outputId": "7de757b0-c833-415f-fbde-d0dd12cb2923"
      },
      "source": [
        "import math\n",
        "def nat_log(num):\n",
        "  print('The Natural Log is =',math.log(num))\n",
        "\n",
        "nat_log(10)"
      ],
      "execution_count": null,
      "outputs": [
        {
          "output_type": "stream",
          "text": [
            "The Natural Log is = 2.302585092994046\n"
          ],
          "name": "stdout"
        }
      ]
    },
    {
      "cell_type": "markdown",
      "metadata": {
        "id": "hmdE2pAA5FwE"
      },
      "source": [
        "5.\tWrite a Python Program for cube sum of first n natural numbers?"
      ]
    },
    {
      "cell_type": "code",
      "metadata": {
        "colab": {
          "base_uri": "https://localhost:8080/"
        },
        "id": "PaJr1zwB5GsT",
        "outputId": "f0e918d2-f334-457a-968f-fa4e52b441f3"
      },
      "source": [
        "def sum_of_nat(num):\n",
        "  sum = 0\n",
        "  for i in range(1,n+1):\n",
        "    sum+=i *i * i\n",
        "  return sum\n",
        "\n",
        "\n",
        "\n",
        "sum_of_nat(4)"
      ],
      "execution_count": null,
      "outputs": [
        {
          "output_type": "execute_result",
          "data": {
            "text/plain": [
              "1296"
            ]
          },
          "metadata": {
            "tags": []
          },
          "execution_count": 7
        }
      ]
    },
    {
      "cell_type": "markdown",
      "metadata": {
        "id": "wkm_C1x07Qzx"
      },
      "source": [
        ""
      ]
    }
  ]
}