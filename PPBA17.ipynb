{
  "nbformat": 4,
  "nbformat_minor": 5,
  "metadata": {
    "kernelspec": {
      "display_name": "Python 3 (ipykernel)",
      "language": "python",
      "name": "python3"
    },
    "language_info": {
      "codemirror_mode": {
        "name": "ipython",
        "version": 3
      },
      "file_extension": ".py",
      "mimetype": "text/x-python",
      "name": "python",
      "nbconvert_exporter": "python",
      "pygments_lexer": "ipython3",
      "version": "3.9.7"
    },
    "colab": {
      "name": "PPBA17.ipynb",
      "provenance": [],
      "include_colab_link": true
    }
  },
  "cells": [
    {
      "cell_type": "markdown",
      "metadata": {
        "id": "view-in-github",
        "colab_type": "text"
      },
      "source": [
        "<a href=\"https://colab.research.google.com/github/Nitesh8833/Python_assignment_03/blob/main/PPBA17.ipynb\" target=\"_parent\"><img src=\"https://colab.research.google.com/assets/colab-badge.svg\" alt=\"Open In Colab\"/></a>"
      ]
    },
    {
      "cell_type": "markdown",
      "metadata": {
        "id": "8TC9RMrVRMNF"
      },
      "source": [
        "Question1. Create a function that takes three arguments a, b, c and returns the sum of the numbers that are evenly divided by c from the range a, b inclusive.\n",
        "Examples\n",
        "evenly_divisible(1, 10, 20) ➞ 0\n",
        "No number between 1 and 10 can be evenly divided by 20.\n",
        "evenly_divisible(1, 10, 2) ➞ 30\n",
        "2 + 4 + 6 + 8 + 10 = 30\n",
        "evenly_divisible(1, 10, 3) ➞ 18\n",
        "3 + 6 + 9 = 18"
      ],
      "id": "8TC9RMrVRMNF"
    },
    {
      "cell_type": "code",
      "metadata": {
        "id": "e91e5988",
        "outputId": "2488a509-2620-452a-a76b-640846831efb"
      },
      "source": [
        "# Ans :\n",
        "def sumDivisibles(a, b, c):     \n",
        "    sum = 0\n",
        "    for i in range(a, b + 1): \n",
        "        if (i % c == 0):\n",
        "            sum += i \n",
        "    return sum\n",
        "a = int(input('Enter a : '))\n",
        "b = int(input('Enter b : '))\n",
        "c = int(input('Enter c : '))\n",
        "print(sumDivisibles(a, b, c))"
      ],
      "id": "e91e5988",
      "execution_count": null,
      "outputs": [
        {
          "name": "stdout",
          "output_type": "stream",
          "text": [
            "Enter a : 2\n",
            "Enter b : 10\n",
            "Enter c : 4\n",
            "12\n"
          ]
        }
      ]
    },
    {
      "cell_type": "markdown",
      "metadata": {
        "id": "6s9qH5cZRQIo"
      },
      "source": [
        "Question2. Create a function that returns True if a given inequality expression is correct and False otherwise.\n",
        "Examples correct_signs(\"3 < 7 < 11\") ➞ True correct_signs(\"13 > 44 > 33 > 1\") ➞ False correct_signs(\"1 < 2 < 6 < 9 > 3\") ➞ True"
      ],
      "id": "6s9qH5cZRQIo"
    },
    {
      "cell_type": "code",
      "metadata": {
        "id": "7a100e66",
        "outputId": "1f7e7146-aee0-4bb9-deec-94ae0026c718"
      },
      "source": [
        "# Ans : \n",
        "def correct_signs ( txt ) : \n",
        "    return eval ( txt )\n",
        "print(correct_signs(\"3 > 7 < 11\"))\n",
        "print(correct_signs(\"13 > 44 > 33 > 1\"))\n",
        "print(correct_signs(\"1 < 2 < 6 < 9 > 3\"))"
      ],
      "id": "7a100e66",
      "execution_count": null,
      "outputs": [
        {
          "name": "stdout",
          "output_type": "stream",
          "text": [
            "False\n",
            "False\n",
            "True\n"
          ]
        }
      ]
    },
    {
      "cell_type": "markdown",
      "metadata": {
        "id": "wssc_WBART3t"
      },
      "source": [
        "Question3. Create a function that replaces all the vowels in a string with a specified character.\n",
        "Examples replace_vowels(\"the aardvark\", \"#\") ➞ \"th# ##rdv#rk\" replace_vowels(\"minnie mouse\", \"?\") ➞ \"m?nn?? m??s?\" replace_vowels(\"shakespeare\", \"\") ➞ \"shksp**r\""
      ],
      "id": "wssc_WBART3t"
    },
    {
      "cell_type": "code",
      "metadata": {
        "id": "e790a7b2",
        "outputId": "47bdd15c-b605-4616-fce7-0d77cde78831"
      },
      "source": [
        "# Ans :\n",
        "def replace_vowels(str, s):\n",
        "    vowels = 'AEIOUaeiou'\n",
        "    for ele in vowels:  \n",
        "        str = str.replace(ele, s)  \n",
        "    return str\n",
        "  \n",
        "input_str = input(\"enter a string : \")\n",
        "s = input(\"enter a vowel replacing string : \")\n",
        "print(\"\\nGiven Sting:\", input_str)\n",
        "print(\"Given Specified Character:\", s)\n",
        "print(\"Afer replacing vowels with the specified character:\",replace_vowels(input_str, s))"
      ],
      "id": "e790a7b2",
      "execution_count": null,
      "outputs": [
        {
          "name": "stdout",
          "output_type": "stream",
          "text": [
            "enter a string : Bhushan\n",
            "enter a vowel replacing string : $\n",
            "\n",
            "Given Sting: Bhushan\n",
            "Given Specified Character: $\n",
            "Afer replacing vowels with the specified character: Bh$sh$n\n"
          ]
        }
      ]
    },
    {
      "cell_type": "markdown",
      "metadata": {
        "id": "_zi6toeRRWnG"
      },
      "source": [
        "Question4. Write a function that calculates the factorial of a number recursively.\n",
        "Examples factorial(5) ➞ 120 factorial(3) ➞ 6 factorial(1) ➞ 1 factorial(0) ➞ 1"
      ],
      "id": "_zi6toeRRWnG"
    },
    {
      "cell_type": "code",
      "metadata": {
        "id": "73fe2383",
        "outputId": "dbd25868-1bdb-4f5e-ed0c-af16630de2c6"
      },
      "source": [
        "# Ans :\n",
        "def factorial(n):     \n",
        "    if n == 0:\n",
        "        return 1    \n",
        "    return n * factorial(n-1)\n",
        "\n",
        "num = int(input('enter a number :'))\n",
        "print(\"Factorial of\", num, \"is\", factorial(num))"
      ],
      "id": "73fe2383",
      "execution_count": null,
      "outputs": [
        {
          "name": "stdout",
          "output_type": "stream",
          "text": [
            "enter a number :5\n",
            "Factorial of 5 is 120\n"
          ]
        }
      ]
    },
    {
      "cell_type": "markdown",
      "metadata": {
        "id": "hUdPaWZtRZ_P"
      },
      "source": [
        "Question 5 : Hamming distance is the number of characters that differ between two strings. To illustrate:\n",
        "String1: \"abcbba\" String2: \"abcbda\" Hamming Distance: 1 - \"b\" vs. \"d\" is the only difference. Create a function that computes the hamming distance between two strings. Examples hamming_distance(\"abcde\", \"bcdef\") ➞ 5 hamming_distance(\"abcde\", \"abcde\") ➞ 0 hamming_distance(\"strong\", \"strung\") ➞ 1"
      ],
      "id": "hUdPaWZtRZ_P"
    },
    {
      "cell_type": "code",
      "metadata": {
        "id": "a0dc78d7",
        "outputId": "0842f09d-cbcf-44d8-b697-90a2cbe6cbcf"
      },
      "source": [
        "# Ans : \n",
        "def hamming_distance(str1, str2):\n",
        "    i = 0\n",
        "    count = 0\n",
        " \n",
        "    while(i < len(str1)):\n",
        "        if(str1[i] != str2[i]):\n",
        "            count += 1\n",
        "        i += 1\n",
        "    return count\n",
        " \n",
        "# Driver code \n",
        "str1 = \"abcde\"\n",
        "str2 = \"bcdef\"\n",
        " \n",
        "# function call\n",
        "print(hamming_distance(str1, str2))"
      ],
      "id": "a0dc78d7",
      "execution_count": null,
      "outputs": [
        {
          "name": "stdout",
          "output_type": "stream",
          "text": [
            "5\n"
          ]
        }
      ]
    },
    {
      "cell_type": "code",
      "metadata": {
        "id": "f36dfcca",
        "outputId": "9b2b3b57-907e-43e9-a1ab-be1110dcbd52"
      },
      "source": [
        "print(hamming_distance('strong', 'strung'))"
      ],
      "id": "f36dfcca",
      "execution_count": null,
      "outputs": [
        {
          "name": "stdout",
          "output_type": "stream",
          "text": [
            "1\n"
          ]
        }
      ]
    },
    {
      "cell_type": "code",
      "metadata": {
        "id": "94e774f3",
        "outputId": "ec5f2a6a-9621-49c1-80e1-3135c337bf09"
      },
      "source": [
        "hamming_distance('abcde', 'abcde')"
      ],
      "id": "94e774f3",
      "execution_count": null,
      "outputs": [
        {
          "data": {
            "text/plain": [
              "0"
            ]
          },
          "execution_count": 9,
          "metadata": {},
          "output_type": "execute_result"
        }
      ]
    }
  ]
}