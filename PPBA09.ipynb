{
  "nbformat": 4,
  "nbformat_minor": 0,
  "metadata": {
    "colab": {
      "name": "PPBA09.ipynb",
      "provenance": [],
      "collapsed_sections": [],
      "authorship_tag": "ABX9TyOPrKlDbnLC+6OnY5qyT2h9",
      "include_colab_link": true
    },
    "kernelspec": {
      "name": "python3",
      "display_name": "Python 3"
    },
    "language_info": {
      "name": "python"
    }
  },
  "cells": [
    {
      "cell_type": "markdown",
      "metadata": {
        "id": "view-in-github",
        "colab_type": "text"
      },
      "source": [
        "<a href=\"https://colab.research.google.com/github/Nitesh8833/Python_assignment_03/blob/main/PPBA09.ipynb\" target=\"_parent\"><img src=\"https://colab.research.google.com/assets/colab-badge.svg\" alt=\"Open In Colab\"/></a>"
      ]
    },
    {
      "cell_type": "markdown",
      "metadata": {
        "id": "wKurJrHatPms"
      },
      "source": [
        "1.\tWrite a Python program to check if the given number is a Disarium Number?"
      ]
    },
    {
      "cell_type": "code",
      "metadata": {
        "id": "FZjPkIMGtQpE",
        "colab": {
          "base_uri": "https://localhost:8080/"
        },
        "outputId": "e84d6f9f-19dc-4209-af6e-24ef228ab361"
      },
      "source": [
        "number = input(\"Enter your Number: \")\n",
        "#First break the number into digits and store into list\n",
        "digits = [int(x) for x in str(number)]\n",
        "#print(digits)\n",
        "z=1\n",
        "total =0\n",
        "\n",
        "#put power to every digits and sum it\n",
        "for y in digits:\n",
        "  \n",
        "  z1 =y**z\n",
        "  z=z+1\n",
        "  #print(z1)\n",
        "  total +=z1\n",
        "#print(total)\n",
        "#then compare it\n",
        "if int(number) == int(total):\n",
        "  print(\"Given number is a Disarium Number\")\n",
        "else:\n",
        "  print(\"Given number is not a Disarium Number\")\n",
        "\n"
      ],
      "execution_count": null,
      "outputs": [
        {
          "output_type": "stream",
          "text": [
            "Enter your Number: 12\n",
            "Given number is not a Disarium Number\n"
          ],
          "name": "stdout"
        }
      ]
    },
    {
      "cell_type": "markdown",
      "metadata": {
        "id": "69o8cqBnukdL"
      },
      "source": [
        "2.\tWrite a Python program to print all disarium numbers between 1 to 100?"
      ]
    },
    {
      "cell_type": "code",
      "metadata": {
        "id": "RpUHqyfNuouL",
        "colab": {
          "base_uri": "https://localhost:8080/"
        },
        "outputId": "1dd1d058-577b-4717-b6bd-ef3c9301a202"
      },
      "source": [
        "def disarium(number):\n",
        "\n",
        "#First break the number into digits and store into list\n",
        "  digits = [int(x) for x in str(number)]\n",
        "  #print(digits)\n",
        "  z=1\n",
        "  total =0\n",
        "\n",
        "#put power to every digits and sum it\n",
        "  for y in digits:\n",
        "    z1 =y**z\n",
        "    z=z+1\n",
        "  #print(z1)\n",
        "    total +=z1\n",
        "#print(total)\n",
        "#then compare it\n",
        "  if int(number) == int(total):\n",
        "    print(\"This is a Disarium Number:\",+number)\n",
        "  \n",
        "ini_result = 0\n",
        "for i in range(1, 101):\n",
        "   ini_result = disarium(i)\n",
        "   \n"
      ],
      "execution_count": null,
      "outputs": [
        {
          "output_type": "stream",
          "text": [
            "This is a Disarium Number: 1\n",
            "This is a Disarium Number: 2\n",
            "This is a Disarium Number: 3\n",
            "This is a Disarium Number: 4\n",
            "This is a Disarium Number: 5\n",
            "This is a Disarium Number: 6\n",
            "This is a Disarium Number: 7\n",
            "This is a Disarium Number: 8\n",
            "This is a Disarium Number: 9\n",
            "This is a Disarium Number: 89\n"
          ],
          "name": "stdout"
        }
      ]
    },
    {
      "cell_type": "markdown",
      "metadata": {
        "id": "idhFbGjro-YL"
      },
      "source": [
        "3.\tWrite a Python program to check if the given number is Happy Number?"
      ]
    },
    {
      "cell_type": "code",
      "metadata": {
        "id": "jVFFgxgKx7Xv",
        "colab": {
          "base_uri": "https://localhost:8080/"
        },
        "outputId": "7309ea67-482a-4457-ed7c-e857cb0dd93f"
      },
      "source": [
        "def isHappy(n):    \n",
        "    r = s = 0;    \n",
        "    while(n > 0):    \n",
        "        r = n%10    \n",
        "        s += r**2  \n",
        "        n //= 10    \n",
        "    return s  \n",
        "        \n",
        "n = int(input())    \n",
        "res = n;    \n",
        "     \n",
        "while(res != 1 and res != 4):    \n",
        "    res = isHappy(res)    \n",
        "     \n",
        "if(res == 1):    \n",
        "    print(n,\"is a happy number\")\n",
        "elif(res == 4):    \n",
        "    print(n,\"is not a happy number\") "
      ],
      "execution_count": null,
      "outputs": [
        {
          "output_type": "stream",
          "name": "stdout",
          "text": [
            "43\n",
            "43 is not a happy number\n"
          ]
        }
      ]
    },
    {
      "cell_type": "markdown",
      "metadata": {
        "id": "2Ht0dV9ACuDC"
      },
      "source": [
        "4.\tWrite a Python program to print all happy numbers between 1 and 100?"
      ]
    },
    {
      "cell_type": "code",
      "metadata": {
        "colab": {
          "base_uri": "https://localhost:8080/"
        },
        "id": "FkF4H3XiCznn",
        "outputId": "01834e70-a079-4914-b790-15bda59f4bfe"
      },
      "source": [
        "def isHappy(n):    \n",
        "    r = s = 0;    \n",
        "    while(n > 0):    \n",
        "        r = n%10    \n",
        "        s += r**2  \n",
        "        n //= 10    \n",
        "    return s  \n",
        "        \n",
        " \n",
        "for n in range(1,101):\n",
        "  res = n;\n",
        "  while(res != 1 and res != 4):    \n",
        "    res = isHappy(res)\n",
        "    if(res == 1):\n",
        "      print(n, end=\" \")\n",
        "      \n",
        "      "
      ],
      "execution_count": null,
      "outputs": [
        {
          "output_type": "stream",
          "name": "stdout",
          "text": [
            "7 10 13 19 23 28 31 32 44 49 68 70 79 82 86 91 94 97 100 "
          ]
        }
      ]
    },
    {
      "cell_type": "markdown",
      "metadata": {
        "id": "Mf5vdJ8yNfVQ"
      },
      "source": [
        "5.\tWrite a Python program to determine whether the given number is a Harshad Number"
      ]
    },
    {
      "cell_type": "code",
      "metadata": {
        "id": "Zfi-Iw3dNg_0",
        "colab": {
          "base_uri": "https://localhost:8080/"
        },
        "outputId": "8252b8c2-bdee-4ef4-fb6a-d0acf9c2c145"
      },
      "source": [
        "def isHarshad(n):\n",
        "  lst = [int(i) for i in str(n)]\n",
        "  #print(lst)\n",
        "  m = sum(lst)\n",
        "  #print(m)\n",
        "  hnum = n/m\n",
        "  #print(hnum)\n",
        "  #print((hnum).is_integer())\n",
        "  if (hnum).is_integer() == True:\n",
        "    print(n,\" is a Harshad NUmber\")\n",
        "  else:\n",
        "    print(n, \" is not a Harshad Number\")\n",
        "\n",
        "isHarshad(20)\n",
        "isHarshad(21)\n",
        "isHarshad(22)\n",
        "isHarshad(23)\n",
        "isHarshad(24)"
      ],
      "execution_count": null,
      "outputs": [
        {
          "output_type": "stream",
          "name": "stdout",
          "text": [
            "20  is a Harshad NUmber\n",
            "21  is a Harshad NUmber\n",
            "22  is not a Harshad Number\n",
            "23  is not a Harshad Number\n",
            "24  is a Harshad NUmber\n"
          ]
        }
      ]
    },
    {
      "cell_type": "markdown",
      "metadata": {
        "id": "6OlysAdiOZOH"
      },
      "source": [
        "6.\tWrite a Python program to print all pronic numbers between 1 and 100?"
      ]
    },
    {
      "cell_type": "code",
      "metadata": {
        "id": "epq3xbf-OawI",
        "colab": {
          "base_uri": "https://localhost:8080/"
        },
        "outputId": "af8dd9ec-8fff-4958-f75d-371f926b3672"
      },
      "source": [
        "print(\"Pronic numbers between 1 and 100:\")\n",
        "for i in range(1,12):\n",
        "  for j in range(1,12):\n",
        "    if i+1 ==j or j+1==i:\n",
        "      m = i * j\n",
        "  if m > 100:\n",
        "    break;\n",
        "      \n",
        "  print(m, end=\" \")\n",
        "    \n",
        "  \n"
      ],
      "execution_count": 43,
      "outputs": [
        {
          "output_type": "stream",
          "name": "stdout",
          "text": [
            "Pronic numbers between 1 and 100:\n",
            "2 6 12 20 30 42 56 72 90 "
          ]
        }
      ]
    },
    {
      "cell_type": "code",
      "metadata": {
        "id": "oztqm-R9m7VV"
      },
      "source": [
        ""
      ],
      "execution_count": null,
      "outputs": []
    }
  ]
}