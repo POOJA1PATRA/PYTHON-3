{
  "nbformat": 4,
  "nbformat_minor": 5,
  "metadata": {
    "kernelspec": {
      "display_name": "Python 3 (ipykernel)",
      "language": "python",
      "name": "python3"
    },
    "language_info": {
      "codemirror_mode": {
        "name": "ipython",
        "version": 3
      },
      "file_extension": ".py",
      "mimetype": "text/x-python",
      "name": "python",
      "nbconvert_exporter": "python",
      "pygments_lexer": "ipython3",
      "version": "3.9.7"
    },
    "colab": {
      "name": "PPBA23.ipynb",
      "provenance": [],
      "include_colab_link": true
    }
  },
  "cells": [
    {
      "cell_type": "markdown",
      "metadata": {
        "id": "view-in-github",
        "colab_type": "text"
      },
      "source": [
        "<a href=\"https://colab.research.google.com/github/Nitesh8833/Python_assignment_03/blob/main/PPBA23.ipynb\" target=\"_parent\"><img src=\"https://colab.research.google.com/assets/colab-badge.svg\" alt=\"Open In Colab\"/></a>"
      ]
    },
    {
      "cell_type": "markdown",
      "metadata": {
        "id": "423a325e"
      },
      "source": [
        " Question 1 : Create a function that takes a number as an argument and returns True or False depending on whether the number is symmetrical or not. A number is symmetrical when it is the same as its reverse.\n",
        "Examples\n",
        "is_symmetrical(7227) ➞ True\n",
        "is_symmetrical(12567) ➞ False\n",
        "is_symmetrical(44444444) ➞ True\n",
        "is_symmetrical(9939) ➞ False\n",
        "is_symmetrical(1112111) ➞ True"
      ],
      "id": "423a325e"
    },
    {
      "cell_type": "code",
      "metadata": {
        "id": "d298ad89"
      },
      "source": [
        "# Ans : \n",
        "def is_symmetrical(num):\n",
        "    currentDigit = reversedDigit = 0\n",
        "    remainingNum = num\n",
        "    while(remainingNum != 0):\n",
        "\n",
        "        currentDigit = remainingNum % 10\n",
        "\n",
        "        reversedDigit = reversedDigit * 10 + currentDigit\n",
        "        print('Reveresed Digit :',reversedDigit)\n",
        "        remainingNum = remainingNum // 10\n",
        "\n",
        "    if reversedDigit == num:\n",
        "        print('Num {} is symmetrical'.format(num))\n",
        "    else:\n",
        "        print('Num {} is not symmetrical'.format(num))"
      ],
      "id": "d298ad89",
      "execution_count": null,
      "outputs": []
    },
    {
      "cell_type": "code",
      "metadata": {
        "id": "741d674c",
        "outputId": "74164fbf-7dec-4df1-bc63-f129a78be93b"
      },
      "source": [
        "is_symmetrical(7227)"
      ],
      "id": "741d674c",
      "execution_count": null,
      "outputs": [
        {
          "name": "stdout",
          "output_type": "stream",
          "text": [
            "Reveresed Digit : 7\n",
            "Reveresed Digit : 72\n",
            "Reveresed Digit : 722\n",
            "Reveresed Digit : 7227\n",
            "Num 7227 is symmetrical\n"
          ]
        }
      ]
    },
    {
      "cell_type": "code",
      "metadata": {
        "id": "8774ead6",
        "outputId": "354f4dab-5a6b-42a3-8054-b2a664f64caa"
      },
      "source": [
        "is_symmetrical(12567)"
      ],
      "id": "8774ead6",
      "execution_count": null,
      "outputs": [
        {
          "name": "stdout",
          "output_type": "stream",
          "text": [
            "Reveresed Digit : 7\n",
            "Reveresed Digit : 76\n",
            "Reveresed Digit : 765\n",
            "Reveresed Digit : 7652\n",
            "Reveresed Digit : 76521\n",
            "Num 12567 is not symmetrical\n"
          ]
        }
      ]
    },
    {
      "cell_type": "code",
      "metadata": {
        "id": "240a8f89",
        "outputId": "b4dc6f55-3299-4686-eaa7-251f3411f3e3"
      },
      "source": [
        "is_symmetrical(44444444)"
      ],
      "id": "240a8f89",
      "execution_count": null,
      "outputs": [
        {
          "name": "stdout",
          "output_type": "stream",
          "text": [
            "Reveresed Digit : 4\n",
            "Reveresed Digit : 44\n",
            "Reveresed Digit : 444\n",
            "Reveresed Digit : 4444\n",
            "Reveresed Digit : 44444\n",
            "Reveresed Digit : 444444\n",
            "Reveresed Digit : 4444444\n",
            "Reveresed Digit : 44444444\n",
            "Num 44444444 is symmetrical\n"
          ]
        }
      ]
    },
    {
      "cell_type": "code",
      "metadata": {
        "id": "32d75fe6",
        "outputId": "59019997-bdce-4958-b365-49609299a457"
      },
      "source": [
        "is_symmetrical(9939)"
      ],
      "id": "32d75fe6",
      "execution_count": null,
      "outputs": [
        {
          "name": "stdout",
          "output_type": "stream",
          "text": [
            "Reveresed Digit : 9\n",
            "Reveresed Digit : 93\n",
            "Reveresed Digit : 939\n",
            "Reveresed Digit : 9399\n",
            "Num 9939 is not symmetrical\n"
          ]
        }
      ]
    },
    {
      "cell_type": "code",
      "metadata": {
        "id": "e46acb4e",
        "outputId": "24b9ee75-357e-4aa9-9422-36aa2b97379c"
      },
      "source": [
        "is_symmetrical(1112111)"
      ],
      "id": "e46acb4e",
      "execution_count": null,
      "outputs": [
        {
          "name": "stdout",
          "output_type": "stream",
          "text": [
            "Reveresed Digit : 1\n",
            "Reveresed Digit : 11\n",
            "Reveresed Digit : 111\n",
            "Reveresed Digit : 1112\n",
            "Reveresed Digit : 11121\n",
            "Reveresed Digit : 111211\n",
            "Reveresed Digit : 1112111\n",
            "Num 1112111 is symmetrical\n"
          ]
        }
      ]
    },
    {
      "cell_type": "markdown",
      "metadata": {
        "id": "11b5fd32"
      },
      "source": [
        "Question 2\n",
        "Given a string of numbers separated by a comma and space, return the product of the\n",
        "numbers.\n",
        "Examples\n",
        "multiply_nums('2, 3') ➞ 6\n",
        "multiply_nums('1, 2, 3, 4') ➞ 24\n",
        "multiply_nums('54, 75, 453, 0') ➞ 0\n",
        "multiply_nums('10, -2') ➞ -20"
      ],
      "id": "11b5fd32"
    },
    {
      "cell_type": "code",
      "metadata": {
        "id": "4f71d286"
      },
      "source": [
        "# Ans : \n",
        "def multiply_nums(s):\n",
        "    s = s.replace(' ', \"\")\n",
        "    s = s.split(',')\n",
        "    sum = 1\n",
        "    for i in s:\n",
        "        sum = sum * int(i)\n",
        "    return sum"
      ],
      "id": "4f71d286",
      "execution_count": null,
      "outputs": []
    },
    {
      "cell_type": "code",
      "metadata": {
        "id": "8c02f81f",
        "outputId": "3ce1085c-8f17-47f9-b794-cc6556d0924b"
      },
      "source": [
        "multiply_nums('2, 3')"
      ],
      "id": "8c02f81f",
      "execution_count": null,
      "outputs": [
        {
          "data": {
            "text/plain": [
              "6"
            ]
          },
          "execution_count": 9,
          "metadata": {},
          "output_type": "execute_result"
        }
      ]
    },
    {
      "cell_type": "code",
      "metadata": {
        "id": "1c2173cc",
        "outputId": "712e555c-19ae-43c2-af43-cb16e73b002f"
      },
      "source": [
        "multiply_nums('1, 2, 3, 4')"
      ],
      "id": "1c2173cc",
      "execution_count": null,
      "outputs": [
        {
          "data": {
            "text/plain": [
              "24"
            ]
          },
          "execution_count": 10,
          "metadata": {},
          "output_type": "execute_result"
        }
      ]
    },
    {
      "cell_type": "code",
      "metadata": {
        "id": "e862066f",
        "outputId": "51998d7c-d4c7-4dfb-d8cd-7e3cca83972b"
      },
      "source": [
        "multiply_nums('54, 75, 453, 0')"
      ],
      "id": "e862066f",
      "execution_count": null,
      "outputs": [
        {
          "data": {
            "text/plain": [
              "0"
            ]
          },
          "execution_count": 11,
          "metadata": {},
          "output_type": "execute_result"
        }
      ]
    },
    {
      "cell_type": "code",
      "metadata": {
        "id": "68f6f842",
        "outputId": "aaaada7d-28d0-47e2-d491-0ebabc6e1ccd"
      },
      "source": [
        "multiply_nums('10, -2')"
      ],
      "id": "68f6f842",
      "execution_count": null,
      "outputs": [
        {
          "data": {
            "text/plain": [
              "-20"
            ]
          },
          "execution_count": 12,
          "metadata": {},
          "output_type": "execute_result"
        }
      ]
    },
    {
      "cell_type": "markdown",
      "metadata": {
        "id": "da1d5d4a"
      },
      "source": [
        " Question 3\n",
        "Create a function that squares every digit of a number.\n",
        "Examples\n",
        "square_digits(9119) ➞ 811181\n",
        "square_digits(2483) ➞ 416649\n",
        "square_digits(3212) ➞ 9414\n",
        "Notes\n",
        "The function receives an integer and must return an integer."
      ],
      "id": "da1d5d4a"
    },
    {
      "cell_type": "code",
      "metadata": {
        "id": "3485d1e0"
      },
      "source": [
        "# Ans : \n",
        "def square_digits(num):\n",
        "    z = ''.join(str(int(i)**2) for i in str(num))\n",
        "    return int(z)"
      ],
      "id": "3485d1e0",
      "execution_count": null,
      "outputs": []
    },
    {
      "cell_type": "code",
      "metadata": {
        "id": "58f690ee",
        "outputId": "27b6c37a-ab2f-47d8-d62f-8062a5aa416c"
      },
      "source": [
        "square_digits(9119)"
      ],
      "id": "58f690ee",
      "execution_count": null,
      "outputs": [
        {
          "data": {
            "text/plain": [
              "811181"
            ]
          },
          "execution_count": 14,
          "metadata": {},
          "output_type": "execute_result"
        }
      ]
    },
    {
      "cell_type": "code",
      "metadata": {
        "id": "e33f1817",
        "outputId": "9c375e70-b33c-46a3-bb64-91b27b828237"
      },
      "source": [
        "square_digits(2483)"
      ],
      "id": "e33f1817",
      "execution_count": null,
      "outputs": [
        {
          "data": {
            "text/plain": [
              "416649"
            ]
          },
          "execution_count": 15,
          "metadata": {},
          "output_type": "execute_result"
        }
      ]
    },
    {
      "cell_type": "code",
      "metadata": {
        "id": "9f2429eb",
        "outputId": "9e34daec-7436-497e-d22e-264f0d1c5db8"
      },
      "source": [
        "square_digits(3212)"
      ],
      "id": "9f2429eb",
      "execution_count": null,
      "outputs": [
        {
          "data": {
            "text/plain": [
              "9414"
            ]
          },
          "execution_count": 16,
          "metadata": {},
          "output_type": "execute_result"
        }
      ]
    },
    {
      "cell_type": "markdown",
      "metadata": {
        "id": "24743562"
      },
      "source": [
        "Question 4\n",
        "Create a function that sorts a list and removes all duplicate items from it.\n",
        "Examples\n",
        "setify([1, 3, 3, 5, 5]) ➞ [1, 3, 5]\n",
        "setify([4, 4, 4, 4]) ➞ [4]\n",
        "setify([5, 7, 8, 9, 10, 15]) ➞ [5, 7, 8, 9, 10, 15]\n",
        "setify([3, 3, 3, 2, 1]) ➞ [1, 2, 3]"
      ],
      "id": "24743562"
    },
    {
      "cell_type": "code",
      "metadata": {
        "id": "43d2cd1d"
      },
      "source": [
        "# Ans : \n",
        "def setify(lst):\n",
        "    return list(set(lst))"
      ],
      "id": "43d2cd1d",
      "execution_count": null,
      "outputs": []
    },
    {
      "cell_type": "code",
      "metadata": {
        "id": "fe202a91",
        "outputId": "74269aea-bae6-40d2-d441-e9fedd4bd15b"
      },
      "source": [
        "setify([1, 3, 3, 5, 5])"
      ],
      "id": "fe202a91",
      "execution_count": null,
      "outputs": [
        {
          "data": {
            "text/plain": [
              "[1, 3, 5]"
            ]
          },
          "execution_count": 18,
          "metadata": {},
          "output_type": "execute_result"
        }
      ]
    },
    {
      "cell_type": "code",
      "metadata": {
        "id": "dc6e9506",
        "outputId": "e473560f-ab00-44de-a306-b5f0b2fa5536"
      },
      "source": [
        "setify([4, 4, 4, 4])"
      ],
      "id": "dc6e9506",
      "execution_count": null,
      "outputs": [
        {
          "data": {
            "text/plain": [
              "[4]"
            ]
          },
          "execution_count": 19,
          "metadata": {},
          "output_type": "execute_result"
        }
      ]
    },
    {
      "cell_type": "code",
      "metadata": {
        "id": "6df9aabc",
        "outputId": "62a1173d-7483-474b-cb06-022436b8a14d"
      },
      "source": [
        "setify([5, 7, 8, 9, 10, 15])"
      ],
      "id": "6df9aabc",
      "execution_count": null,
      "outputs": [
        {
          "data": {
            "text/plain": [
              "[5, 7, 8, 9, 10, 15]"
            ]
          },
          "execution_count": 20,
          "metadata": {},
          "output_type": "execute_result"
        }
      ]
    },
    {
      "cell_type": "code",
      "metadata": {
        "id": "43ff6c3d",
        "outputId": "00159b76-5c0f-4b72-b1eb-7f6c3ef9f4c4"
      },
      "source": [
        "setify([3, 3, 3, 2, 1])"
      ],
      "id": "43ff6c3d",
      "execution_count": null,
      "outputs": [
        {
          "data": {
            "text/plain": [
              "[1, 2, 3]"
            ]
          },
          "execution_count": 21,
          "metadata": {},
          "output_type": "execute_result"
        }
      ]
    },
    {
      "cell_type": "markdown",
      "metadata": {
        "id": "a7c9e663"
      },
      "source": [
        " Question 5\n",
        "Create a function that returns the mean of all digits.\n",
        "Examples\n",
        "mean(42) ➞ 3\n",
        "mean(12345) ➞ 3\n",
        "mean(666) ➞ 6\n",
        "Notes\n",
        " The mean of all digits is the sum of digits / how many digits there are (e.g. mean of digits in\n",
        "512 is (5+1+2)/3(number of digits) = 8/3=2).\n",
        " The mean will always be an integer."
      ],
      "id": "a7c9e663"
    },
    {
      "cell_type": "code",
      "metadata": {
        "id": "808ce1ad"
      },
      "source": [
        "# Ans : \n",
        "def mean(n): \n",
        "    N = len(str(n)) \n",
        "    sum = mean = 0\n",
        "    \n",
        "    for digit in str(n):\n",
        "        sum += int(digit)       \n",
        "    return int(sum/N)"
      ],
      "id": "808ce1ad",
      "execution_count": null,
      "outputs": []
    },
    {
      "cell_type": "code",
      "metadata": {
        "id": "7a3197d2",
        "outputId": "20b9e450-953a-40c2-d21b-0d982af85291"
      },
      "source": [
        "mean(42)"
      ],
      "id": "7a3197d2",
      "execution_count": null,
      "outputs": [
        {
          "data": {
            "text/plain": [
              "3"
            ]
          },
          "execution_count": 23,
          "metadata": {},
          "output_type": "execute_result"
        }
      ]
    },
    {
      "cell_type": "code",
      "metadata": {
        "id": "5989f782",
        "outputId": "3e067d0c-830c-4127-cc65-119c4eab259e"
      },
      "source": [
        "mean(12345)"
      ],
      "id": "5989f782",
      "execution_count": null,
      "outputs": [
        {
          "data": {
            "text/plain": [
              "3"
            ]
          },
          "execution_count": 24,
          "metadata": {},
          "output_type": "execute_result"
        }
      ]
    },
    {
      "cell_type": "code",
      "metadata": {
        "id": "ef6044cb",
        "outputId": "c8e21c77-f89d-4bc3-9868-a982451883d4"
      },
      "source": [
        "mean(666)"
      ],
      "id": "ef6044cb",
      "execution_count": null,
      "outputs": [
        {
          "data": {
            "text/plain": [
              "6"
            ]
          },
          "execution_count": 25,
          "metadata": {},
          "output_type": "execute_result"
        }
      ]
    }
  ]
}