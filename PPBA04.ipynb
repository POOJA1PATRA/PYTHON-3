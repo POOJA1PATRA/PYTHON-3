{
  "nbformat": 4,
  "nbformat_minor": 0,
  "metadata": {
    "colab": {
      "name": "PPBA04.ipynb",
      "provenance": []
    },
    "kernelspec": {
      "name": "python3",
      "display_name": "Python 3"
    },
    "language_info": {
      "name": "python"
    }
  },
  "cells": [
    {
      "cell_type": "markdown",
      "metadata": {
        "id": "bqrZ5iSWIuxu"
      },
      "source": [
        "1.\tWrite a Python Program to Find the Factorial of a Number?"
      ]
    },
    {
      "cell_type": "code",
      "metadata": {
        "id": "HNfHvIRQIyRb",
        "colab": {
          "base_uri": "https://localhost:8080/"
        },
        "outputId": "f36d3008-b32f-43e6-a56e-6a5a2e9d5998"
      },
      "source": [
        "def factorial(num):\n",
        "    if((num == 0) or (num == 1)):\n",
        "        return 1\n",
        "    else:\n",
        "        return num * factorial(num - 1)\n",
        "\n",
        "factorial(5)"
      ],
      "execution_count": null,
      "outputs": [
        {
          "output_type": "execute_result",
          "data": {
            "text/plain": [
              "120"
            ]
          },
          "metadata": {
            "tags": []
          },
          "execution_count": 8
        }
      ]
    },
    {
      "cell_type": "markdown",
      "metadata": {
        "id": "y_GiASKopShK"
      },
      "source": [
        "2.\tWrite a Python Program to Display the multiplication Table?"
      ]
    },
    {
      "cell_type": "code",
      "metadata": {
        "colab": {
          "base_uri": "https://localhost:8080/"
        },
        "id": "QhA3nKurpTSR",
        "outputId": "e9aa1b45-edba-442e-872a-85bd2b37e326"
      },
      "source": [
        "def m_table(num):\n",
        "  for n1 in range(1,11,1):\n",
        "    num1 = n1* num\n",
        "    print(num, \"*\" ,n1, \"=\" ,num1)\n",
        "m_table(5)"
      ],
      "execution_count": null,
      "outputs": [
        {
          "output_type": "stream",
          "text": [
            "5 * 1 = 5\n",
            "5 * 2 = 10\n",
            "5 * 3 = 15\n",
            "5 * 4 = 20\n",
            "5 * 5 = 25\n",
            "5 * 6 = 30\n",
            "5 * 7 = 35\n",
            "5 * 8 = 40\n",
            "5 * 9 = 45\n",
            "5 * 10 = 50\n"
          ],
          "name": "stdout"
        }
      ]
    },
    {
      "cell_type": "markdown",
      "metadata": {
        "id": "4WI5YVi7wuuT"
      },
      "source": [
        "3.\tWrite a Python Program to Print the Fibonacci sequence?"
      ]
    },
    {
      "cell_type": "code",
      "metadata": {
        "colab": {
          "base_uri": "https://localhost:8080/"
        },
        "id": "fwxV_gJc9Bwz",
        "outputId": "0dfbba8a-e676-4b2b-aba4-fd3b54f752ab"
      },
      "source": [
        "def Fibonacci(Number):\n",
        "    if(Number==0):\n",
        "        return 0\n",
        "    elif(Number==1):\n",
        "        return 1\n",
        "    else:\n",
        "        return (Fibonacci(Number-2)+Fibonacci(Number-1))\n",
        "n=int(input(\"Enter the value of 'n': \"))\n",
        "print(\"Fibonacci Sequence:\")\n",
        "for n in range(0, n):\n",
        "  print(Fibonacci(n))"
      ],
      "execution_count": null,
      "outputs": [
        {
          "output_type": "stream",
          "text": [
            "Enter the value of 'n': 7\n",
            "Fibonacci Sequence:\n",
            "0\n",
            "1\n",
            "1\n",
            "2\n",
            "3\n",
            "5\n",
            "8\n"
          ],
          "name": "stdout"
        }
      ]
    },
    {
      "cell_type": "code",
      "metadata": {
        "id": "N4zulj1mJWQf"
      },
      "source": [
        ""
      ],
      "execution_count": null,
      "outputs": []
    },
    {
      "cell_type": "markdown",
      "metadata": {
        "id": "X4Ena7aNJYYe"
      },
      "source": [
        "4.\tWrite a Python Program to Check Armstrong Number?\n",
        "Ans:-"
      ]
    },
    {
      "cell_type": "code",
      "metadata": {
        "colab": {
          "base_uri": "https://localhost:8080/"
        },
        "id": "PG7XmONaOPVs",
        "outputId": "6f9a0821-40c2-4e86-f100-1a19f5f852c8"
      },
      "source": [
        "def arm(num):\n",
        "  num1 = list(str(num))\n",
        "  print(num1)\n",
        "  sum1=0\n",
        "  for n1 in num1:\n",
        "    sum1 += pow(int(n1),3)\n",
        "  print(sum1)\n",
        "  if num == sum1:\n",
        "    print(\"It is a Armstrong Number\")\n",
        "  else:\n",
        "    print(\"It is not an armstrong Number\")\n",
        "    \n",
        "\n",
        "arm(1000)\n"
      ],
      "execution_count": null,
      "outputs": [
        {
          "output_type": "stream",
          "text": [
            "['1', '0', '0', '0']\n",
            "1\n",
            "It is not an armstrong Number\n"
          ],
          "name": "stdout"
        }
      ]
    },
    {
      "cell_type": "markdown",
      "metadata": {
        "id": "odGYYQn1So4k"
      },
      "source": [
        "5.\tWrite a Python Program to Find Armstrong Number in an Interval?"
      ]
    },
    {
      "cell_type": "code",
      "metadata": {
        "colab": {
          "base_uri": "https://localhost:8080/"
        },
        "id": "GBojrpFWSppk",
        "outputId": "10a8cb7a-f081-4747-95f1-4587e519a68c"
      },
      "source": [
        "def num_arm(num1,num2):\n",
        "\n",
        "  for i in range(num1,num2):\n",
        "    i2 = list(str(i))\n",
        "    #print(i2)\n",
        "    sum1 = 0\n",
        "    for n1 in i2:\n",
        "      sum1 +=pow(int(n1),3)\n",
        "      #print(sum1)\n",
        "\n",
        "      if (i ==sum1):\n",
        "        print(sum1)\n",
        "      else:\n",
        "        pass\n",
        "        \n",
        "\n",
        "num_arm(1,3000)"
      ],
      "execution_count": null,
      "outputs": [
        {
          "output_type": "stream",
          "text": [
            "1\n",
            "153\n",
            "370\n",
            "370\n",
            "371\n",
            "407\n"
          ],
          "name": "stdout"
        }
      ]
    },
    {
      "cell_type": "markdown",
      "metadata": {
        "id": "g2hxjxOtoGIQ"
      },
      "source": [
        "6.\tWrite a Python Program to Find the Sum of Natural Numbers?\n"
      ]
    },
    {
      "cell_type": "code",
      "metadata": {
        "colab": {
          "base_uri": "https://localhost:8080/"
        },
        "id": "nAIzc0qvr4Fz",
        "outputId": "247c9218-273d-4209-b431-2a45d6ae1a29"
      },
      "source": [
        "def nat_num(num):\n",
        "  if num < 0:\n",
        "    print(\"Input Natural Number\")\n",
        "  else:\n",
        "    sum=0\n",
        "    for i in range(1,num+1):\n",
        "      sum +=i\n",
        "      i -=1\n",
        "    print(sum)\n",
        "\n",
        "nat_num(5)\n",
        "\n"
      ],
      "execution_count": null,
      "outputs": [
        {
          "output_type": "stream",
          "text": [
            "15\n"
          ],
          "name": "stdout"
        }
      ]
    },
    {
      "cell_type": "code",
      "metadata": {
        "id": "G4ceNW7XoHVC"
      },
      "source": [
        ""
      ],
      "execution_count": null,
      "outputs": []
    }
  ]
}