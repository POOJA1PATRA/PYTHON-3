{
  "nbformat": 4,
  "nbformat_minor": 0,
  "metadata": {
    "colab": {
      "name": "PPBA01.ipynb",
      "provenance": []
    },
    "kernelspec": {
      "name": "python3",
      "display_name": "Python 3"
    },
    "language_info": {
      "name": "python"
    }
  },
  "cells": [
    {
      "cell_type": "markdown",
      "metadata": {
        "id": "qnryLRKqkkhf"
      },
      "source": [
        "1.\tWrite a Python program to print \"Hello Python\"?\n",
        "\n",
        "> Indented block\n",
        "\n"
      ]
    },
    {
      "cell_type": "code",
      "metadata": {
        "colab": {
          "base_uri": "https://localhost:8080/"
        },
        "id": "vAeO6TS-k2n3",
        "outputId": "a88d576f-357b-40c6-c93e-c99a1a5a92bf"
      },
      "source": [
        "print(\"Hello Python\")"
      ],
      "execution_count": null,
      "outputs": [
        {
          "output_type": "stream",
          "text": [
            "Hello Python\n"
          ],
          "name": "stdout"
        }
      ]
    },
    {
      "cell_type": "code",
      "metadata": {
        "id": "H4TAew7QMtkl"
      },
      "source": [
        "#solution 1\n",
        "\n",
        "print(\"Hello Python\")"
      ],
      "execution_count": null,
      "outputs": []
    },
    {
      "cell_type": "markdown",
      "metadata": {
        "id": "dgGSuNtvk9v1"
      },
      "source": [
        "2.\tWrite a Python program to do arithmetical operations addition and division.?"
      ]
    },
    {
      "cell_type": "code",
      "metadata": {
        "colab": {
          "base_uri": "https://localhost:8080/"
        },
        "id": "IAXYhvoGlA4d",
        "outputId": "4c60a8cc-7b15-4339-e3f7-14e831ac1aaa"
      },
      "source": [
        "a = 4\n",
        "b = 2\n",
        "print(a+b)\n",
        "print(a/b)\n"
      ],
      "execution_count": null,
      "outputs": [
        {
          "output_type": "stream",
          "text": [
            "6\n",
            "2.0\n"
          ],
          "name": "stdout"
        }
      ]
    },
    {
      "cell_type": "code",
      "metadata": {
        "id": "G7Hhz_TCM1FZ"
      },
      "source": [
        "#solution 2\n",
        " a = 4\n",
        " b = 2\n",
        " # Arithmetic addition\n",
        " c = a + b\n",
        "\n",
        " #division\n",
        "\n",
        " d = a/b\n",
        "\n",
        " print(c)\n",
        " print(d)"
      ],
      "execution_count": null,
      "outputs": []
    },
    {
      "cell_type": "markdown",
      "metadata": {
        "id": "QOG89KTolSjE"
      },
      "source": [
        "3.\tWrite a Python program to find the area of a triangle?"
      ]
    },
    {
      "cell_type": "code",
      "metadata": {
        "colab": {
          "base_uri": "https://localhost:8080/"
        },
        "id": "giw2UFV2lVX0",
        "outputId": "a519a44a-b88c-440e-e214-cd8767150b01"
      },
      "source": [
        "def area(b,h):\n",
        "  return (1/2) * (b * h)\n",
        "area(40, 5)"
      ],
      "execution_count": null,
      "outputs": [
        {
          "output_type": "execute_result",
          "data": {
            "text/plain": [
              "100.0"
            ]
          },
          "metadata": {
            "tags": []
          },
          "execution_count": 51
        }
      ]
    },
    {
      "cell_type": "code",
      "metadata": {
        "colab": {
          "base_uri": "https://localhost:8080/"
        },
        "id": "G2j93FrPNZ21",
        "outputId": "e4c8867c-9a6f-4b9b-d616-d9f0707fe20f"
      },
      "source": [
        "b = 30\n",
        "h = 10\n",
        " # area of triangle\n",
        "area = 1/2*(b*h)\n",
        "print(area)"
      ],
      "execution_count": null,
      "outputs": [
        {
          "output_type": "stream",
          "text": [
            "150.0\n"
          ],
          "name": "stdout"
        }
      ]
    },
    {
      "cell_type": "markdown",
      "metadata": {
        "id": "Lp6aDpt9wVsS"
      },
      "source": [
        "4.\tWrite a Python program to swap two variables?"
      ]
    },
    {
      "cell_type": "markdown",
      "metadata": {
        "id": "WheHrt3EyDDf"
      },
      "source": [
        ""
      ]
    },
    {
      "cell_type": "code",
      "metadata": {
        "colab": {
          "base_uri": "https://localhost:8080/"
        },
        "id": "xOUrhGmewW0K",
        "outputId": "07fd8786-f3bd-49de-c122-871da3197982"
      },
      "source": [
        "def swapv(a,b):\n",
        "  c=a+b\n",
        "  d=a+b\n",
        "  a=c-a\n",
        "  b=c-b\n",
        "  print(a,b)\n",
        "\n",
        "swapv(5,6)"
      ],
      "execution_count": null,
      "outputs": [
        {
          "output_type": "stream",
          "text": [
            "6 5\n"
          ],
          "name": "stdout"
        }
      ]
    },
    {
      "cell_type": "code",
      "metadata": {
        "id": "7d4ubT2KN-8p"
      },
      "source": [
        "a = 5\n",
        "b = 10\n",
        "\n",
        "print(\"Number before swapping\"\n",
        ")\n",
        "\n",
        "c=a\n",
        "a =b\n",
        "b =c"
      ],
      "execution_count": null,
      "outputs": []
    },
    {
      "cell_type": "markdown",
      "metadata": {
        "id": "nkCC7KVWyGNe"
      },
      "source": [
        "5.\tWrite a Python program to generate a random number?"
      ]
    },
    {
      "cell_type": "code",
      "metadata": {
        "colab": {
          "base_uri": "https://localhost:8080/"
        },
        "id": "CjIWm3rRyNg9",
        "outputId": "ceedd0d8-d586-4e79-a2ae-c372f40e4b79"
      },
      "source": [
        "import random\n",
        "def ran():\n",
        "  for x in range(10):\n",
        "    print(random.randrange(2,60,2))\n",
        "\n",
        "ran()"
      ],
      "execution_count": null,
      "outputs": [
        {
          "output_type": "stream",
          "text": [
            "32\n",
            "28\n",
            "44\n",
            "26\n",
            "30\n",
            "44\n",
            "2\n",
            "54\n",
            "42\n",
            "48\n"
          ],
          "name": "stdout"
        }
      ]
    },
    {
      "cell_type": "code",
      "metadata": {
        "id": "RWV9wM6FPxJ_"
      },
      "source": [
        ""
      ],
      "execution_count": null,
      "outputs": []
    },
    {
      "cell_type": "markdown",
      "metadata": {
        "id": "agPtjey3zlzD"
      },
      "source": [
        ""
      ]
    }
  ]
}